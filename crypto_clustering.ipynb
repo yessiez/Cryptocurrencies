{
 "cells": [
  {
   "cell_type": "markdown",
   "source": [
    "# Clustering Crypto"
   ],
   "metadata": {}
  },
  {
   "cell_type": "code",
   "execution_count": 11,
   "source": [
    "# Initial imports\n",
    "import pandas as pd\n",
    "import hvplot.pandas\n",
    "from path import Path\n",
    "import plotly.express as px\n",
    "from sklearn.preprocessing import StandardScaler\n",
    "from sklearn.preprocessing import MinMaxScaler\n",
    "from sklearn.decomposition import PCA\n",
    "from sklearn.cluster import KMeans\n",
    "import hvplot.pandas\n",
    "from bokeh.sampledata.autompg import autompg_clean as df"
   ],
   "outputs": [],
   "metadata": {}
  },
  {
   "cell_type": "markdown",
   "source": [
    "## Deliverable 1: Preprocessing the Data for PCA\n",
    "\n",
    "### 1. Read in the crypto_data.csv to the Pandas DataFrame named crypto_df."
   ],
   "metadata": {}
  },
  {
   "cell_type": "code",
   "execution_count": 12,
   "source": [
    "# Load the crypto_data.csv dataset.\n",
    "file_path = \"Resources/crypto_data.csv\"\n",
    "crypto_df = pd.read_csv(file_path, index_col=0)"
   ],
   "outputs": [],
   "metadata": {}
  },
  {
   "cell_type": "markdown",
   "source": [
    "### 2. Keep all the cryptocurrencies that are being traded."
   ],
   "metadata": {}
  },
  {
   "cell_type": "code",
   "execution_count": 13,
   "source": [
    "# Keep all the cryptocurrencies that are being traded.\n",
    "#crypto_df = df.copy()\n",
    "crypto_df[crypto_df['IsTrading']== True]"
   ],
   "outputs": [
    {
     "output_type": "execute_result",
     "data": {
      "text/plain": [
       "         CoinName    Algorithm  IsTrading ProofType  TotalCoinsMined  \\\n",
       "42        42 Coin       Scrypt       True   PoW/PoS     4.199995e+01   \n",
       "365       365Coin          X11       True   PoW/PoS              NaN   \n",
       "404       404Coin       Scrypt       True   PoW/PoS     1.055185e+09   \n",
       "611     SixEleven      SHA-256       True       PoW              NaN   \n",
       "808           808      SHA-256       True   PoW/PoS     0.000000e+00   \n",
       "...           ...          ...        ...       ...              ...   \n",
       "SERO   Super Zero       Ethash       True       PoW              NaN   \n",
       "UOS           UOS      SHA-256       True      DPoI              NaN   \n",
       "BDX        Beldex  CryptoNight       True       PoW     9.802226e+08   \n",
       "ZEN       Horizen     Equihash       True       PoW     7.296538e+06   \n",
       "XBC   BitcoinPlus       Scrypt       True       PoS     1.283270e+05   \n",
       "\n",
       "     TotalCoinSupply  \n",
       "42                42  \n",
       "365       2300000000  \n",
       "404        532000000  \n",
       "611           611000  \n",
       "808                0  \n",
       "...              ...  \n",
       "SERO      1000000000  \n",
       "UOS       1000000000  \n",
       "BDX       1400222610  \n",
       "ZEN         21000000  \n",
       "XBC          1000000  \n",
       "\n",
       "[1144 rows x 6 columns]"
      ],
      "text/html": [
       "<div>\n",
       "<style scoped>\n",
       "    .dataframe tbody tr th:only-of-type {\n",
       "        vertical-align: middle;\n",
       "    }\n",
       "\n",
       "    .dataframe tbody tr th {\n",
       "        vertical-align: top;\n",
       "    }\n",
       "\n",
       "    .dataframe thead th {\n",
       "        text-align: right;\n",
       "    }\n",
       "</style>\n",
       "<table border=\"1\" class=\"dataframe\">\n",
       "  <thead>\n",
       "    <tr style=\"text-align: right;\">\n",
       "      <th></th>\n",
       "      <th>CoinName</th>\n",
       "      <th>Algorithm</th>\n",
       "      <th>IsTrading</th>\n",
       "      <th>ProofType</th>\n",
       "      <th>TotalCoinsMined</th>\n",
       "      <th>TotalCoinSupply</th>\n",
       "    </tr>\n",
       "  </thead>\n",
       "  <tbody>\n",
       "    <tr>\n",
       "      <th>42</th>\n",
       "      <td>42 Coin</td>\n",
       "      <td>Scrypt</td>\n",
       "      <td>True</td>\n",
       "      <td>PoW/PoS</td>\n",
       "      <td>4.199995e+01</td>\n",
       "      <td>42</td>\n",
       "    </tr>\n",
       "    <tr>\n",
       "      <th>365</th>\n",
       "      <td>365Coin</td>\n",
       "      <td>X11</td>\n",
       "      <td>True</td>\n",
       "      <td>PoW/PoS</td>\n",
       "      <td>NaN</td>\n",
       "      <td>2300000000</td>\n",
       "    </tr>\n",
       "    <tr>\n",
       "      <th>404</th>\n",
       "      <td>404Coin</td>\n",
       "      <td>Scrypt</td>\n",
       "      <td>True</td>\n",
       "      <td>PoW/PoS</td>\n",
       "      <td>1.055185e+09</td>\n",
       "      <td>532000000</td>\n",
       "    </tr>\n",
       "    <tr>\n",
       "      <th>611</th>\n",
       "      <td>SixEleven</td>\n",
       "      <td>SHA-256</td>\n",
       "      <td>True</td>\n",
       "      <td>PoW</td>\n",
       "      <td>NaN</td>\n",
       "      <td>611000</td>\n",
       "    </tr>\n",
       "    <tr>\n",
       "      <th>808</th>\n",
       "      <td>808</td>\n",
       "      <td>SHA-256</td>\n",
       "      <td>True</td>\n",
       "      <td>PoW/PoS</td>\n",
       "      <td>0.000000e+00</td>\n",
       "      <td>0</td>\n",
       "    </tr>\n",
       "    <tr>\n",
       "      <th>...</th>\n",
       "      <td>...</td>\n",
       "      <td>...</td>\n",
       "      <td>...</td>\n",
       "      <td>...</td>\n",
       "      <td>...</td>\n",
       "      <td>...</td>\n",
       "    </tr>\n",
       "    <tr>\n",
       "      <th>SERO</th>\n",
       "      <td>Super Zero</td>\n",
       "      <td>Ethash</td>\n",
       "      <td>True</td>\n",
       "      <td>PoW</td>\n",
       "      <td>NaN</td>\n",
       "      <td>1000000000</td>\n",
       "    </tr>\n",
       "    <tr>\n",
       "      <th>UOS</th>\n",
       "      <td>UOS</td>\n",
       "      <td>SHA-256</td>\n",
       "      <td>True</td>\n",
       "      <td>DPoI</td>\n",
       "      <td>NaN</td>\n",
       "      <td>1000000000</td>\n",
       "    </tr>\n",
       "    <tr>\n",
       "      <th>BDX</th>\n",
       "      <td>Beldex</td>\n",
       "      <td>CryptoNight</td>\n",
       "      <td>True</td>\n",
       "      <td>PoW</td>\n",
       "      <td>9.802226e+08</td>\n",
       "      <td>1400222610</td>\n",
       "    </tr>\n",
       "    <tr>\n",
       "      <th>ZEN</th>\n",
       "      <td>Horizen</td>\n",
       "      <td>Equihash</td>\n",
       "      <td>True</td>\n",
       "      <td>PoW</td>\n",
       "      <td>7.296538e+06</td>\n",
       "      <td>21000000</td>\n",
       "    </tr>\n",
       "    <tr>\n",
       "      <th>XBC</th>\n",
       "      <td>BitcoinPlus</td>\n",
       "      <td>Scrypt</td>\n",
       "      <td>True</td>\n",
       "      <td>PoS</td>\n",
       "      <td>1.283270e+05</td>\n",
       "      <td>1000000</td>\n",
       "    </tr>\n",
       "  </tbody>\n",
       "</table>\n",
       "<p>1144 rows × 6 columns</p>\n",
       "</div>"
      ]
     },
     "metadata": {},
     "execution_count": 13
    }
   ],
   "metadata": {}
  },
  {
   "cell_type": "code",
   "execution_count": 14,
   "source": [
    "# Keep all the cryptocurrencies that have a working algorithm.\n",
    "crypto_df[crypto_df[\"Algorithm\"] != \"N/A\"]"
   ],
   "outputs": [
    {
     "output_type": "execute_result",
     "data": {
      "text/plain": [
       "            CoinName Algorithm  IsTrading ProofType  TotalCoinsMined  \\\n",
       "42           42 Coin    Scrypt       True   PoW/PoS     4.199995e+01   \n",
       "365          365Coin       X11       True   PoW/PoS              NaN   \n",
       "404          404Coin    Scrypt       True   PoW/PoS     1.055185e+09   \n",
       "611        SixEleven   SHA-256       True       PoW              NaN   \n",
       "808              808   SHA-256       True   PoW/PoS     0.000000e+00   \n",
       "...              ...       ...        ...       ...              ...   \n",
       "XBC      BitcoinPlus    Scrypt       True       PoS     1.283270e+05   \n",
       "DVTC      DivotyCoin    Scrypt      False   PoW/PoS     2.149121e+07   \n",
       "GIOT     Giotto Coin    Scrypt      False   PoW/PoS              NaN   \n",
       "OPSC  OpenSourceCoin   SHA-256      False   PoW/PoS              NaN   \n",
       "PUNK       SteamPunk       PoS      False       PoS              NaN   \n",
       "\n",
       "     TotalCoinSupply  \n",
       "42                42  \n",
       "365       2300000000  \n",
       "404        532000000  \n",
       "611           611000  \n",
       "808                0  \n",
       "...              ...  \n",
       "XBC          1000000  \n",
       "DVTC       100000000  \n",
       "GIOT       233100000  \n",
       "OPSC        21000000  \n",
       "PUNK        40000000  \n",
       "\n",
       "[1252 rows x 6 columns]"
      ],
      "text/html": [
       "<div>\n",
       "<style scoped>\n",
       "    .dataframe tbody tr th:only-of-type {\n",
       "        vertical-align: middle;\n",
       "    }\n",
       "\n",
       "    .dataframe tbody tr th {\n",
       "        vertical-align: top;\n",
       "    }\n",
       "\n",
       "    .dataframe thead th {\n",
       "        text-align: right;\n",
       "    }\n",
       "</style>\n",
       "<table border=\"1\" class=\"dataframe\">\n",
       "  <thead>\n",
       "    <tr style=\"text-align: right;\">\n",
       "      <th></th>\n",
       "      <th>CoinName</th>\n",
       "      <th>Algorithm</th>\n",
       "      <th>IsTrading</th>\n",
       "      <th>ProofType</th>\n",
       "      <th>TotalCoinsMined</th>\n",
       "      <th>TotalCoinSupply</th>\n",
       "    </tr>\n",
       "  </thead>\n",
       "  <tbody>\n",
       "    <tr>\n",
       "      <th>42</th>\n",
       "      <td>42 Coin</td>\n",
       "      <td>Scrypt</td>\n",
       "      <td>True</td>\n",
       "      <td>PoW/PoS</td>\n",
       "      <td>4.199995e+01</td>\n",
       "      <td>42</td>\n",
       "    </tr>\n",
       "    <tr>\n",
       "      <th>365</th>\n",
       "      <td>365Coin</td>\n",
       "      <td>X11</td>\n",
       "      <td>True</td>\n",
       "      <td>PoW/PoS</td>\n",
       "      <td>NaN</td>\n",
       "      <td>2300000000</td>\n",
       "    </tr>\n",
       "    <tr>\n",
       "      <th>404</th>\n",
       "      <td>404Coin</td>\n",
       "      <td>Scrypt</td>\n",
       "      <td>True</td>\n",
       "      <td>PoW/PoS</td>\n",
       "      <td>1.055185e+09</td>\n",
       "      <td>532000000</td>\n",
       "    </tr>\n",
       "    <tr>\n",
       "      <th>611</th>\n",
       "      <td>SixEleven</td>\n",
       "      <td>SHA-256</td>\n",
       "      <td>True</td>\n",
       "      <td>PoW</td>\n",
       "      <td>NaN</td>\n",
       "      <td>611000</td>\n",
       "    </tr>\n",
       "    <tr>\n",
       "      <th>808</th>\n",
       "      <td>808</td>\n",
       "      <td>SHA-256</td>\n",
       "      <td>True</td>\n",
       "      <td>PoW/PoS</td>\n",
       "      <td>0.000000e+00</td>\n",
       "      <td>0</td>\n",
       "    </tr>\n",
       "    <tr>\n",
       "      <th>...</th>\n",
       "      <td>...</td>\n",
       "      <td>...</td>\n",
       "      <td>...</td>\n",
       "      <td>...</td>\n",
       "      <td>...</td>\n",
       "      <td>...</td>\n",
       "    </tr>\n",
       "    <tr>\n",
       "      <th>XBC</th>\n",
       "      <td>BitcoinPlus</td>\n",
       "      <td>Scrypt</td>\n",
       "      <td>True</td>\n",
       "      <td>PoS</td>\n",
       "      <td>1.283270e+05</td>\n",
       "      <td>1000000</td>\n",
       "    </tr>\n",
       "    <tr>\n",
       "      <th>DVTC</th>\n",
       "      <td>DivotyCoin</td>\n",
       "      <td>Scrypt</td>\n",
       "      <td>False</td>\n",
       "      <td>PoW/PoS</td>\n",
       "      <td>2.149121e+07</td>\n",
       "      <td>100000000</td>\n",
       "    </tr>\n",
       "    <tr>\n",
       "      <th>GIOT</th>\n",
       "      <td>Giotto Coin</td>\n",
       "      <td>Scrypt</td>\n",
       "      <td>False</td>\n",
       "      <td>PoW/PoS</td>\n",
       "      <td>NaN</td>\n",
       "      <td>233100000</td>\n",
       "    </tr>\n",
       "    <tr>\n",
       "      <th>OPSC</th>\n",
       "      <td>OpenSourceCoin</td>\n",
       "      <td>SHA-256</td>\n",
       "      <td>False</td>\n",
       "      <td>PoW/PoS</td>\n",
       "      <td>NaN</td>\n",
       "      <td>21000000</td>\n",
       "    </tr>\n",
       "    <tr>\n",
       "      <th>PUNK</th>\n",
       "      <td>SteamPunk</td>\n",
       "      <td>PoS</td>\n",
       "      <td>False</td>\n",
       "      <td>PoS</td>\n",
       "      <td>NaN</td>\n",
       "      <td>40000000</td>\n",
       "    </tr>\n",
       "  </tbody>\n",
       "</table>\n",
       "<p>1252 rows × 6 columns</p>\n",
       "</div>"
      ]
     },
     "metadata": {},
     "execution_count": 14
    }
   ],
   "metadata": {}
  },
  {
   "cell_type": "markdown",
   "source": [
    "### 3. Drop the `IsTrading` column."
   ],
   "metadata": {}
  },
  {
   "cell_type": "code",
   "execution_count": 15,
   "source": [
    "# Remove the \"IsTrading\" column. \n",
    "crypto_df.drop(columns=[\"IsTrading\"], inplace=True)"
   ],
   "outputs": [],
   "metadata": {}
  },
  {
   "cell_type": "markdown",
   "source": [
    "### 4. Remove rows that have at least one null value."
   ],
   "metadata": {}
  },
  {
   "cell_type": "code",
   "execution_count": 16,
   "source": [
    "# Remove rows that have at least 1 null value.\n",
    "crypto_df = crypto_df[crypto_df['TotalCoinsMined'].notna()]\n",
    "crypto_df = crypto_df.dropna()"
   ],
   "outputs": [],
   "metadata": {}
  },
  {
   "cell_type": "markdown",
   "source": [
    "### 5. Filter the crypto_df DataFrame so it only has rows where coins have been mined.\n"
   ],
   "metadata": {}
  },
  {
   "cell_type": "code",
   "execution_count": 17,
   "source": [
    "# Keep the rows where coins are mined.\n",
    "crypto_df[crypto_df[\"TotalCoinsMined\"]>0]"
   ],
   "outputs": [
    {
     "output_type": "execute_result",
     "data": {
      "text/plain": [
       "         CoinName    Algorithm ProofType  TotalCoinsMined TotalCoinSupply\n",
       "42        42 Coin       Scrypt   PoW/PoS     4.199995e+01              42\n",
       "404       404Coin       Scrypt   PoW/PoS     1.055185e+09       532000000\n",
       "1337    EliteCoin          X13   PoW/PoS     2.927942e+10    314159265359\n",
       "BTC       Bitcoin      SHA-256       PoW     1.792718e+07        21000000\n",
       "ETH      Ethereum       Ethash       PoW     1.076842e+08               0\n",
       "...           ...          ...       ...              ...             ...\n",
       "GAP       Gapcoin       Scrypt   PoW/PoS     1.493105e+07       250000000\n",
       "BDX        Beldex  CryptoNight       PoW     9.802226e+08      1400222610\n",
       "ZEN       Horizen     Equihash       PoW     7.296538e+06        21000000\n",
       "XBC   BitcoinPlus       Scrypt       PoS     1.283270e+05         1000000\n",
       "DVTC   DivotyCoin       Scrypt   PoW/PoS     2.149121e+07       100000000\n",
       "\n",
       "[577 rows x 5 columns]"
      ],
      "text/html": [
       "<div>\n",
       "<style scoped>\n",
       "    .dataframe tbody tr th:only-of-type {\n",
       "        vertical-align: middle;\n",
       "    }\n",
       "\n",
       "    .dataframe tbody tr th {\n",
       "        vertical-align: top;\n",
       "    }\n",
       "\n",
       "    .dataframe thead th {\n",
       "        text-align: right;\n",
       "    }\n",
       "</style>\n",
       "<table border=\"1\" class=\"dataframe\">\n",
       "  <thead>\n",
       "    <tr style=\"text-align: right;\">\n",
       "      <th></th>\n",
       "      <th>CoinName</th>\n",
       "      <th>Algorithm</th>\n",
       "      <th>ProofType</th>\n",
       "      <th>TotalCoinsMined</th>\n",
       "      <th>TotalCoinSupply</th>\n",
       "    </tr>\n",
       "  </thead>\n",
       "  <tbody>\n",
       "    <tr>\n",
       "      <th>42</th>\n",
       "      <td>42 Coin</td>\n",
       "      <td>Scrypt</td>\n",
       "      <td>PoW/PoS</td>\n",
       "      <td>4.199995e+01</td>\n",
       "      <td>42</td>\n",
       "    </tr>\n",
       "    <tr>\n",
       "      <th>404</th>\n",
       "      <td>404Coin</td>\n",
       "      <td>Scrypt</td>\n",
       "      <td>PoW/PoS</td>\n",
       "      <td>1.055185e+09</td>\n",
       "      <td>532000000</td>\n",
       "    </tr>\n",
       "    <tr>\n",
       "      <th>1337</th>\n",
       "      <td>EliteCoin</td>\n",
       "      <td>X13</td>\n",
       "      <td>PoW/PoS</td>\n",
       "      <td>2.927942e+10</td>\n",
       "      <td>314159265359</td>\n",
       "    </tr>\n",
       "    <tr>\n",
       "      <th>BTC</th>\n",
       "      <td>Bitcoin</td>\n",
       "      <td>SHA-256</td>\n",
       "      <td>PoW</td>\n",
       "      <td>1.792718e+07</td>\n",
       "      <td>21000000</td>\n",
       "    </tr>\n",
       "    <tr>\n",
       "      <th>ETH</th>\n",
       "      <td>Ethereum</td>\n",
       "      <td>Ethash</td>\n",
       "      <td>PoW</td>\n",
       "      <td>1.076842e+08</td>\n",
       "      <td>0</td>\n",
       "    </tr>\n",
       "    <tr>\n",
       "      <th>...</th>\n",
       "      <td>...</td>\n",
       "      <td>...</td>\n",
       "      <td>...</td>\n",
       "      <td>...</td>\n",
       "      <td>...</td>\n",
       "    </tr>\n",
       "    <tr>\n",
       "      <th>GAP</th>\n",
       "      <td>Gapcoin</td>\n",
       "      <td>Scrypt</td>\n",
       "      <td>PoW/PoS</td>\n",
       "      <td>1.493105e+07</td>\n",
       "      <td>250000000</td>\n",
       "    </tr>\n",
       "    <tr>\n",
       "      <th>BDX</th>\n",
       "      <td>Beldex</td>\n",
       "      <td>CryptoNight</td>\n",
       "      <td>PoW</td>\n",
       "      <td>9.802226e+08</td>\n",
       "      <td>1400222610</td>\n",
       "    </tr>\n",
       "    <tr>\n",
       "      <th>ZEN</th>\n",
       "      <td>Horizen</td>\n",
       "      <td>Equihash</td>\n",
       "      <td>PoW</td>\n",
       "      <td>7.296538e+06</td>\n",
       "      <td>21000000</td>\n",
       "    </tr>\n",
       "    <tr>\n",
       "      <th>XBC</th>\n",
       "      <td>BitcoinPlus</td>\n",
       "      <td>Scrypt</td>\n",
       "      <td>PoS</td>\n",
       "      <td>1.283270e+05</td>\n",
       "      <td>1000000</td>\n",
       "    </tr>\n",
       "    <tr>\n",
       "      <th>DVTC</th>\n",
       "      <td>DivotyCoin</td>\n",
       "      <td>Scrypt</td>\n",
       "      <td>PoW/PoS</td>\n",
       "      <td>2.149121e+07</td>\n",
       "      <td>100000000</td>\n",
       "    </tr>\n",
       "  </tbody>\n",
       "</table>\n",
       "<p>577 rows × 5 columns</p>\n",
       "</div>"
      ]
     },
     "metadata": {},
     "execution_count": 17
    }
   ],
   "metadata": {}
  },
  {
   "cell_type": "markdown",
   "source": [
    "### 6. Create a new DataFrame that holds only the cryptocurrency names, and use the crypto_df DataFrame index as the index for this new DataFrame."
   ],
   "metadata": {}
  },
  {
   "cell_type": "code",
   "execution_count": 18,
   "source": [
    "# Create a new DataFrame that holds only the cryptocurrencies names.\n",
    "coin_name = crypto_df[\"CoinName\"]\n",
    "\n",
    "#coin_name.head()\n",
    "\n",
    "    #data = crypto_pca, columns=[\"PC 1\", \"PC 2\", \"PC 3\"],\n",
    "    #index=crypto_df.index"
   ],
   "outputs": [],
   "metadata": {}
  },
  {
   "cell_type": "code",
   "execution_count": 19,
   "source": [
    "# Drop the 'CoinName' column since it's not going to be used on the clustering algorithm.\n",
    "crypto_df.drop(columns=[\"CoinName\"], inplace=True)"
   ],
   "outputs": [],
   "metadata": {}
  },
  {
   "cell_type": "code",
   "execution_count": 20,
   "source": [
    "crypto_df.head()"
   ],
   "outputs": [
    {
     "output_type": "execute_result",
     "data": {
      "text/plain": [
       "     Algorithm ProofType  TotalCoinsMined TotalCoinSupply\n",
       "42      Scrypt   PoW/PoS     4.199995e+01              42\n",
       "404     Scrypt   PoW/PoS     1.055185e+09       532000000\n",
       "808    SHA-256   PoW/PoS     0.000000e+00               0\n",
       "1337       X13   PoW/PoS     2.927942e+10    314159265359\n",
       "BTC    SHA-256       PoW     1.792718e+07        21000000"
      ],
      "text/html": [
       "<div>\n",
       "<style scoped>\n",
       "    .dataframe tbody tr th:only-of-type {\n",
       "        vertical-align: middle;\n",
       "    }\n",
       "\n",
       "    .dataframe tbody tr th {\n",
       "        vertical-align: top;\n",
       "    }\n",
       "\n",
       "    .dataframe thead th {\n",
       "        text-align: right;\n",
       "    }\n",
       "</style>\n",
       "<table border=\"1\" class=\"dataframe\">\n",
       "  <thead>\n",
       "    <tr style=\"text-align: right;\">\n",
       "      <th></th>\n",
       "      <th>Algorithm</th>\n",
       "      <th>ProofType</th>\n",
       "      <th>TotalCoinsMined</th>\n",
       "      <th>TotalCoinSupply</th>\n",
       "    </tr>\n",
       "  </thead>\n",
       "  <tbody>\n",
       "    <tr>\n",
       "      <th>42</th>\n",
       "      <td>Scrypt</td>\n",
       "      <td>PoW/PoS</td>\n",
       "      <td>4.199995e+01</td>\n",
       "      <td>42</td>\n",
       "    </tr>\n",
       "    <tr>\n",
       "      <th>404</th>\n",
       "      <td>Scrypt</td>\n",
       "      <td>PoW/PoS</td>\n",
       "      <td>1.055185e+09</td>\n",
       "      <td>532000000</td>\n",
       "    </tr>\n",
       "    <tr>\n",
       "      <th>808</th>\n",
       "      <td>SHA-256</td>\n",
       "      <td>PoW/PoS</td>\n",
       "      <td>0.000000e+00</td>\n",
       "      <td>0</td>\n",
       "    </tr>\n",
       "    <tr>\n",
       "      <th>1337</th>\n",
       "      <td>X13</td>\n",
       "      <td>PoW/PoS</td>\n",
       "      <td>2.927942e+10</td>\n",
       "      <td>314159265359</td>\n",
       "    </tr>\n",
       "    <tr>\n",
       "      <th>BTC</th>\n",
       "      <td>SHA-256</td>\n",
       "      <td>PoW</td>\n",
       "      <td>1.792718e+07</td>\n",
       "      <td>21000000</td>\n",
       "    </tr>\n",
       "  </tbody>\n",
       "</table>\n",
       "</div>"
      ]
     },
     "metadata": {},
     "execution_count": 20
    }
   ],
   "metadata": {}
  },
  {
   "cell_type": "code",
   "execution_count": 21,
   "source": [
    "# Use get_dummies() to create variables for text features.\n",
    "X = pd.get_dummies(crypto_df, columns=['Algorithm','ProofType'])\n",
    "X"
   ],
   "outputs": [
    {
     "output_type": "execute_result",
     "data": {
      "text/plain": [
       "      TotalCoinsMined TotalCoinSupply  Algorithm_1GB AES Pattern Search  \\\n",
       "42       4.199995e+01              42                                 0   \n",
       "404      1.055185e+09       532000000                                 0   \n",
       "808      0.000000e+00               0                                 0   \n",
       "1337     2.927942e+10    314159265359                                 0   \n",
       "BTC      1.792718e+07        21000000                                 0   \n",
       "...               ...             ...                               ...   \n",
       "GAP      1.493105e+07       250000000                                 0   \n",
       "BDX      9.802226e+08      1400222610                                 0   \n",
       "ZEN      7.296538e+06        21000000                                 0   \n",
       "XBC      1.283270e+05         1000000                                 0   \n",
       "DVTC     2.149121e+07       100000000                                 0   \n",
       "\n",
       "      Algorithm_536  Algorithm_Argon2  Algorithm_Argon2d  Algorithm_BLAKE256  \\\n",
       "42                0                 0                  0                   0   \n",
       "404               0                 0                  0                   0   \n",
       "808               0                 0                  0                   0   \n",
       "1337              0                 0                  0                   0   \n",
       "BTC               0                 0                  0                   0   \n",
       "...             ...               ...                ...                 ...   \n",
       "GAP               0                 0                  0                   0   \n",
       "BDX               0                 0                  0                   0   \n",
       "ZEN               0                 0                  0                   0   \n",
       "XBC               0                 0                  0                   0   \n",
       "DVTC              0                 0                  0                   0   \n",
       "\n",
       "      Algorithm_Blake  Algorithm_Blake2S  Algorithm_Blake2b  ...  \\\n",
       "42                  0                  0                  0  ...   \n",
       "404                 0                  0                  0  ...   \n",
       "808                 0                  0                  0  ...   \n",
       "1337                0                  0                  0  ...   \n",
       "BTC                 0                  0                  0  ...   \n",
       "...               ...                ...                ...  ...   \n",
       "GAP                 0                  0                  0  ...   \n",
       "BDX                 0                  0                  0  ...   \n",
       "ZEN                 0                  0                  0  ...   \n",
       "XBC                 0                  0                  0  ...   \n",
       "DVTC                0                  0                  0  ...   \n",
       "\n",
       "      ProofType_PoW/PoS  ProofType_PoW/PoS   ProofType_PoW/PoW  \\\n",
       "42                    1                   0                  0   \n",
       "404                   1                   0                  0   \n",
       "808                   1                   0                  0   \n",
       "1337                  1                   0                  0   \n",
       "BTC                   0                   0                  0   \n",
       "...                 ...                 ...                ...   \n",
       "GAP                   1                   0                  0   \n",
       "BDX                   0                   0                  0   \n",
       "ZEN                   0                   0                  0   \n",
       "XBC                   0                   0                  0   \n",
       "DVTC                  1                   0                  0   \n",
       "\n",
       "      ProofType_PoW/nPoS  ProofType_Pos  ProofType_Proof of Authority  \\\n",
       "42                     0              0                             0   \n",
       "404                    0              0                             0   \n",
       "808                    0              0                             0   \n",
       "1337                   0              0                             0   \n",
       "BTC                    0              0                             0   \n",
       "...                  ...            ...                           ...   \n",
       "GAP                    0              0                             0   \n",
       "BDX                    0              0                             0   \n",
       "ZEN                    0              0                             0   \n",
       "XBC                    0              0                             0   \n",
       "DVTC                   0              0                             0   \n",
       "\n",
       "      ProofType_Proof of Trust  ProofType_TPoS  \\\n",
       "42                           0               0   \n",
       "404                          0               0   \n",
       "808                          0               0   \n",
       "1337                         0               0   \n",
       "BTC                          0               0   \n",
       "...                        ...             ...   \n",
       "GAP                          0               0   \n",
       "BDX                          0               0   \n",
       "ZEN                          0               0   \n",
       "XBC                          0               0   \n",
       "DVTC                         0               0   \n",
       "\n",
       "      ProofType_Zero-Knowledge Proof  ProofType_dPoW/PoW  \n",
       "42                                 0                   0  \n",
       "404                                0                   0  \n",
       "808                                0                   0  \n",
       "1337                               0                   0  \n",
       "BTC                                0                   0  \n",
       "...                              ...                 ...  \n",
       "GAP                                0                   0  \n",
       "BDX                                0                   0  \n",
       "ZEN                                0                   0  \n",
       "XBC                                0                   0  \n",
       "DVTC                               0                   0  \n",
       "\n",
       "[744 rows x 113 columns]"
      ],
      "text/html": [
       "<div>\n",
       "<style scoped>\n",
       "    .dataframe tbody tr th:only-of-type {\n",
       "        vertical-align: middle;\n",
       "    }\n",
       "\n",
       "    .dataframe tbody tr th {\n",
       "        vertical-align: top;\n",
       "    }\n",
       "\n",
       "    .dataframe thead th {\n",
       "        text-align: right;\n",
       "    }\n",
       "</style>\n",
       "<table border=\"1\" class=\"dataframe\">\n",
       "  <thead>\n",
       "    <tr style=\"text-align: right;\">\n",
       "      <th></th>\n",
       "      <th>TotalCoinsMined</th>\n",
       "      <th>TotalCoinSupply</th>\n",
       "      <th>Algorithm_1GB AES Pattern Search</th>\n",
       "      <th>Algorithm_536</th>\n",
       "      <th>Algorithm_Argon2</th>\n",
       "      <th>Algorithm_Argon2d</th>\n",
       "      <th>Algorithm_BLAKE256</th>\n",
       "      <th>Algorithm_Blake</th>\n",
       "      <th>Algorithm_Blake2S</th>\n",
       "      <th>Algorithm_Blake2b</th>\n",
       "      <th>...</th>\n",
       "      <th>ProofType_PoW/PoS</th>\n",
       "      <th>ProofType_PoW/PoS</th>\n",
       "      <th>ProofType_PoW/PoW</th>\n",
       "      <th>ProofType_PoW/nPoS</th>\n",
       "      <th>ProofType_Pos</th>\n",
       "      <th>ProofType_Proof of Authority</th>\n",
       "      <th>ProofType_Proof of Trust</th>\n",
       "      <th>ProofType_TPoS</th>\n",
       "      <th>ProofType_Zero-Knowledge Proof</th>\n",
       "      <th>ProofType_dPoW/PoW</th>\n",
       "    </tr>\n",
       "  </thead>\n",
       "  <tbody>\n",
       "    <tr>\n",
       "      <th>42</th>\n",
       "      <td>4.199995e+01</td>\n",
       "      <td>42</td>\n",
       "      <td>0</td>\n",
       "      <td>0</td>\n",
       "      <td>0</td>\n",
       "      <td>0</td>\n",
       "      <td>0</td>\n",
       "      <td>0</td>\n",
       "      <td>0</td>\n",
       "      <td>0</td>\n",
       "      <td>...</td>\n",
       "      <td>1</td>\n",
       "      <td>0</td>\n",
       "      <td>0</td>\n",
       "      <td>0</td>\n",
       "      <td>0</td>\n",
       "      <td>0</td>\n",
       "      <td>0</td>\n",
       "      <td>0</td>\n",
       "      <td>0</td>\n",
       "      <td>0</td>\n",
       "    </tr>\n",
       "    <tr>\n",
       "      <th>404</th>\n",
       "      <td>1.055185e+09</td>\n",
       "      <td>532000000</td>\n",
       "      <td>0</td>\n",
       "      <td>0</td>\n",
       "      <td>0</td>\n",
       "      <td>0</td>\n",
       "      <td>0</td>\n",
       "      <td>0</td>\n",
       "      <td>0</td>\n",
       "      <td>0</td>\n",
       "      <td>...</td>\n",
       "      <td>1</td>\n",
       "      <td>0</td>\n",
       "      <td>0</td>\n",
       "      <td>0</td>\n",
       "      <td>0</td>\n",
       "      <td>0</td>\n",
       "      <td>0</td>\n",
       "      <td>0</td>\n",
       "      <td>0</td>\n",
       "      <td>0</td>\n",
       "    </tr>\n",
       "    <tr>\n",
       "      <th>808</th>\n",
       "      <td>0.000000e+00</td>\n",
       "      <td>0</td>\n",
       "      <td>0</td>\n",
       "      <td>0</td>\n",
       "      <td>0</td>\n",
       "      <td>0</td>\n",
       "      <td>0</td>\n",
       "      <td>0</td>\n",
       "      <td>0</td>\n",
       "      <td>0</td>\n",
       "      <td>...</td>\n",
       "      <td>1</td>\n",
       "      <td>0</td>\n",
       "      <td>0</td>\n",
       "      <td>0</td>\n",
       "      <td>0</td>\n",
       "      <td>0</td>\n",
       "      <td>0</td>\n",
       "      <td>0</td>\n",
       "      <td>0</td>\n",
       "      <td>0</td>\n",
       "    </tr>\n",
       "    <tr>\n",
       "      <th>1337</th>\n",
       "      <td>2.927942e+10</td>\n",
       "      <td>314159265359</td>\n",
       "      <td>0</td>\n",
       "      <td>0</td>\n",
       "      <td>0</td>\n",
       "      <td>0</td>\n",
       "      <td>0</td>\n",
       "      <td>0</td>\n",
       "      <td>0</td>\n",
       "      <td>0</td>\n",
       "      <td>...</td>\n",
       "      <td>1</td>\n",
       "      <td>0</td>\n",
       "      <td>0</td>\n",
       "      <td>0</td>\n",
       "      <td>0</td>\n",
       "      <td>0</td>\n",
       "      <td>0</td>\n",
       "      <td>0</td>\n",
       "      <td>0</td>\n",
       "      <td>0</td>\n",
       "    </tr>\n",
       "    <tr>\n",
       "      <th>BTC</th>\n",
       "      <td>1.792718e+07</td>\n",
       "      <td>21000000</td>\n",
       "      <td>0</td>\n",
       "      <td>0</td>\n",
       "      <td>0</td>\n",
       "      <td>0</td>\n",
       "      <td>0</td>\n",
       "      <td>0</td>\n",
       "      <td>0</td>\n",
       "      <td>0</td>\n",
       "      <td>...</td>\n",
       "      <td>0</td>\n",
       "      <td>0</td>\n",
       "      <td>0</td>\n",
       "      <td>0</td>\n",
       "      <td>0</td>\n",
       "      <td>0</td>\n",
       "      <td>0</td>\n",
       "      <td>0</td>\n",
       "      <td>0</td>\n",
       "      <td>0</td>\n",
       "    </tr>\n",
       "    <tr>\n",
       "      <th>...</th>\n",
       "      <td>...</td>\n",
       "      <td>...</td>\n",
       "      <td>...</td>\n",
       "      <td>...</td>\n",
       "      <td>...</td>\n",
       "      <td>...</td>\n",
       "      <td>...</td>\n",
       "      <td>...</td>\n",
       "      <td>...</td>\n",
       "      <td>...</td>\n",
       "      <td>...</td>\n",
       "      <td>...</td>\n",
       "      <td>...</td>\n",
       "      <td>...</td>\n",
       "      <td>...</td>\n",
       "      <td>...</td>\n",
       "      <td>...</td>\n",
       "      <td>...</td>\n",
       "      <td>...</td>\n",
       "      <td>...</td>\n",
       "      <td>...</td>\n",
       "    </tr>\n",
       "    <tr>\n",
       "      <th>GAP</th>\n",
       "      <td>1.493105e+07</td>\n",
       "      <td>250000000</td>\n",
       "      <td>0</td>\n",
       "      <td>0</td>\n",
       "      <td>0</td>\n",
       "      <td>0</td>\n",
       "      <td>0</td>\n",
       "      <td>0</td>\n",
       "      <td>0</td>\n",
       "      <td>0</td>\n",
       "      <td>...</td>\n",
       "      <td>1</td>\n",
       "      <td>0</td>\n",
       "      <td>0</td>\n",
       "      <td>0</td>\n",
       "      <td>0</td>\n",
       "      <td>0</td>\n",
       "      <td>0</td>\n",
       "      <td>0</td>\n",
       "      <td>0</td>\n",
       "      <td>0</td>\n",
       "    </tr>\n",
       "    <tr>\n",
       "      <th>BDX</th>\n",
       "      <td>9.802226e+08</td>\n",
       "      <td>1400222610</td>\n",
       "      <td>0</td>\n",
       "      <td>0</td>\n",
       "      <td>0</td>\n",
       "      <td>0</td>\n",
       "      <td>0</td>\n",
       "      <td>0</td>\n",
       "      <td>0</td>\n",
       "      <td>0</td>\n",
       "      <td>...</td>\n",
       "      <td>0</td>\n",
       "      <td>0</td>\n",
       "      <td>0</td>\n",
       "      <td>0</td>\n",
       "      <td>0</td>\n",
       "      <td>0</td>\n",
       "      <td>0</td>\n",
       "      <td>0</td>\n",
       "      <td>0</td>\n",
       "      <td>0</td>\n",
       "    </tr>\n",
       "    <tr>\n",
       "      <th>ZEN</th>\n",
       "      <td>7.296538e+06</td>\n",
       "      <td>21000000</td>\n",
       "      <td>0</td>\n",
       "      <td>0</td>\n",
       "      <td>0</td>\n",
       "      <td>0</td>\n",
       "      <td>0</td>\n",
       "      <td>0</td>\n",
       "      <td>0</td>\n",
       "      <td>0</td>\n",
       "      <td>...</td>\n",
       "      <td>0</td>\n",
       "      <td>0</td>\n",
       "      <td>0</td>\n",
       "      <td>0</td>\n",
       "      <td>0</td>\n",
       "      <td>0</td>\n",
       "      <td>0</td>\n",
       "      <td>0</td>\n",
       "      <td>0</td>\n",
       "      <td>0</td>\n",
       "    </tr>\n",
       "    <tr>\n",
       "      <th>XBC</th>\n",
       "      <td>1.283270e+05</td>\n",
       "      <td>1000000</td>\n",
       "      <td>0</td>\n",
       "      <td>0</td>\n",
       "      <td>0</td>\n",
       "      <td>0</td>\n",
       "      <td>0</td>\n",
       "      <td>0</td>\n",
       "      <td>0</td>\n",
       "      <td>0</td>\n",
       "      <td>...</td>\n",
       "      <td>0</td>\n",
       "      <td>0</td>\n",
       "      <td>0</td>\n",
       "      <td>0</td>\n",
       "      <td>0</td>\n",
       "      <td>0</td>\n",
       "      <td>0</td>\n",
       "      <td>0</td>\n",
       "      <td>0</td>\n",
       "      <td>0</td>\n",
       "    </tr>\n",
       "    <tr>\n",
       "      <th>DVTC</th>\n",
       "      <td>2.149121e+07</td>\n",
       "      <td>100000000</td>\n",
       "      <td>0</td>\n",
       "      <td>0</td>\n",
       "      <td>0</td>\n",
       "      <td>0</td>\n",
       "      <td>0</td>\n",
       "      <td>0</td>\n",
       "      <td>0</td>\n",
       "      <td>0</td>\n",
       "      <td>...</td>\n",
       "      <td>1</td>\n",
       "      <td>0</td>\n",
       "      <td>0</td>\n",
       "      <td>0</td>\n",
       "      <td>0</td>\n",
       "      <td>0</td>\n",
       "      <td>0</td>\n",
       "      <td>0</td>\n",
       "      <td>0</td>\n",
       "      <td>0</td>\n",
       "    </tr>\n",
       "  </tbody>\n",
       "</table>\n",
       "<p>744 rows × 113 columns</p>\n",
       "</div>"
      ]
     },
     "metadata": {},
     "execution_count": 21
    }
   ],
   "metadata": {}
  },
  {
   "cell_type": "code",
   "execution_count": 22,
   "source": [
    "# Standardize the data with StandardScaler\n",
    "X_scaled = StandardScaler().fit_transform(X)"
   ],
   "outputs": [],
   "metadata": {}
  },
  {
   "cell_type": "markdown",
   "source": [
    "## Deliverable 2: Reducing Data Dimensions Using PCA"
   ],
   "metadata": {}
  },
  {
   "cell_type": "code",
   "execution_count": 23,
   "source": [
    "# Using PCA to reduce dimension to three principal components.\n",
    "pca = PCA(n_components=3)\n",
    "crypto_pca = pca.fit_transform(X_scaled)"
   ],
   "outputs": [],
   "metadata": {}
  },
  {
   "cell_type": "code",
   "execution_count": 24,
   "source": [
    "# Create a DataFrame with the three principal components.\n",
    "pcs_df = pd.DataFrame(\n",
    "    data = crypto_pca, columns=[\"PC 1\", \"PC 2\", \"PC 3\"],\n",
    "    index=crypto_df.index\n",
    ")\n",
    "pcs_df.head()"
   ],
   "outputs": [
    {
     "output_type": "execute_result",
     "data": {
      "text/plain": [
       "          PC 1      PC 2      PC 3\n",
       "42   -0.255115  1.240322 -0.282425\n",
       "404  -0.240578  1.239540 -0.282309\n",
       "808  -0.119649  0.844768 -0.245559\n",
       "1337  0.321545  2.017951 -0.373423\n",
       "BTC  -0.162435 -1.453961  0.046928"
      ],
      "text/html": [
       "<div>\n",
       "<style scoped>\n",
       "    .dataframe tbody tr th:only-of-type {\n",
       "        vertical-align: middle;\n",
       "    }\n",
       "\n",
       "    .dataframe tbody tr th {\n",
       "        vertical-align: top;\n",
       "    }\n",
       "\n",
       "    .dataframe thead th {\n",
       "        text-align: right;\n",
       "    }\n",
       "</style>\n",
       "<table border=\"1\" class=\"dataframe\">\n",
       "  <thead>\n",
       "    <tr style=\"text-align: right;\">\n",
       "      <th></th>\n",
       "      <th>PC 1</th>\n",
       "      <th>PC 2</th>\n",
       "      <th>PC 3</th>\n",
       "    </tr>\n",
       "  </thead>\n",
       "  <tbody>\n",
       "    <tr>\n",
       "      <th>42</th>\n",
       "      <td>-0.255115</td>\n",
       "      <td>1.240322</td>\n",
       "      <td>-0.282425</td>\n",
       "    </tr>\n",
       "    <tr>\n",
       "      <th>404</th>\n",
       "      <td>-0.240578</td>\n",
       "      <td>1.239540</td>\n",
       "      <td>-0.282309</td>\n",
       "    </tr>\n",
       "    <tr>\n",
       "      <th>808</th>\n",
       "      <td>-0.119649</td>\n",
       "      <td>0.844768</td>\n",
       "      <td>-0.245559</td>\n",
       "    </tr>\n",
       "    <tr>\n",
       "      <th>1337</th>\n",
       "      <td>0.321545</td>\n",
       "      <td>2.017951</td>\n",
       "      <td>-0.373423</td>\n",
       "    </tr>\n",
       "    <tr>\n",
       "      <th>BTC</th>\n",
       "      <td>-0.162435</td>\n",
       "      <td>-1.453961</td>\n",
       "      <td>0.046928</td>\n",
       "    </tr>\n",
       "  </tbody>\n",
       "</table>\n",
       "</div>"
      ]
     },
     "metadata": {},
     "execution_count": 24
    }
   ],
   "metadata": {}
  },
  {
   "cell_type": "markdown",
   "source": [
    "## Deliverable 3: Clustering Crytocurrencies Using K-Means\n",
    "\n",
    "#### Finding the Best Value for `k` Using the Elbow Curve"
   ],
   "metadata": {}
  },
  {
   "cell_type": "code",
   "execution_count": 25,
   "source": [
    "# Find the best value for K\n",
    "inertia = []\n",
    "k = list(range(1, 11))\n",
    "\n",
    "# Calculate the inertia for the range of k values\n",
    "for i in k:\n",
    "    km = KMeans(n_clusters=i, random_state=0)\n",
    "    km.fit(pcs_df)\n",
    "    inertia.append(km.inertia_)\n",
    "\n",
    "# Create the Elbow Curve using hvPlot\n",
    "elbow_data = {\"k\": k, \"inertia\": inertia}\n",
    "df_elbow = pd.DataFrame(elbow_data)\n",
    "df_elbow.hvplot.line(x=\"k\", y=\"inertia\", xticks=k, title=\"Elbow Curve\")"
   ],
   "outputs": [
    {
     "output_type": "display_data",
     "data": {},
     "metadata": {}
    },
    {
     "output_type": "execute_result",
     "data": {
      "application/vnd.holoviews_exec.v0+json": "",
      "text/plain": [
       ":Curve   [k]   (inertia)"
      ],
      "text/html": [
       "<div id='1002'>\n",
       "\n",
       "\n",
       "\n",
       "\n",
       "\n",
       "  <div class=\"bk-root\" id=\"2d21a2f1-5120-465c-8017-0f87d0789c4d\" data-root-id=\"1002\"></div>\n",
       "</div>\n",
       "<script type=\"application/javascript\">(function(root) {\n",
       "  function embed_document(root) {\n",
       "    var docs_json = {\"3119dee6-cb7e-49ce-8052-c1834bd15146\":{\"defs\":[{\"extends\":null,\"module\":null,\"name\":\"ReactiveHTML1\",\"overrides\":[],\"properties\":[]},{\"extends\":null,\"module\":null,\"name\":\"FlexBox1\",\"overrides\":[],\"properties\":[{\"default\":\"flex-start\",\"kind\":null,\"name\":\"align_content\"},{\"default\":\"flex-start\",\"kind\":null,\"name\":\"align_items\"},{\"default\":\"row\",\"kind\":null,\"name\":\"flex_direction\"},{\"default\":\"wrap\",\"kind\":null,\"name\":\"flex_wrap\"},{\"default\":\"flex-start\",\"kind\":null,\"name\":\"justify_content\"}]},{\"extends\":null,\"module\":null,\"name\":\"TemplateActions1\",\"overrides\":[],\"properties\":[{\"default\":0,\"kind\":null,\"name\":\"open_modal\"},{\"default\":0,\"kind\":null,\"name\":\"close_modal\"}]},{\"extends\":null,\"module\":null,\"name\":\"MaterialTemplateActions1\",\"overrides\":[],\"properties\":[{\"default\":0,\"kind\":null,\"name\":\"open_modal\"},{\"default\":0,\"kind\":null,\"name\":\"close_modal\"}]}],\"roots\":{\"references\":[{\"attributes\":{\"line_alpha\":0.1,\"line_color\":\"#30a2da\",\"line_width\":2,\"x\":{\"field\":\"k\"},\"y\":{\"field\":\"inertia\"}},\"id\":\"1041\",\"type\":\"Line\"},{\"attributes\":{},\"id\":\"1024\",\"type\":\"SaveTool\"},{\"attributes\":{},\"id\":\"1047\",\"type\":\"AllLabels\"},{\"attributes\":{},\"id\":\"1025\",\"type\":\"PanTool\"},{\"attributes\":{\"margin\":[5,5,5,5],\"name\":\"HSpacer01631\",\"sizing_mode\":\"stretch_width\"},\"id\":\"1003\",\"type\":\"Spacer\"},{\"attributes\":{},\"id\":\"1026\",\"type\":\"WheelZoomTool\"},{\"attributes\":{\"below\":[{\"id\":\"1016\"}],\"center\":[{\"id\":\"1019\"},{\"id\":\"1023\"}],\"height\":300,\"left\":[{\"id\":\"1020\"}],\"margin\":[5,5,5,5],\"min_border_bottom\":10,\"min_border_left\":10,\"min_border_right\":10,\"min_border_top\":10,\"renderers\":[{\"id\":\"1043\"}],\"sizing_mode\":\"fixed\",\"title\":{\"id\":\"1008\"},\"toolbar\":{\"id\":\"1030\"},\"width\":700,\"x_range\":{\"id\":\"1004\"},\"x_scale\":{\"id\":\"1012\"},\"y_range\":{\"id\":\"1005\"},\"y_scale\":{\"id\":\"1014\"}},\"id\":\"1007\",\"subtype\":\"Figure\",\"type\":\"Plot\"},{\"attributes\":{},\"id\":\"1012\",\"type\":\"LinearScale\"},{\"attributes\":{\"overlay\":{\"id\":\"1029\"}},\"id\":\"1027\",\"type\":\"BoxZoomTool\"},{\"attributes\":{\"axis_label\":\"k\",\"formatter\":{\"id\":\"1048\"},\"major_label_policy\":{\"id\":\"1047\"},\"ticker\":{\"id\":\"1046\"}},\"id\":\"1016\",\"type\":\"LinearAxis\"},{\"attributes\":{},\"id\":\"1014\",\"type\":\"LinearScale\"},{\"attributes\":{\"end\":10.0,\"reset_end\":10.0,\"reset_start\":1.0,\"start\":1.0,\"tags\":[[[\"k\",\"k\",null]]]},\"id\":\"1004\",\"type\":\"Range1d\"},{\"attributes\":{\"line_color\":\"#30a2da\",\"line_width\":2,\"x\":{\"field\":\"k\"},\"y\":{\"field\":\"inertia\"}},\"id\":\"1040\",\"type\":\"Line\"},{\"attributes\":{\"children\":[{\"id\":\"1003\"},{\"id\":\"1007\"},{\"id\":\"1073\"}],\"margin\":[0,0,0,0],\"name\":\"Row01627\",\"tags\":[\"embedded\"]},\"id\":\"1002\",\"type\":\"Row\"},{\"attributes\":{\"margin\":[5,5,5,5],\"name\":\"HSpacer01632\",\"sizing_mode\":\"stretch_width\"},\"id\":\"1073\",\"type\":\"Spacer\"},{\"attributes\":{},\"id\":\"1052\",\"type\":\"AllLabels\"},{\"attributes\":{},\"id\":\"1028\",\"type\":\"ResetTool\"},{\"attributes\":{\"data\":{\"inertia\":{\"__ndarray__\":\"Vk3sAB5gskCBtZPSiheqQL29HrERzKFAMYu74KtBkkCOBNlTzCKEQEE10CkLBXVA35cANjeWb0CjJ7F+s9JpQK1zw91C9GRAXCEdFHYTYUA=\",\"dtype\":\"float64\",\"order\":\"little\",\"shape\":[10]},\"k\":[1,2,3,4,5,6,7,8,9,10]},\"selected\":{\"id\":\"1038\"},\"selection_policy\":{\"id\":\"1061\"}},\"id\":\"1037\",\"type\":\"ColumnDataSource\"},{\"attributes\":{},\"id\":\"1053\",\"type\":\"BasicTickFormatter\"},{\"attributes\":{\"callback\":null,\"renderers\":[{\"id\":\"1043\"}],\"tags\":[\"hv_created\"],\"tooltips\":[[\"k\",\"@{k}\"],[\"inertia\",\"@{inertia}\"]]},\"id\":\"1006\",\"type\":\"HoverTool\"},{\"attributes\":{\"axis\":{\"id\":\"1020\"},\"dimension\":1,\"grid_line_color\":null,\"ticker\":null},\"id\":\"1023\",\"type\":\"Grid\"},{\"attributes\":{\"text\":\"Elbow Curve\",\"text_color\":\"black\",\"text_font_size\":\"12pt\"},\"id\":\"1008\",\"type\":\"Title\"},{\"attributes\":{\"data_source\":{\"id\":\"1037\"},\"glyph\":{\"id\":\"1040\"},\"hover_glyph\":null,\"muted_glyph\":{\"id\":\"1042\"},\"nonselection_glyph\":{\"id\":\"1041\"},\"selection_glyph\":{\"id\":\"1045\"},\"view\":{\"id\":\"1044\"}},\"id\":\"1043\",\"type\":\"GlyphRenderer\"},{\"attributes\":{},\"id\":\"1048\",\"type\":\"BasicTickFormatter\"},{\"attributes\":{\"axis\":{\"id\":\"1016\"},\"grid_line_color\":null,\"ticker\":null},\"id\":\"1019\",\"type\":\"Grid\"},{\"attributes\":{},\"id\":\"1061\",\"type\":\"UnionRenderers\"},{\"attributes\":{},\"id\":\"1021\",\"type\":\"BasicTicker\"},{\"attributes\":{\"axis_label\":\"inertia\",\"formatter\":{\"id\":\"1053\"},\"major_label_policy\":{\"id\":\"1052\"},\"ticker\":{\"id\":\"1021\"}},\"id\":\"1020\",\"type\":\"LinearAxis\"},{\"attributes\":{\"line_color\":\"#30a2da\",\"line_width\":2,\"x\":{\"field\":\"k\"},\"y\":{\"field\":\"inertia\"}},\"id\":\"1045\",\"type\":\"Line\"},{\"attributes\":{},\"id\":\"1038\",\"type\":\"Selection\"},{\"attributes\":{\"line_alpha\":0.2,\"line_color\":\"#30a2da\",\"line_width\":2,\"x\":{\"field\":\"k\"},\"y\":{\"field\":\"inertia\"}},\"id\":\"1042\",\"type\":\"Line\"},{\"attributes\":{\"ticks\":[1,2,3,4,5,6,7,8,9,10]},\"id\":\"1046\",\"type\":\"FixedTicker\"},{\"attributes\":{\"source\":{\"id\":\"1037\"}},\"id\":\"1044\",\"type\":\"CDSView\"},{\"attributes\":{\"bottom_units\":\"screen\",\"fill_alpha\":0.5,\"fill_color\":\"lightgrey\",\"left_units\":\"screen\",\"level\":\"overlay\",\"line_alpha\":1.0,\"line_color\":\"black\",\"line_dash\":[4,4],\"line_width\":2,\"right_units\":\"screen\",\"syncable\":false,\"top_units\":\"screen\"},\"id\":\"1029\",\"type\":\"BoxAnnotation\"},{\"attributes\":{\"end\":5160.868105354385,\"reset_end\":5160.868105354385,\"reset_start\":-320.1427398818049,\"start\":-320.1427398818049,\"tags\":[[[\"inertia\",\"inertia\",null]]]},\"id\":\"1005\",\"type\":\"Range1d\"},{\"attributes\":{\"active_multi\":null,\"tools\":[{\"id\":\"1006\"},{\"id\":\"1024\"},{\"id\":\"1025\"},{\"id\":\"1026\"},{\"id\":\"1027\"},{\"id\":\"1028\"}]},\"id\":\"1030\",\"type\":\"Toolbar\"}],\"root_ids\":[\"1002\"]},\"title\":\"Bokeh Application\",\"version\":\"2.3.2\"}};\n",
       "    var render_items = [{\"docid\":\"3119dee6-cb7e-49ce-8052-c1834bd15146\",\"root_ids\":[\"1002\"],\"roots\":{\"1002\":\"2d21a2f1-5120-465c-8017-0f87d0789c4d\"}}];\n",
       "    root.Bokeh.embed.embed_items_notebook(docs_json, render_items);\n",
       "  }\n",
       "  if (root.Bokeh !== undefined && root.Bokeh.Panel !== undefined) {\n",
       "    embed_document(root);\n",
       "  } else {\n",
       "    var attempts = 0;\n",
       "    var timer = setInterval(function(root) {\n",
       "      if (root.Bokeh !== undefined && root.Bokeh.Panel !== undefined) {\n",
       "        clearInterval(timer);\n",
       "        embed_document(root);\n",
       "      } else if (document.readyState == \"complete\") {\n",
       "        attempts++;\n",
       "        if (attempts > 200) {\n",
       "          clearInterval(timer);\n",
       "          console.log(\"Bokeh: ERROR: Unable to run BokehJS code because BokehJS library is missing\");\n",
       "        }\n",
       "      }\n",
       "    }, 25, root)\n",
       "  }\n",
       "})(window);</script>"
      ]
     },
     "metadata": {
      "application/vnd.holoviews_exec.v0+json": {
       "id": "1002"
      }
     },
     "execution_count": 25
    }
   ],
   "metadata": {}
  },
  {
   "cell_type": "markdown",
   "source": [
    "Running K-Means with `k=4`"
   ],
   "metadata": {}
  },
  {
   "cell_type": "code",
   "execution_count": 26,
   "source": [
    "# Initialize the K-Means model.\n",
    "model = KMeans(n_clusters=4, random_state=0)\n",
    "\n",
    "# Fit the model\n",
    "model.fit(pcs_df)\n",
    "\n",
    "# Predict clusters\n",
    "predictions = model.predict(pcs_df)\n",
    "predictions"
   ],
   "outputs": [
    {
     "output_type": "execute_result",
     "data": {
      "text/plain": [
       "array([2, 2, 2, 2, 0, 0, 0, 2, 0, 0, 0, 2, 0, 2, 2, 2, 0, 2, 0, 0, 2, 2,\n",
       "       2, 0, 2, 0, 2, 0, 0, 0, 0, 0, 2, 0, 0, 0, 0, 2, 0, 2, 0, 2, 0, 2,\n",
       "       2, 0, 2, 2, 2, 0, 2, 0, 0, 0, 0, 0, 0, 0, 2, 0, 2, 2, 0, 2, 0, 0,\n",
       "       0, 0, 0, 2, 2, 2, 0, 2, 0, 2, 0, 2, 2, 0, 0, 0, 0, 2, 2, 0, 0, 2,\n",
       "       0, 2, 2, 2, 0, 0, 0, 0, 2, 2, 2, 2, 2, 0, 0, 0, 2, 2, 0, 0, 0, 2,\n",
       "       2, 0, 2, 0, 2, 2, 0, 0, 0, 0, 0, 2, 2, 2, 0, 0, 2, 0, 0, 2, 2, 2,\n",
       "       0, 2, 2, 2, 0, 0, 2, 2, 0, 2, 0, 2, 2, 0, 2, 0, 2, 0, 2, 0, 2, 2,\n",
       "       2, 2, 0, 2, 0, 0, 2, 0, 0, 2, 0, 2, 2, 0, 0, 0, 0, 0, 0, 0, 0, 2,\n",
       "       2, 0, 2, 0, 2, 0, 0, 2, 0, 2, 2, 2, 0, 0, 2, 0, 2, 2, 0, 2, 2, 2,\n",
       "       0, 0, 2, 0, 0, 0, 2, 2, 0, 0, 2, 2, 0, 2, 0, 2, 2, 0, 0, 2, 0, 0,\n",
       "       0, 0, 0, 2, 0, 0, 2, 0, 2, 2, 2, 2, 0, 0, 0, 2, 2, 2, 2, 2, 0, 2,\n",
       "       2, 2, 2, 2, 2, 2, 0, 2, 2, 2, 2, 2, 0, 2, 0, 2, 2, 2, 0, 2, 0, 2,\n",
       "       2, 0, 2, 0, 2, 2, 0, 2, 0, 2, 2, 2, 0, 2, 0, 0, 0, 2, 2, 0, 2, 2,\n",
       "       2, 0, 0, 0, 2, 2, 2, 0, 0, 0, 2, 2, 2, 2, 2, 2, 2, 0, 2, 2, 2, 2,\n",
       "       2, 2, 2, 2, 0, 2, 2, 2, 2, 2, 2, 0, 0, 2, 0, 2, 2, 2, 2, 2, 2, 0,\n",
       "       2, 0, 2, 0, 0, 2, 2, 0, 0, 2, 0, 0, 2, 0, 0, 0, 0, 2, 0, 2, 2, 2,\n",
       "       0, 2, 2, 2, 0, 2, 2, 2, 2, 2, 0, 2, 2, 0, 0, 2, 0, 2, 2, 2, 2, 2,\n",
       "       0, 2, 0, 2, 0, 0, 0, 0, 2, 0, 2, 2, 0, 2, 0, 2, 0, 0, 2, 0, 2, 0,\n",
       "       0, 0, 2, 0, 2, 0, 2, 0, 2, 2, 0, 2, 0, 0, 0, 0, 0, 0, 2, 2, 0, 2,\n",
       "       2, 2, 0, 2, 0, 2, 0, 2, 0, 2, 2, 2, 2, 0, 2, 2, 0, 2, 2, 2, 2, 2,\n",
       "       2, 0, 0, 0, 0, 0, 2, 0, 2, 0, 2, 2, 2, 2, 2, 0, 0, 2, 2, 0, 0, 0,\n",
       "       2, 0, 2, 0, 0, 0, 2, 2, 0, 2, 2, 2, 0, 0, 2, 2, 2, 0, 0, 2, 0, 0,\n",
       "       2, 2, 2, 2, 0, 0, 0, 0, 2, 2, 2, 0, 0, 2, 0, 0, 2, 0, 2, 0, 0, 0,\n",
       "       2, 0, 0, 2, 2, 3, 0, 0, 0, 2, 2, 0, 0, 2, 0, 2, 2, 2, 2, 2, 2, 2,\n",
       "       0, 0, 0, 0, 0, 0, 0, 2, 0, 0, 2, 0, 2, 2, 0, 0, 2, 0, 0, 2, 2, 2,\n",
       "       2, 0, 2, 2, 2, 0, 0, 2, 2, 0, 2, 2, 0, 0, 2, 0, 2, 0, 2, 2, 0, 2,\n",
       "       2, 0, 0, 2, 2, 0, 2, 2, 0, 2, 0, 2, 2, 2, 2, 2, 0, 2, 2, 2, 0, 0,\n",
       "       0, 2, 2, 2, 2, 2, 2, 2, 2, 2, 0, 0, 0, 2, 0, 0, 2, 0, 0, 0, 2, 0,\n",
       "       2, 2, 2, 0, 2, 0, 2, 2, 2, 0, 2, 2, 2, 2, 2, 0, 3, 2, 0, 2, 0, 0,\n",
       "       0, 0, 0, 2, 0, 2, 0, 2, 0, 2, 0, 2, 0, 2, 0, 0, 0, 0, 0, 0, 0, 0,\n",
       "       0, 2, 0, 2, 0, 2, 2, 0, 0, 2, 2, 0, 2, 2, 2, 0, 0, 0, 0, 2, 2, 2,\n",
       "       0, 2, 0, 0, 2, 0, 2, 2, 0, 2, 2, 2, 2, 0, 0, 2, 2, 2, 0, 2, 0, 0,\n",
       "       2, 2, 0, 2, 2, 2, 0, 0, 2, 2, 2, 2, 2, 0, 2, 2, 3, 0, 2, 0, 0, 2,\n",
       "       2, 0, 2, 0, 2, 2, 2, 2, 2, 1, 0, 2, 2, 2, 0, 0, 2, 2], dtype=int32)"
      ]
     },
     "metadata": {},
     "execution_count": 26
    }
   ],
   "metadata": {}
  },
  {
   "cell_type": "code",
   "execution_count": 27,
   "source": [
    "# Create a new DataFrame including predicted clusters and cryptocurrencies features.\n",
    "# Concatentate the crypto_df and pcs_df DataFrames on the same columns.\n",
    "clustered_df = pd.DataFrame({\n",
    "    \"Algorithm\" : crypto_df.Algorithm,\n",
    "    \"ProofType\" : crypto_df.ProofType,\n",
    "    \"TotalCoinsMined\": crypto_df.TotalCoinsMined,\n",
    "    \"TotalCoinSupply\" : crypto_df.TotalCoinSupply,\n",
    "    \"PC 1\": pcs_df[\"PC 1\"],\n",
    "    \"PC 2\": pcs_df[\"PC 2\"],\n",
    "    \"PC 3\": pcs_df[\"PC 3\"],\n",
    "}, index=crypto_df.index\n",
    ")\n",
    "\n",
    "#  Add a new column, \"CoinName\" to the clustered_df DataFrame that holds the names of the cryptocurrencies. \n",
    "clustered_df[\"CoinName\"] = coin_name\n",
    "\n",
    "#  Add a new column, \"Class\" to the clustered_df DataFrame that holds the predictions.\n",
    "clustered_df[\"Class\"] = model.labels_\n",
    "\n",
    "# Print the shape of the clustered_df\n",
    "print(clustered_df.shape)\n",
    "clustered_df.head(10)"
   ],
   "outputs": [
    {
     "output_type": "stream",
     "name": "stdout",
     "text": [
      "(744, 9)\n"
     ]
    },
    {
     "output_type": "execute_result",
     "data": {
      "text/plain": [
       "           Algorithm ProofType  TotalCoinsMined TotalCoinSupply      PC 1  \\\n",
       "42            Scrypt   PoW/PoS     4.199995e+01              42 -0.255115   \n",
       "404           Scrypt   PoW/PoS     1.055185e+09       532000000 -0.240578   \n",
       "808          SHA-256   PoW/PoS     0.000000e+00               0 -0.119649   \n",
       "1337             X13   PoW/PoS     2.927942e+10    314159265359  0.321545   \n",
       "BTC          SHA-256       PoW     1.792718e+07        21000000 -0.162435   \n",
       "ETH           Ethash       PoW     1.076842e+08               0 -0.288096   \n",
       "LTC           Scrypt       PoW     6.303924e+07        84000000 -0.297279   \n",
       "DASH             X11   PoW/PoS     9.031294e+06        22000000 -0.198963   \n",
       "XMR   CryptoNight-V7       PoW     1.720114e+07               0 -0.270398   \n",
       "ETC           Ethash       PoW     1.133597e+08       210000000 -0.288018   \n",
       "\n",
       "          PC 2      PC 3          CoinName  Class  \n",
       "42    1.240322 -0.282425           42 Coin      2  \n",
       "404   1.239540 -0.282309           404Coin      2  \n",
       "808   0.844768 -0.245559               808      2  \n",
       "1337  2.017951 -0.373423         EliteCoin      2  \n",
       "BTC  -1.453961  0.046928           Bitcoin      0  \n",
       "ETH  -2.161055  0.115879          Ethereum      0  \n",
       "LTC  -1.058440  0.010066          Litecoin      0  \n",
       "DASH  1.539234 -0.292512              Dash      2  \n",
       "XMR  -2.233553  0.199919            Monero      0  \n",
       "ETC  -2.161059  0.115879  Ethereum Classic      0  "
      ],
      "text/html": [
       "<div>\n",
       "<style scoped>\n",
       "    .dataframe tbody tr th:only-of-type {\n",
       "        vertical-align: middle;\n",
       "    }\n",
       "\n",
       "    .dataframe tbody tr th {\n",
       "        vertical-align: top;\n",
       "    }\n",
       "\n",
       "    .dataframe thead th {\n",
       "        text-align: right;\n",
       "    }\n",
       "</style>\n",
       "<table border=\"1\" class=\"dataframe\">\n",
       "  <thead>\n",
       "    <tr style=\"text-align: right;\">\n",
       "      <th></th>\n",
       "      <th>Algorithm</th>\n",
       "      <th>ProofType</th>\n",
       "      <th>TotalCoinsMined</th>\n",
       "      <th>TotalCoinSupply</th>\n",
       "      <th>PC 1</th>\n",
       "      <th>PC 2</th>\n",
       "      <th>PC 3</th>\n",
       "      <th>CoinName</th>\n",
       "      <th>Class</th>\n",
       "    </tr>\n",
       "  </thead>\n",
       "  <tbody>\n",
       "    <tr>\n",
       "      <th>42</th>\n",
       "      <td>Scrypt</td>\n",
       "      <td>PoW/PoS</td>\n",
       "      <td>4.199995e+01</td>\n",
       "      <td>42</td>\n",
       "      <td>-0.255115</td>\n",
       "      <td>1.240322</td>\n",
       "      <td>-0.282425</td>\n",
       "      <td>42 Coin</td>\n",
       "      <td>2</td>\n",
       "    </tr>\n",
       "    <tr>\n",
       "      <th>404</th>\n",
       "      <td>Scrypt</td>\n",
       "      <td>PoW/PoS</td>\n",
       "      <td>1.055185e+09</td>\n",
       "      <td>532000000</td>\n",
       "      <td>-0.240578</td>\n",
       "      <td>1.239540</td>\n",
       "      <td>-0.282309</td>\n",
       "      <td>404Coin</td>\n",
       "      <td>2</td>\n",
       "    </tr>\n",
       "    <tr>\n",
       "      <th>808</th>\n",
       "      <td>SHA-256</td>\n",
       "      <td>PoW/PoS</td>\n",
       "      <td>0.000000e+00</td>\n",
       "      <td>0</td>\n",
       "      <td>-0.119649</td>\n",
       "      <td>0.844768</td>\n",
       "      <td>-0.245559</td>\n",
       "      <td>808</td>\n",
       "      <td>2</td>\n",
       "    </tr>\n",
       "    <tr>\n",
       "      <th>1337</th>\n",
       "      <td>X13</td>\n",
       "      <td>PoW/PoS</td>\n",
       "      <td>2.927942e+10</td>\n",
       "      <td>314159265359</td>\n",
       "      <td>0.321545</td>\n",
       "      <td>2.017951</td>\n",
       "      <td>-0.373423</td>\n",
       "      <td>EliteCoin</td>\n",
       "      <td>2</td>\n",
       "    </tr>\n",
       "    <tr>\n",
       "      <th>BTC</th>\n",
       "      <td>SHA-256</td>\n",
       "      <td>PoW</td>\n",
       "      <td>1.792718e+07</td>\n",
       "      <td>21000000</td>\n",
       "      <td>-0.162435</td>\n",
       "      <td>-1.453961</td>\n",
       "      <td>0.046928</td>\n",
       "      <td>Bitcoin</td>\n",
       "      <td>0</td>\n",
       "    </tr>\n",
       "    <tr>\n",
       "      <th>ETH</th>\n",
       "      <td>Ethash</td>\n",
       "      <td>PoW</td>\n",
       "      <td>1.076842e+08</td>\n",
       "      <td>0</td>\n",
       "      <td>-0.288096</td>\n",
       "      <td>-2.161055</td>\n",
       "      <td>0.115879</td>\n",
       "      <td>Ethereum</td>\n",
       "      <td>0</td>\n",
       "    </tr>\n",
       "    <tr>\n",
       "      <th>LTC</th>\n",
       "      <td>Scrypt</td>\n",
       "      <td>PoW</td>\n",
       "      <td>6.303924e+07</td>\n",
       "      <td>84000000</td>\n",
       "      <td>-0.297279</td>\n",
       "      <td>-1.058440</td>\n",
       "      <td>0.010066</td>\n",
       "      <td>Litecoin</td>\n",
       "      <td>0</td>\n",
       "    </tr>\n",
       "    <tr>\n",
       "      <th>DASH</th>\n",
       "      <td>X11</td>\n",
       "      <td>PoW/PoS</td>\n",
       "      <td>9.031294e+06</td>\n",
       "      <td>22000000</td>\n",
       "      <td>-0.198963</td>\n",
       "      <td>1.539234</td>\n",
       "      <td>-0.292512</td>\n",
       "      <td>Dash</td>\n",
       "      <td>2</td>\n",
       "    </tr>\n",
       "    <tr>\n",
       "      <th>XMR</th>\n",
       "      <td>CryptoNight-V7</td>\n",
       "      <td>PoW</td>\n",
       "      <td>1.720114e+07</td>\n",
       "      <td>0</td>\n",
       "      <td>-0.270398</td>\n",
       "      <td>-2.233553</td>\n",
       "      <td>0.199919</td>\n",
       "      <td>Monero</td>\n",
       "      <td>0</td>\n",
       "    </tr>\n",
       "    <tr>\n",
       "      <th>ETC</th>\n",
       "      <td>Ethash</td>\n",
       "      <td>PoW</td>\n",
       "      <td>1.133597e+08</td>\n",
       "      <td>210000000</td>\n",
       "      <td>-0.288018</td>\n",
       "      <td>-2.161059</td>\n",
       "      <td>0.115879</td>\n",
       "      <td>Ethereum Classic</td>\n",
       "      <td>0</td>\n",
       "    </tr>\n",
       "  </tbody>\n",
       "</table>\n",
       "</div>"
      ]
     },
     "metadata": {},
     "execution_count": 27
    }
   ],
   "metadata": {}
  },
  {
   "cell_type": "markdown",
   "source": [
    "### Deliverable 4: Visualizing Cryptocurrencies Results\n",
    "\n",
    "#### 3D-Scatter with Clusters"
   ],
   "metadata": {}
  },
  {
   "cell_type": "code",
   "execution_count": 28,
   "source": [
    "# Creating a 3D-Scatter with the PCA data and the clusters\n",
    "fig = px.scatter_3d(\n",
    "    clustered_df,\n",
    "    x=\"PC 3\",\n",
    "    y=\"PC 2\",\n",
    "    z=\"PC 1\",\n",
    "    color=\"Class\",\n",
    "    symbol=\"Class\",\n",
    "    width=800,\n",
    "    hover_name = \"CoinName\",\n",
    "    hover_data = [\"Algorithm\"]\n",
    ")\n",
    "fig.update_layout(legend=dict(x=0, y=1))\n",
    "fig.show()"
   ],
   "outputs": [
    {
     "output_type": "display_data",
     "data": {
      "application/vnd.plotly.v1+json": {
       "config": {
        "plotlyServerURL": "https://plot.ly"
       },
       "data": [
        {
         "customdata": [
          [
           "Scrypt"
          ],
          [
           "Scrypt"
          ],
          [
           "SHA-256"
          ],
          [
           "X13"
          ],
          [
           "X11"
          ],
          [
           "SHA-512"
          ],
          [
           "SHA-256"
          ],
          [
           "X11"
          ],
          [
           "SHA-256"
          ],
          [
           "X15"
          ],
          [
           "X13"
          ],
          [
           "X13"
          ],
          [
           "Scrypt"
          ],
          [
           "Scrypt"
          ],
          [
           "Scrypt"
          ],
          [
           "Scrypt"
          ],
          [
           "Scrypt"
          ],
          [
           "Scrypt"
          ],
          [
           "Scrypt"
          ],
          [
           "Multiple"
          ],
          [
           "Scrypt"
          ],
          [
           "Scrypt"
          ],
          [
           "SHA-256"
          ],
          [
           "Groestl"
          ],
          [
           "X11"
          ],
          [
           "PoS"
          ],
          [
           "X11"
          ],
          [
           "NIST5"
          ],
          [
           "Scrypt"
          ],
          [
           "X11"
          ],
          [
           "X15"
          ],
          [
           "Scrypt"
          ],
          [
           "X11"
          ],
          [
           "X11"
          ],
          [
           "X11"
          ],
          [
           "X13"
          ],
          [
           "X11"
          ],
          [
           "SHA3"
          ],
          [
           "Scrypt"
          ],
          [
           "SHA-256"
          ],
          [
           "Scrypt"
          ],
          [
           "X13"
          ],
          [
           "X13"
          ],
          [
           "NeoScrypt"
          ],
          [
           "Scrypt"
          ],
          [
           "Scrypt"
          ],
          [
           "Scrypt"
          ],
          [
           "X15"
          ],
          [
           "Scrypt"
          ],
          [
           "X11"
          ],
          [
           "X11"
          ],
          [
           "Multiple"
          ],
          [
           "PHI1612"
          ],
          [
           "X11"
          ],
          [
           "Scrypt"
          ],
          [
           "Scrypt"
          ],
          [
           "X13"
          ],
          [
           "Scrypt"
          ],
          [
           "Scrypt"
          ],
          [
           "X11"
          ],
          [
           "Multiple"
          ],
          [
           "X13"
          ],
          [
           "Scrypt"
          ],
          [
           "Scrypt"
          ],
          [
           "Shabal256"
          ],
          [
           "Counterparty"
          ],
          [
           "SHA-256"
          ],
          [
           "Scrypt"
          ],
          [
           "Groestl"
          ],
          [
           "Scrypt"
          ],
          [
           "X13"
          ],
          [
           "Scrypt"
          ],
          [
           "SHA-256"
          ],
          [
           "Scrypt"
          ],
          [
           "X13"
          ],
          [
           "X13"
          ],
          [
           "X11"
          ],
          [
           "X11"
          ],
          [
           "X15"
          ],
          [
           "Scrypt"
          ],
          [
           "Scrypt"
          ],
          [
           "Scrypt"
          ],
          [
           "X11"
          ],
          [
           "SHA3"
          ],
          [
           "Scrypt"
          ],
          [
           "QUAIT"
          ],
          [
           "vDPOS"
          ],
          [
           "X11"
          ],
          [
           "X11"
          ],
          [
           "Scrypt"
          ],
          [
           "X11"
          ],
          [
           "X13"
          ],
          [
           "SHA-256"
          ],
          [
           "X13"
          ],
          [
           "X15"
          ],
          [
           "BLAKE256"
          ],
          [
           "SHA-256"
          ],
          [
           "X11"
          ],
          [
           "SHA-256"
          ],
          [
           "Quark"
          ],
          [
           "NIST5"
          ],
          [
           "Scrypt"
          ],
          [
           "Scrypt"
          ],
          [
           "Scrypt"
          ],
          [
           "SHA-256"
          ],
          [
           "X11"
          ],
          [
           "Scrypt"
          ],
          [
           "SHA-256"
          ],
          [
           "Scrypt"
          ],
          [
           "PoS"
          ],
          [
           "X11"
          ],
          [
           "X11"
          ],
          [
           "X11"
          ],
          [
           "PoS"
          ],
          [
           "SHA-256"
          ],
          [
           "SHA-256"
          ],
          [
           "NIST5"
          ],
          [
           "X15"
          ],
          [
           "X11"
          ],
          [
           "NIST5"
          ],
          [
           "Scrypt"
          ],
          [
           "Scrypt"
          ],
          [
           "POS 3.0"
          ],
          [
           "Scrypt"
          ],
          [
           "Scrypt"
          ],
          [
           "Scrypt"
          ],
          [
           "X13"
          ],
          [
           "X11"
          ],
          [
           "X11"
          ],
          [
           "X11"
          ],
          [
           "Scrypt"
          ],
          [
           "SHA-256"
          ],
          [
           "X11"
          ],
          [
           "Scrypt"
          ],
          [
           "Scrypt"
          ],
          [
           "X11"
          ],
          [
           "Scrypt"
          ],
          [
           "Scrypt"
          ],
          [
           "SHA-256D"
          ],
          [
           "PoS"
          ],
          [
           "Scrypt"
          ],
          [
           "X11"
          ],
          [
           "PoS"
          ],
          [
           "X13"
          ],
          [
           "X14"
          ],
          [
           "PoS"
          ],
          [
           "SHA-256D"
          ],
          [
           "DPoS"
          ],
          [
           "X11"
          ],
          [
           "Scrypt"
          ],
          [
           "X13"
          ],
          [
           "X11"
          ],
          [
           "PoS"
          ],
          [
           "SHA-256D"
          ],
          [
           "Scrypt"
          ],
          [
           "Scrypt"
          ],
          [
           "Scrypt"
          ],
          [
           "PoS"
          ],
          [
           "X11"
          ],
          [
           "SHA-256"
          ],
          [
           "Scrypt"
          ],
          [
           "X11"
          ],
          [
           "Scrypt"
          ],
          [
           "Scrypt"
          ],
          [
           "X11"
          ],
          [
           "Scrypt"
          ],
          [
           "Scrypt"
          ],
          [
           "Scrypt"
          ],
          [
           "Scrypt"
          ],
          [
           "Quark"
          ],
          [
           "QuBit"
          ],
          [
           "X11"
          ],
          [
           "X13"
          ],
          [
           "PoS"
          ],
          [
           "Scrypt"
          ],
          [
           "SHA-256"
          ],
          [
           "X11"
          ],
          [
           "X11"
          ],
          [
           "Scrypt"
          ],
          [
           "Scrypt"
          ],
          [
           "Scrypt"
          ],
          [
           "Scrypt"
          ],
          [
           "X13"
          ],
          [
           "Scrypt"
          ],
          [
           "Scrypt"
          ],
          [
           "X11"
          ],
          [
           "Blake2S"
          ],
          [
           "X11"
          ],
          [
           "Scrypt"
          ],
          [
           "PoS"
          ],
          [
           "X11"
          ],
          [
           "PoS"
          ],
          [
           "X11"
          ],
          [
           "Scrypt"
          ],
          [
           "Scrypt"
          ],
          [
           "Scrypt"
          ],
          [
           "SHA-256"
          ],
          [
           "X11"
          ],
          [
           "Scrypt"
          ],
          [
           "PoS"
          ],
          [
           "Scrypt"
          ],
          [
           "X11"
          ],
          [
           "X15"
          ],
          [
           "SHA-256"
          ],
          [
           "POS 3.0"
          ],
          [
           "536"
          ],
          [
           "NIST5"
          ],
          [
           "NIST5"
          ],
          [
           "Skein"
          ],
          [
           "X13"
          ],
          [
           "X11"
          ],
          [
           "Scrypt"
          ],
          [
           "X13"
          ],
          [
           "SkunkHash v2 Raptor"
          ],
          [
           "Skein"
          ],
          [
           "X11"
          ],
          [
           "Scrypt"
          ],
          [
           "VeChainThor Authority"
          ],
          [
           "PoS"
          ],
          [
           "Scrypt"
          ],
          [
           "Scrypt"
          ],
          [
           "SHA-512"
          ],
          [
           "Ouroboros"
          ],
          [
           "X11"
          ],
          [
           "NeoScrypt"
          ],
          [
           "Scrypt"
          ],
          [
           "Lyra2REv2"
          ],
          [
           "Scrypt"
          ],
          [
           "SHA-256"
          ],
          [
           "NIST5"
          ],
          [
           "PHI1612"
          ],
          [
           "Scrypt"
          ],
          [
           "Quark"
          ],
          [
           "POS 2.0"
          ],
          [
           "Scrypt"
          ],
          [
           "SkunkHash"
          ],
          [
           "X11"
          ],
          [
           "Quark"
          ],
          [
           "SHA-256"
          ],
          [
           "Scrypt"
          ],
          [
           "Quark"
          ],
          [
           "Quark"
          ],
          [
           "X11"
          ],
          [
           "DPoS"
          ],
          [
           "NIST5"
          ],
          [
           "X13"
          ],
          [
           "Scrypt"
          ],
          [
           "Scrypt"
          ],
          [
           "NIST5"
          ],
          [
           "Quark"
          ],
          [
           "Scrypt"
          ],
          [
           "Scrypt"
          ],
          [
           "X11"
          ],
          [
           "X11"
          ],
          [
           "SHA-256"
          ],
          [
           "Scrypt"
          ],
          [
           "Scrypt"
          ],
          [
           "Scrypt"
          ],
          [
           "Quark"
          ],
          [
           "Scrypt"
          ],
          [
           "Scrypt"
          ],
          [
           "X11"
          ],
          [
           "Scrypt"
          ],
          [
           "Scrypt"
          ],
          [
           "Scrypt"
          ],
          [
           "POS 3.0"
          ],
          [
           "Scrypt"
          ],
          [
           "Scrypt"
          ],
          [
           "X11"
          ],
          [
           "SHA-256"
          ],
          [
           "X13"
          ],
          [
           "Proof-of-BibleHash"
          ],
          [
           "Skein"
          ],
          [
           "X11"
          ],
          [
           "Skein"
          ],
          [
           "C11"
          ],
          [
           "Proof-of-Authority"
          ],
          [
           "X11"
          ],
          [
           "Scrypt"
          ],
          [
           "XEVAN"
          ],
          [
           "Scrypt"
          ],
          [
           "VBFT"
          ],
          [
           "PHI1612"
          ],
          [
           "NIST5"
          ],
          [
           "Scrypt"
          ],
          [
           "Scrypt"
          ],
          [
           "Scrypt"
          ],
          [
           "Equihash"
          ],
          [
           "Green Protocol"
          ],
          [
           "PoS"
          ],
          [
           "Scrypt"
          ],
          [
           "Scrypt"
          ],
          [
           "Semux BFT consensus"
          ],
          [
           "Scrypt"
          ],
          [
           "Quark"
          ],
          [
           "PoS"
          ],
          [
           "X16R"
          ],
          [
           "Scrypt"
          ],
          [
           "XEVAN"
          ],
          [
           "Scrypt"
          ],
          [
           "Scrypt"
          ],
          [
           "Scrypt"
          ],
          [
           "X11"
          ],
          [
           "SHA-256D"
          ],
          [
           "Scrypt"
          ],
          [
           "Scrypt"
          ],
          [
           "X11"
          ],
          [
           "Scrypt"
          ],
          [
           "SHA-256D"
          ],
          [
           "Scrypt"
          ],
          [
           "X15"
          ],
          [
           "Scrypt"
          ],
          [
           "Quark"
          ],
          [
           "Scrypt"
          ],
          [
           "SHA-256"
          ],
          [
           "SHA-256D"
          ],
          [
           "DPoS"
          ],
          [
           "Scrypt"
          ],
          [
           "X16R"
          ],
          [
           "Quark"
          ],
          [
           "Quark"
          ],
          [
           "Scrypt"
          ],
          [
           "Zhash"
          ],
          [
           "Lyra2REv2"
          ],
          [
           "Quark"
          ],
          [
           "XEVAN"
          ],
          [
           "Scrypt"
          ],
          [
           "Scrypt"
          ],
          [
           "X11"
          ],
          [
           "X11"
          ],
          [
           "Scrypt"
          ],
          [
           "PoS"
          ],
          [
           "Scrypt"
          ],
          [
           "Scrypt"
          ],
          [
           "Keccak"
          ],
          [
           "X11"
          ],
          [
           "Tribus"
          ],
          [
           "Quark"
          ],
          [
           "Scrypt"
          ],
          [
           "NeoScrypt"
          ],
          [
           "SHA-512"
          ],
          [
           "NeoScrypt"
          ],
          [
           "XEVAN"
          ],
          [
           "SHA-512"
          ],
          [
           "Quark"
          ],
          [
           "XEVAN"
          ],
          [
           "X11"
          ],
          [
           "Quark"
          ],
          [
           "Quark"
          ],
          [
           "Scrypt"
          ],
          [
           "Quark"
          ],
          [
           "Quark"
          ],
          [
           "Scrypt"
          ],
          [
           "X11"
          ],
          [
           "Scrypt"
          ],
          [
           "XEVAN"
          ],
          [
           "SHA-256D"
          ],
          [
           "X11"
          ],
          [
           "X11"
          ],
          [
           "DPoS"
          ],
          [
           "X11"
          ],
          [
           "Scrypt"
          ],
          [
           "X11"
          ],
          [
           "QuBit"
          ],
          [
           "Scrypt"
          ],
          [
           "Scrypt"
          ],
          [
           "SHA-256"
          ],
          [
           "Scrypt"
          ],
          [
           "X11"
          ],
          [
           "Scrypt"
          ],
          [
           "SHA-256"
          ],
          [
           "X11"
          ],
          [
           "Scrypt"
          ],
          [
           "SHA-256"
          ],
          [
           "Scrypt"
          ],
          [
           "X11"
          ],
          [
           "Scrypt"
          ],
          [
           "PoS"
          ],
          [
           "X11"
          ],
          [
           "SHA-256"
          ],
          [
           "DPoS"
          ],
          [
           "Scrypt"
          ],
          [
           "Scrypt"
          ],
          [
           "NeoScrypt"
          ],
          [
           "Scrypt"
          ],
          [
           "X13"
          ],
          [
           "PHI2"
          ],
          [
           "DPoS"
          ],
          [
           "DPoS"
          ],
          [
           "SHA-256"
          ],
          [
           "Lyra2Z"
          ],
          [
           "Leased POS"
          ],
          [
           "PoS"
          ],
          [
           "Scrypt"
          ],
          [
           "PoS"
          ],
          [
           "SHA-256"
          ],
          [
           "Scrypt"
          ],
          [
           "Scrypt"
          ],
          [
           "Scrypt"
          ]
         ],
         "hovertemplate": "<b>%{hovertext}</b><br><br>Class=%{marker.color}<br>PC 3=%{x}<br>PC 2=%{y}<br>PC 1=%{z}<br>Algorithm=%{customdata[0]}<extra></extra>",
         "hovertext": [
          "42 Coin",
          "404Coin",
          "808",
          "EliteCoin",
          "Dash",
          "Bitshares",
          "BitcoinDark",
          "Bitstake",
          "PayCoin",
          "KoboCoin",
          "Aero Coin",
          "ApexCoin",
          "ArchCoin",
          "Aurora Coin",
          "BlueCoin",
          "EnergyCoin",
          "BitBar",
          "CashCoin",
          "CryptoBullion",
          "CinderCoin",
          "CoolCoin",
          "CasinoCoin",
          "eMark",
          "Diamond",
          "DarkCash",
          "Exclusive Coin",
          "Fuel2Coin",
          "FIBRE",
          "FlutterCoin",
          "GlyphCoin",
          "Halcyon",
          "HoboNickels",
          "HyperStake",
          "IOCoin",
          "JumBucks Coin",
          "JudgeCoin",
          "LibrexCoin",
          "MaxCoin",
          "MintCoin",
          "MazaCoin",
          "Nautilus Coin",
          "NavCoin",
          "OpalCoin",
          "Orbitcoin",
          "PotCoin",
          "PhoenixCoin",
          "Reddcoin",
          "ShieldCoin",
          "SilkCoin",
          "SuperCoin",
          "SyncCoin",
          "TeslaCoin",
          "TittieCoin",
          "TorCoin",
          "UnitaryStatus Dollar",
          "UltraCoin",
          "Utility Coin",
          "VeriCoin",
          "SocialXbotCoin",
          "X11 Coin",
          "Crypti",
          "StealthCoin",
          "XXXCoin",
          "ZCC Coin",
          "BurstCoin",
          "StorjCoin",
          "Neutron",
          "KryptCoin",
          "FairCoin",
          "RubyCoin",
          "Kore",
          "Dnotes",
          "MaieutiCoin",
          "8BIT Coin",
          "Sativa Coin",
          "AeroMe",
          "MasterTraderCoin",
          "Ucoin",
          "MaryJane Coin",
          "CyberCoin",
          "Vtorrent",
          "ViorCoin",
          "IslaCoin",
          "Nexus",
          "Singular",
          "Droidz",
          "CryptoCircuits",
          "Squall Coin",
          "Milllionaire Coin",
          "Diggits",
          "MapCoin",
          "Paycon",
          "Emercoin",
          "BlitzCoin",
          "EverGreenCoin",
          "Decred",
          "EDRCoin",
          "Hitcoin",
          "DubaiCoin",
          "BiosCrypto",
          "PWR Coin",
          "BillaryCoin",
          "EthereumScrypt",
          "GPU Coin",
          "Universal Currency",
          "EuropeCoin",
          "ZeitCoin",
          "SwingCoin",
          "SafeExchangeCoin",
          "Nebuchadnezzar",
          "GIZMOcoin",
          "SecretCoin",
          "Ratecoin",
          "Digital Bullion Gold",
          "Revenu",
          "Clockcoin",
          "VIP Tokens",
          "OrlyCoin",
          "BitSend",
          "16BitCoin",
          "ChessCoin",
          "ReeCoin",
          "Let it Ride",
          "PutinCoin",
          "iBankCoin",
          "Frankywillcoin",
          "MudraCoin",
          "Lutetium Coin",
          "GoldBlocks",
          "WayCoin",
          "CarterCoin",
          "BitTokens",
          "MustangCoin",
          "ZoneCoin",
          "RootCoin",
          "PROUD Money",
          "BitCurrency",
          "Swiscoin",
          "BuzzCoin",
          "Opair",
          "PesoBit",
          "Halloween Coin",
          "CoffeeCoin",
          "RoyalCoin",
          "GanjaCoin V2",
          "TeamUP",
          "LanaCoin",
          "ARK",
          "InsaneCoin",
          "LuckChain",
          "EmberCoin",
          "XenixCoin",
          "FreeCoin",
          "NPCcoin",
          "PLNCoin",
          "Icobid",
          "AquariusCoin",
          "Creatio",
          "Eternity",
          "Eurocoin",
          "BitcoinFast",
          "Stakenet",
          "BitConnect Coin",
          "MoneyCoin",
          "Enigma",
          "Russiacoin",
          "PandaCoin",
          "GameUnits",
          "GAKHcoin",
          "Allsafe",
          "LiteCreed",
          "NeptuneClassic",
          "GoldenBird",
          "Ride My Car",
          "Klingon Empire Darsek",
          "Internet of People",
          "KushCoin",
          "Eryllium",
          "Printerium",
          "Impeach",
          "Zilbercoin",
          "FirstCoin",
          "FindCoin",
          "OpenChat",
          "RenosCoin",
          "VirtacoinPlus",
          "TajCoin",
          "Impact",
          "Universe",
          "Atmos",
          "HappyCoin",
          "MacronCoin",
          "Condensate",
          "Independent Money System",
          "ArgusCoin",
          "LomoCoin",
          "ProCurrency",
          "GoldReserve",
          "GrowthCoin",
          "Phreak",
          "Degas Coin",
          "ZSEcoin",
          "HTML5 Coin",
          "Ultimate Secure Cash",
          "QTUM",
          "Espers",
          "Denarius",
          "Virta Unique Coin",
          "Bitcoin Planet",
          "BritCoin",
          "Octanox",
          "Linda",
          "DeepOnion",
          "Signatum",
          "Cream",
          "Monoeci",
          "Draftcoin",
          "Vechain",
          "Stakecoin",
          "CoinonatX",
          "Ethereum Dark",
          "Obsidian",
          "Cardano",
          "Regalcoin",
          "TrezarCoin",
          "TerraNovaCoin",
          "Rupee",
          "WomenCoin",
          "Theresa May Coin",
          "NamoCoin",
          "LUXCoin",
          "Xios",
          "Bitcloud 2.0",
          "KekCoin",
          "BlackholeCoin",
          "AltCommunity Coin",
          "Pure",
          "Rupaya",
          "Infinity Economics",
          "Interstellar Holdings",
          "Castle",
          "Alqo",
          "Magnet",
          "Lamden Tau",
          "Electra",
          "Bitcoin Diamond",
          "Mutual Coin",
          "Cash & Back Coin",
          "Bulwark",
          "Kalkulus",
          "GermanCoin",
          "LiteCoin Ultra",
          "PhantomX",
          "HomeBlockCoin",
          "HTML Coin",
          "Accolade",
          "Fantasy Cash",
          "OmiseGO Classic",
          "Digiwage",
          "Trollcoin",
          "Litecoin Plus",
          "Monkey Project",
          "ECC",
          "OP Coin",
          "Valorbit",
          "TokenPay",
          "My Big Coin",
          "Unified Society USDEX",
          "BitSoar Coin",
          "Credence Coin",
          "Tokyo Coin",
          "BiblePay",
          "BashCoin",
          "DigiMoney",
          "Lizus Payment",
          "Stipend",
          "Poa Network",
          "Pushi",
          "PokerCoin",
          "Ellerium",
          "Velox",
          "Ontology",
          "Seraph",
          "Bitspace",
          "Briacoin",
          "Ignition",
          "MedicCoin",
          "Zelcash",
          "Bitcoin Green",
          "Deviant Coin",
          "Abjcoin",
          "Profit Hunters Coin",
          "Semux",
          "BitBlocks",
          "Carebit",
          "Zealium",
          "Proton",
          "iDealCash",
          "Bitcoin Incognito",
          "HollyWoodCoin",
          "Parlay",
          "Listerclassic Coin",
          "BetKings",
          "Cognitio",
          "Mercoin",
          "Swisscoin",
          "Reliance",
          "Xt3ch",
          "TheVig",
          "EmaratCoin",
          "Dekado",
          "Lynx",
          "Poseidon Quark",
          "MYCE",
          "BitcoinWSpectrum",
          "GolfCoin",
          "Muse",
          "GambleCoin",
          "Trivechain",
          "Dystem",
          "Giant",
          "Peony Coin",
          "SafeCoin",
          "Absolute Coin",
          "Vitae",
          "GenesisX",
          "TPCash",
          "MUSDcoin",
          "ARENON",
          "EUNO",
          "MMOCoin",
          "Ketan",
          "Safe Trade Coin",
          "Mont Blanc",
          "XDNA",
          "PAXEX",
          "Averopay",
          "Apollon",
          "ThunderStake",
          "SimpleBank",
          "Kcash",
          "Traid",
          "Bettex coin",
          "TWIST",
          "DACH Coin",
          "BitMoney",
          "Junson Ming Chan Coin",
          "Zenad",
          "HerbCoin",
          "Oduwa",
          "Galilel",
          "Crypto Sports",
          "Credit",
          "Dash Platinum",
          "Nasdacoin",
          "Beetle Coin",
          "Titan Coin",
          "Award",
          "Insane Coin",
          "ALAX",
          "The Freedom Coin",
          "LiteDoge",
          "TruckCoin",
          "Ascension Coin",
          "OrangeCoin",
          "BitstarCoin",
          "NeosCoin",
          "HyperCoin",
          "PinkCoin",
          "AudioCoin",
          "IncaKoin",
          "Piggy Coin",
          "Genstake",
          "ParkByte",
          "XiaoMiCoin",
          "CapriCoin",
          " ClubCoin",
          "Radium",
          "Creditbit ",
          "OKCash",
          "Lisk",
          "HiCoin",
          "WhiteCoin",
          "FriendshipCoin",
          "The Hempcoin",
          "Triangles Coin",
          "Gexan",
          "EOS",
          "Oxycoin",
          "TigerCash",
          "LAPO",
          "Waves",
          "Particl",
          "ShardCoin",
          "Nxt",
          "ZEPHYR",
          "Gapcoin",
          "BitcoinPlus",
          "DivotyCoin"
         ],
         "legendgroup": "2",
         "marker": {
          "color": [
           2,
           2,
           2,
           2,
           2,
           2,
           2,
           2,
           2,
           2,
           2,
           2,
           2,
           2,
           2,
           2,
           2,
           2,
           2,
           2,
           2,
           2,
           2,
           2,
           2,
           2,
           2,
           2,
           2,
           2,
           2,
           2,
           2,
           2,
           2,
           2,
           2,
           2,
           2,
           2,
           2,
           2,
           2,
           2,
           2,
           2,
           2,
           2,
           2,
           2,
           2,
           2,
           2,
           2,
           2,
           2,
           2,
           2,
           2,
           2,
           2,
           2,
           2,
           2,
           2,
           2,
           2,
           2,
           2,
           2,
           2,
           2,
           2,
           2,
           2,
           2,
           2,
           2,
           2,
           2,
           2,
           2,
           2,
           2,
           2,
           2,
           2,
           2,
           2,
           2,
           2,
           2,
           2,
           2,
           2,
           2,
           2,
           2,
           2,
           2,
           2,
           2,
           2,
           2,
           2,
           2,
           2,
           2,
           2,
           2,
           2,
           2,
           2,
           2,
           2,
           2,
           2,
           2,
           2,
           2,
           2,
           2,
           2,
           2,
           2,
           2,
           2,
           2,
           2,
           2,
           2,
           2,
           2,
           2,
           2,
           2,
           2,
           2,
           2,
           2,
           2,
           2,
           2,
           2,
           2,
           2,
           2,
           2,
           2,
           2,
           2,
           2,
           2,
           2,
           2,
           2,
           2,
           2,
           2,
           2,
           2,
           2,
           2,
           2,
           2,
           2,
           2,
           2,
           2,
           2,
           2,
           2,
           2,
           2,
           2,
           2,
           2,
           2,
           2,
           2,
           2,
           2,
           2,
           2,
           2,
           2,
           2,
           2,
           2,
           2,
           2,
           2,
           2,
           2,
           2,
           2,
           2,
           2,
           2,
           2,
           2,
           2,
           2,
           2,
           2,
           2,
           2,
           2,
           2,
           2,
           2,
           2,
           2,
           2,
           2,
           2,
           2,
           2,
           2,
           2,
           2,
           2,
           2,
           2,
           2,
           2,
           2,
           2,
           2,
           2,
           2,
           2,
           2,
           2,
           2,
           2,
           2,
           2,
           2,
           2,
           2,
           2,
           2,
           2,
           2,
           2,
           2,
           2,
           2,
           2,
           2,
           2,
           2,
           2,
           2,
           2,
           2,
           2,
           2,
           2,
           2,
           2,
           2,
           2,
           2,
           2,
           2,
           2,
           2,
           2,
           2,
           2,
           2,
           2,
           2,
           2,
           2,
           2,
           2,
           2,
           2,
           2,
           2,
           2,
           2,
           2,
           2,
           2,
           2,
           2,
           2,
           2,
           2,
           2,
           2,
           2,
           2,
           2,
           2,
           2,
           2,
           2,
           2,
           2,
           2,
           2,
           2,
           2,
           2,
           2,
           2,
           2,
           2,
           2,
           2,
           2,
           2,
           2,
           2,
           2,
           2,
           2,
           2,
           2,
           2,
           2,
           2,
           2,
           2,
           2,
           2,
           2,
           2,
           2,
           2,
           2,
           2,
           2,
           2,
           2,
           2,
           2,
           2,
           2,
           2,
           2,
           2,
           2,
           2,
           2,
           2,
           2,
           2,
           2,
           2,
           2,
           2,
           2,
           2,
           2,
           2,
           2,
           2,
           2,
           2,
           2,
           2,
           2,
           2,
           2,
           2,
           2,
           2,
           2,
           2,
           2,
           2,
           2,
           2,
           2,
           2,
           2,
           2,
           2,
           2,
           2,
           2,
           2,
           2,
           2,
           2,
           2,
           2,
           2,
           2,
           2,
           2,
           2,
           2
          ],
          "coloraxis": "coloraxis",
          "symbol": "circle"
         },
         "mode": "markers",
         "name": "2",
         "scene": "scene",
         "showlegend": true,
         "type": "scatter3d",
         "x": [
          -0.28242534566717903,
          -0.2823087920324651,
          -0.24555925773467482,
          -0.3734230997011172,
          -0.29251202439656426,
          -0.04534984750893743,
          -0.2455591154023058,
          -0.29251302195070367,
          -0.1113413362077345,
          -0.4521652471043829,
          -0.2424401908681085,
          -0.3766567874224312,
          -0.14820874914114046,
          -0.2824233425162089,
          -0.2823551575114822,
          -0.2824117523026997,
          -0.2824253409693035,
          -0.28242534574464073,
          -0.2824252308937725,
          -0.15220849071985143,
          -0.14820874926949057,
          -0.34282265965336683,
          -0.24555925773467577,
          -0.29860918481313686,
          -0.29251302195441886,
          -0.07432343401875423,
          -0.15829642554638435,
          -0.32678974008930645,
          -0.033382483142664995,
          -0.2925130219594549,
          -0.4521680679647955,
          -0.28241548553784285,
          -0.1581110180808951,
          -0.29251107228374096,
          -0.2925130219537634,
          -0.3766567874463822,
          -0.2925130219502429,
          -0.30395098065414244,
          -0.14585664770262338,
          -0.24538099905291313,
          -0.14820696191744315,
          -0.37664948751199634,
          -0.37665511325943013,
          -0.17438879023449716,
          -0.28240074965789036,
          -0.28241717636968783,
          -0.2791871833542289,
          -0.45216806796633097,
          -0.28242534567334887,
          -0.15829082428547409,
          -0.29251302181869904,
          -0.01798302866813278,
          -0.17924355262789973,
          -0.2925128638035202,
          -0.28230395914572765,
          -0.2824197969042988,
          -0.3766567874132187,
          -0.051263936139834335,
          -0.2824253456748843,
          -0.2925122541767025,
          -0.017980848109145534,
          -0.3766531319200822,
          -0.28242534574858114,
          -0.2824090003833298,
          -0.7505788681811394,
          -0.3367549194925147,
          -0.24555493650377697,
          -0.14820874914205687,
          -0.29860367408951394,
          -0.14820574634981792,
          -0.37665656403260217,
          -0.1481894586837764,
          -0.1113426611788209,
          -0.2824251835358608,
          -0.3766560035208181,
          -0.3766567874316434,
          -0.29251302196423007,
          -0.15829612831015585,
          -0.4521680679647955,
          -0.2824253456718138,
          -0.28242406385887514,
          -0.2824253456718138,
          -0.29251285474678285,
          -0.1335824778325065,
          -0.2824253456718138,
          -0.46200693367681395,
          -0.4295240553705534,
          0.08432193597617522,
          -0.2925130219487075,
          -0.14819770338967206,
          -0.15829642539627192,
          -0.37665424223164146,
          -0.24555450293683775,
          -0.24244019086327545,
          -0.4521665734361708,
          -0.2749504311013092,
          -0.24555885241870257,
          -0.2912984226304816,
          -0.24555869120607451,
          -0.41666677615568376,
          -0.3256774808499056,
          -0.2824243517459345,
          -0.2824253456782621,
          -0.14820427840993486,
          -0.2455592580570985,
          -0.2925118729637674,
          -0.1441251028141133,
          -0.24555877430891543,
          -0.3470037447029947,
          -0.0743218522468858,
          -0.29251302194886103,
          -0.29251302198094975,
          -0.2924981592867692,
          -0.07432406141517262,
          -0.24555912602038116,
          -0.24555741798566083,
          -0.32678052239530625,
          -0.45216806802006776,
          -0.29251032832338175,
          -0.3267897401129139,
          -0.2824253457864528,
          -0.2824253462091847,
          -0.19186321551958485,
          -0.28233553553997415,
          -0.2824248457675714,
          -0.28241429994552975,
          -0.24243963887043937,
          -0.15822385497116523,
          -0.2925113028587681,
          -0.15829642554638435,
          -0.28242057780074176,
          -0.24555919199654636,
          -0.29251294931159316,
          -0.2824250605027528,
          -0.2824251313940062,
          -0.2925130373021692,
          -0.14819001545665883,
          -0.040563312281709694,
          -0.3961821976841436,
          -0.07431588382043444,
          -0.28242164276627174,
          -0.2924837881873192,
          -0.07430763437279046,
          -0.24243991470050744,
          -0.5723243102975281,
          -0.07432209362406447,
          -0.3982251829691015,
          0.012944382471181138,
          -0.29251099586968876,
          -0.28242534720715995,
          -0.3664732803190741,
          -0.29251259632077903,
          -0.07431853852900049,
          -0.3983447165763776,
          -0.28242345803430846,
          -0.2824253459788829,
          -0.2824250751589209,
          -0.0743218522468858,
          -0.2925123516131325,
          -0.24555788624775032,
          -0.28242310959195815,
          -0.08551988073228464,
          -0.28242412175152665,
          -0.2824241410773066,
          -0.29251293196880473,
          -0.28242442048312044,
          -0.14447383980822123,
          -0.28242496207024487,
          -0.2824249794188366,
          -0.28244901781132054,
          -0.30495822798389133,
          -0.2925130223325442,
          -0.37665678810412456,
          -0.07432406154567711,
          -0.2824226992532973,
          -0.24555897873932553,
          -0.29251239686602054,
          -0.29251302210224234,
          -0.2824240398886532,
          -0.2824253116644071,
          -0.148208426371974,
          -0.03078318352693449,
          -0.24243858648202335,
          -0.2823148884089756,
          -0.14820476708882055,
          -0.29251156816079743,
          -0.4235378625097238,
          -0.2925008020179109,
          -0.14820874928791478,
          -0.07431178563049771,
          -0.2925106448828774,
          -0.07427972148076097,
          -0.2924995836968114,
          -0.2824247526583844,
          -0.28242521887323546,
          -0.2824252919777607,
          -0.11133167016762503,
          -0.29251112527990275,
          -0.14817615187773248,
          -0.07432280328753024,
          -0.28242298656962306,
          -0.29251302516295463,
          -0.4476770596614051,
          -0.11134151899818505,
          -0.19185643232575422,
          -0.44626041810921496,
          -0.3267892793378595,
          -0.32678278776663033,
          -0.35835504914507205,
          -0.37665443821139744,
          -0.29251302196084555,
          -0.2814263302374728,
          -0.37665436651476075,
          -0.13157004818072504,
          -0.35835057253270325,
          -0.29251163357767074,
          -0.1482066876172847,
          -2.896816890459347,
          -0.07432361965152673,
          -0.2824231874264898,
          -0.2824248817513098,
          -0.04564991117851251,
          -0.16199112583734787,
          -0.29251221979396025,
          -0.17436897257008474,
          -0.2824252196917618,
          -0.0348519112567569,
          -0.27707260896756014,
          -0.24554909006747036,
          -0.3267278227911764,
          -0.3136384285330217,
          -0.28242510825210293,
          -0.41666338407079195,
          -0.26644345705856914,
          -0.28242353830746364,
          -0.2791729699098356,
          -0.29251302195436807,
          -0.28245017968397756,
          -0.1103485458143804,
          -0.14820875214058798,
          -0.1682218183198411,
          -0.41665956661969605,
          -0.2925088027989196,
          0.012964252161121459,
          -0.32365285014730644,
          -0.3766365147878265,
          -0.28242534720715995,
          -0.2824130876106984,
          -0.19257168030758579,
          -0.28244830668612037,
          -0.28188290402208194,
          -0.2824244159050538,
          -0.2925080321360754,
          -0.2925130219916972,
          -0.24555939591583079,
          -0.28242473006140206,
          -0.28242534567887634,
          -0.28241983021606565,
          -0.28244716426322447,
          -0.2823600633911818,
          -0.2824250690354162,
          -0.15829593860533267,
          -0.14544731754500637,
          -0.28242534874250597,
          -0.42403603411420604,
          -0.1918652196651291,
          0.10913335104409776,
          -0.2823994051917374,
          -0.1578899102854556,
          -0.2455588792300951,
          -0.24241475354315936,
          2.450707044276805,
          -0.3583545125504066,
          -0.29251263299207375,
          -0.35835547087235775,
          -0.2963113530848499,
          6.6970101588651225,
          -0.29251278253151514,
          0.0944095751735361,
          -0.08516473467322566,
          -0.14820592487341847,
          -0.08323350694376502,
          -0.3136391956844113,
          -0.3267882171752641,
          -0.282425252268283,
          -0.2824252151002356,
          -0.14817922450354612,
          -0.0467099047039029,
          -0.23355387190576443,
          -0.0743216450657605,
          -0.2824242543294564,
          -0.28242534582534834,
          0.2989257587646941,
          -0.28242534643948686,
          -0.4166513409638649,
          -0.07432283815571353,
          -0.15793998749575527,
          -0.28227025198261624,
          0.29167134518496,
          -0.1482044736482196,
          -0.14820833126655888,
          -0.2824244516967909,
          -0.1582951706337692,
          -0.39834463309402124,
          -0.28242254787611903,
          -0.28129868159086624,
          -0.15829562393493546,
          -0.1482079063828793,
          -0.3983410345326611,
          -0.2824229599636811,
          -0.317948126391184,
          0.0185456959737299,
          -0.28244988053143927,
          -0.28241831934027967,
          -0.11133627559906273,
          -0.398344708459209,
          -0.10129392077181268,
          -0.14820783887507558,
          -0.29215299206418655,
          -0.282449397288533,
          -0.41666612227286737,
          -0.1482086599331561,
          -0.45919300107472777,
          -0.16906968616257428,
          -0.2824428834904233,
          0.0490518156329266,
          -0.28242475030963043,
          -0.28242534582534834,
          -0.15829429699038397,
          -0.2925096230838808,
          -0.14819684604780803,
          -0.07432303145081859,
          -0.14820875040564677,
          -0.14820874922343,
          -0.254177063874592,
          -0.1582959279693739,
          -0.3607005570878171,
          -0.41666677650852096,
          -0.28230829205418917,
          -0.17438888295193264,
          0.15884874506487226,
          -0.17438914636101985,
          0.04905256531394966,
          -0.045630581055585984,
          -0.28244859972231273,
          0.4900279216142606,
          -0.1563954379009779,
          -0.7473485518271413,
          -0.4166628756659945,
          -0.28242371339370964,
          -0.41666475862272,
          -0.28244996588453236,
          -0.2790204896359302,
          -0.1582963463722139,
          -0.2824230762559702,
          -0.08514280719309306,
          -0.3982457025283288,
          -0.29251131929297813,
          -0.2925103957307652,
          0.013042888053778515,
          -0.15829642543123382,
          -0.28073329355244175,
          -0.2924862275045739,
          -0.3049615667837888,
          -0.2824249552695448,
          -0.28242307289612006,
          -0.11134217604749294,
          -0.28242428182103735,
          -0.2924648236194361,
          -0.282317031256457,
          -0.24357765755812974,
          -0.2924584302540705,
          -0.28241871816695285,
          -0.24555925777305934,
          -0.2823806859739774,
          -0.2924907798064547,
          -0.282413899969562,
          -0.0743236393157482,
          -0.056148210316029575,
          -0.24555100926749973,
          0.012945686942160504,
          -0.14710414947433714,
          -0.2823975099006614,
          -0.17438902231011044,
          -0.28242534613241743,
          -0.37665677186326196,
          -0.5427156132354499,
          0.013045158912451489,
          0.013056407789062942,
          -0.11123220391597981,
          -0.16430141339464024,
          5.430789616901946,
          -0.07432303600118098,
          -0.14820599731375877,
          0.3075480862291002,
          0.003106614672091797,
          -0.28242369679023627,
          -0.1482087349426456,
          -0.28242297193173743
         ],
         "y": [
          1.240322144023896,
          1.2395403771230593,
          0.8447681297453259,
          2.0179507553497373,
          1.5392339321824087,
          1.018072738665035,
          0.8447671750903828,
          1.539240623120209,
          0.3185575814353618,
          2.135725577972112,
          1.513438325047656,
          2.03963998629741,
          0.7141204829777107,
          1.2403087081810051,
          1.2398513666807687,
          1.2402309684124508,
          1.2403221125140265,
          1.2403221445860748,
          1.2403213741980816,
          0.5483672123435092,
          0.7141204839136509,
          0.9275482078564716,
          0.8447681297453105,
          1.0867367961751795,
          1.5392406231473026,
          1.216781390191356,
          1.0130389629642909,
          1.8489438895386883,
          0.24033345331496564,
          1.5392406231840252,
          2.135744498188821,
          1.2402560086783756,
          1.0117953679525766,
          1.5392275460173934,
          1.5392406231425217,
          2.039639986472067,
          1.5392406231168498,
          2.305759176601924,
          0.6983440879990251,
          0.843572486472965,
          0.7141084954218404,
          2.039591023152793,
          2.0396287570753313,
          0.6902233117059478,
          1.2401571700717668,
          1.2402673496792835,
          1.2186026183393917,
          2.135744498200017,
          1.24032214406621,
          1.0130013931919464,
          1.539240622233641,
          0.022106086983128742,
          0.694463888459932,
          1.5392395623776693,
          1.2395079621626426,
          1.240284926554408,
          2.0396399862302355,
          0.3763098259634094,
          1.240322144077406,
          1.5392354733860965,
          0.02209146109564566,
          2.039615467515793,
          1.2403221446148078,
          1.240212511191784,
          2.0545802779655453,
          0.9151967396606123,
          0.8447391457479874,
          0.7141204829843929,
          1.0866998337550076,
          0.7141003421556534,
          2.039638487946429,
          0.7139910953381043,
          0.3185664684843822,
          1.240321056550544,
          2.039634728389391,
          2.0396399863645853,
          1.539240623218844,
          1.0130369692215926,
          2.135744498188821,
          1.2403221440550138,
          1.2403135464900346,
          1.2403221440550138,
          1.5392395016218785,
          2.4942379662723373,
          1.2403221440550138,
          2.3011177836707857,
          1.152139814160489,
          0.9081278931514305,
          1.5392406231056541,
          0.714046395203068,
          1.013038961869658,
          2.039622914821841,
          0.8447362384944366,
          1.5134383250124128,
          2.1357344738684665,
          1.1275170807052095,
          0.8447654111642492,
          1.5310938900650435,
          0.844764329842529,
          1.6094238423659313,
          1.8414835645811525,
          1.2403154774724048,
          1.240322144102037,
          0.7140904963504415,
          0.8447681320964444,
          1.5392329167928773,
          0.6867300791122364,
          0.8447648872698198,
          0.9555922233529595,
          1.2167707806933559,
          1.5392406231067732,
          1.5392406233407678,
          1.5391409339244202,
          1.2167855983794928,
          0.8447672464898546,
          0.8447557903546609,
          1.8488820632117722,
          2.135744498591873,
          1.5392225561112571,
          1.848943889710836,
          1.240322144890973,
          1.240322147973571,
          1.1634497690315442,
          1.239719756817269,
          1.2403187910562763,
          1.240248056464019,
          1.5134346227729314,
          1.0125522063718646,
          1.5392290925926253,
          1.0130389629642909,
          1.2402901643002764,
          0.844767688834755,
          1.539240135904953,
          1.240320231341847,
          1.2403207068162674,
          1.5392407350644204,
          0.7139948293663025,
          0.27106413133076274,
          2.1229063820044143,
          1.2167307483471996,
          1.2402973073284238,
          1.5390445430425324,
          1.2166754162879954,
          1.5134364726876413,
          2.124153156725886,
          1.2167723999496542,
          2.136609411920896,
          -0.1416460717977507,
          1.5392270334878937,
          1.2403221552508905,
          1.9713355221413424,
          1.5392377682686713,
          1.2167485544160572,
          2.1374111665988607,
          1.2403094830222197,
          1.2403221462941894,
          1.240320329664919,
          1.2167707806933559,
          1.5392361269763966,
          0.8447589307044706,
          1.2403071458883925,
          1.0886309414408624,
          1.2403139348041663,
          1.2403140649881579,
          1.539240019582394,
          1.2403159386091405,
          0.6890691245619468,
          1.240319571112237,
          1.2403196874668214,
          1.0832143885646648,
          1.1403355043480317,
          1.5392406259046227,
          2.0396399912683805,
          1.216785599331143,
          1.240304394017851,
          0.8447662584414531,
          1.5392364304584139,
          1.5392406242252419,
          1.2403133857130875,
          1.2403219159747298,
          0.7141183180828351,
          0.3200908432753554,
          1.5134275638567258,
          1.2395812681450626,
          0.7140937739289083,
          1.5392308721141668,
          2.174670286313416,
          1.5391586597093294,
          0.7141204840480014,
          1.216703260337802,
          1.5392246793552637,
          1.216488194749901,
          1.5391504883392446,
          1.24031816651853,
          1.2403212935967711,
          1.2403217848073378,
          0.3184928151290919,
          1.5392279014979762,
          0.7139018431243166,
          1.2167771596758743,
          1.240306320797737,
          1.5392406465442219,
          2.105621762164104,
          0.3185588076454219,
          1.163404271757144,
          2.1127833958686346,
          1.8489407991205231,
          1.848897257903426,
          1.7955598015836918,
          2.039624229310984,
          1.539240623194164,
          1.2336214311398908,
          2.039623748405746,
          1.0550009162672638,
          1.79552977532561,
          1.539231310807554,
          0.7141066555925795,
          1.2523576843514943,
          1.2167826353527973,
          1.2403076679664353,
          1.2403190323761926,
          1.0200853710617512,
          1.15576201575217,
          1.5392352427879117,
          0.6900903878195749,
          1.2403212990753714,
          0.17672745319693162,
          1.2044194256555185,
          0.8446999316140966,
          1.848528588905055,
          1.2218613317785103,
          1.240320551614007,
          1.6094010905872695,
          1.2155790113577731,
          1.2403100214219787,
          0.7007948595863508,
          1.539240623146931,
          1.083222181718621,
          0.3118985853022034,
          0.7141205048499403,
          0.43729220300304433,
          1.6093754854346332,
          1.539212323871487,
          -0.14177934465720538,
          1.827903661202412,
          2.0395040105888484,
          1.2403221552508905,
          1.240239924994628,
          1.3227324139170358,
          1.0832096187952633,
          1.2366838366289683,
          1.2403159079077777,
          1.539207154672699,
          1.5392406234191387,
          0.8447691373742083,
          1.2403180149782418,
          1.2403221441065155,
          1.2402851499615413,
          1.0832019562415305,
          1.2398842729980584,
          1.2403202885582445,
          1.0130356968036371,
          0.6955985850452714,
          1.2403221664467672,
          2.2729594958940407,
          1.163463211552858,
          0.3734351799485915,
          1.2401481520822875,
          1.0103123215800272,
          0.8447655910006503,
          1.5132677084219681,
          2.306606980285194,
          1.7955562024240765,
          1.5392380142552922,
          1.795562630233276,
          1.1788325825395443,
          3.4450194814084503,
          1.5392390172704042,
          0.6092096632255806,
          1.5145297332407404,
          0.7141015396893247,
          1.1477006107701064,
          1.2218664773151773,
          1.8489336748477847,
          1.2403215175664495,
          1.240321268268708,
          0.7139224509902037,
          0.23513433064907996,
          1.2179276023407317,
          1.2167693911156736,
          1.240314824054084,
          1.2403221451746014,
          -0.09230152260740643,
          1.2403221496529522,
          1.6093203131138318,
          1.2167773935942743,
          0.48315966627818446,
          1.2392818791916191,
          0.8834094780391037,
          0.7140918057091146,
          0.7141176801539789,
          1.2403161479399922,
          1.0130305457290925,
          2.1374106003749573,
          1.2403033783172681,
          1.2327652097735071,
          1.013033586232293,
          0.7141148303180533,
          2.1373864636055706,
          1.2403061423232098,
          1.6095204007648998,
          -0.027050722076865753,
          1.0832201757105706,
          1.2402750161328466,
          0.31852363818166646,
          2.1374111074077704,
          0.5043505905762693,
          0.7141143774933038,
          1.009337234814164,
          1.0832169338609494,
          1.6094194565239093,
          0.714119899766871,
          2.1982902934614024,
          0.7029370181027846,
          1.0831732435322954,
          0.9883283821564816,
          1.2403181516432993,
          1.2403221451746014,
          1.0130246859290257,
          1.5392178257349798,
          0.7140406448447768,
          1.2167786902111546,
          0.7141204921985997,
          0.7141204835777746,
          0.797998169552078,
          1.013035625535339,
          1.1098438524253578,
          1.6094238449388512,
          1.23953703926983,
          0.6902239336107862,
          1.2661989177765618,
          0.6902257005981741,
          0.9883233538025739,
          1.0199557170342273,
          1.0832115843111383,
          0.7531835345517562,
          1.000288351262097,
          1.2334332594693616,
          1.6093976804013628,
          1.2403111957943256,
          1.6094103100416843,
          1.0832207476330944,
          1.217484610439562,
          1.0130384318424088,
          1.2403069223376504,
          1.5143826580966324,
          2.136747041775571,
          1.5392292031549835,
          1.5392230081390998,
          -0.14230678357832785,
          1.0130389621245999,
          1.2289729699967331,
          1.5390609030788855,
          1.1403578988156156,
          1.2403195256653634,
          1.2403068997752176,
          0.3185632145519729,
          1.2403150084231254,
          1.538917339929626,
          1.2395956495267313,
          0.8314768209043336,
          1.5388744577648938,
          1.240277690996603,
          0.8447681300252073,
          1.2400225956699593,
          1.5390914372006315,
          1.2402453737344206,
          1.21678276720062,
          1.1010090491311708,
          0.8447128043872426,
          -0.14165482132501825,
          0.7067115425149164,
          1.2401354397406696,
          0.6902248683716447,
          1.2403221474137769,
          2.0396398819311568,
          2.049710535457061,
          -0.14232201594644547,
          -0.14239746622993651,
          0.31782559257440823,
          0.4757750233590979,
          2.5111788824303956,
          1.216778720551305,
          0.7141020262695417,
          1.431058751658846,
          -0.3288452617677462,
          1.2403110846344105,
          0.714120387729442,
          1.2403062226116575
         ],
         "z": [
          -0.25511454580940246,
          -0.24057764152496589,
          -0.1196486878143132,
          0.3215447812924374,
          -0.19896292042840702,
          -0.33788072339670816,
          -0.11963093166390296,
          -0.1990873413093086,
          0.010253542031933445,
          -0.1559288696809197,
          0.04791016265582602,
          -0.08182681176376633,
          -0.12537757199746885,
          -0.25486470561832075,
          -0.24636053806101646,
          -0.2534191540903477,
          -0.25511395978671997,
          -0.25511454647741666,
          -0.2551002308506106,
          -0.1737268354167378,
          -0.12537757215499118,
          0.8033901536898558,
          -0.11964868781430742,
          -0.26162717418947595,
          -0.19908734131386863,
          0.09449978450877018,
          -0.06935036707381295,
          -0.14693433495282215,
          -0.3211814385468543,
          -0.1990873413200493,
          -0.15628075941966707,
          -0.2538847479225983,
          -0.04622599455427589,
          -0.19884417100500307,
          -0.1990873413130641,
          -0.08182681179316145,
          -0.1990873413087435,
          -0.3539496250024891,
          0.16798124041811305,
          -0.09741544830088494,
          -0.12515466591068442,
          -0.0809163534103823,
          -0.0816180079294411,
          -0.22132081689624492,
          -0.25204680249630523,
          -0.2540956360376573,
          0.14875556159741565,
          -0.1562807594215514,
          -0.2551145463899213,
          -0.06865178552387267,
          -0.19908732509175198,
          -0.042884141199997915,
          0.0015330048974350342,
          -0.19906761522541336,
          -0.2399746716825295,
          -0.25442247399838863,
          -0.08182681175246044,
          -0.3650715908286956,
          -0.25511454639180575,
          -0.19899158219751784,
          -0.04261219646423133,
          -0.08137089130654754,
          -0.2551145464822527,
          -0.25307573957223306,
          1.0317935413841257,
          -0.031054024822604914,
          -0.11910972232430236,
          -0.12537757199859348,
          -0.26093986650163553,
          -0.1250030609428862,
          -0.08179894899801628,
          -0.12297153571737568,
          0.010088286607165691,
          -0.2550943244663615,
          -0.08172904122170455,
          -0.08182681177507226,
          -0.1990873413259094,
          -0.06931331034297088,
          -0.15628075941966707,
          -0.2551145463880372,
          -0.25495467231173297,
          -0.2551145463880372,
          -0.1990664875469978,
          -0.5470476696815962,
          -0.2551145463880372,
          -0.15761619990716544,
          -0.025153309295884135,
          -0.06257323197622859,
          -0.199087341306859,
          -0.1239999078387733,
          -0.06935036688958186,
          -0.08150936211384059,
          -0.11905547027095477,
          0.04791016266175772,
          -0.15609435382166295,
          -0.026727261551035397,
          -0.11959813182069924,
          -0.04759504078753096,
          -0.11957802723844084,
          0.007134372891385602,
          -0.00821112879905518,
          -0.2549905739926362,
          -0.2551145463959512,
          -0.12481993461919731,
          -0.11964868821001245,
          -0.19894396478826934,
          0.38396176776839275,
          -0.11958838639825325,
          0.28190965162875853,
          0.0946970700652757,
          -0.1990873413070474,
          -0.19908734134642955,
          -0.19723362603823427,
          0.09442153721145391,
          -0.11963221791267377,
          -0.11941913107835415,
          -0.14578466869736306,
          -0.15628075948750214,
          -0.19875136059078902,
          -0.14693433498179534,
          -0.2551145465287323,
          -0.25511454704754527,
          0.03183773941489796,
          -0.24391286715019653,
          -0.2550521889209905,
          -0.25373688226025,
          0.0479790455079655,
          -0.06029911356582108,
          -0.198872923476532,
          -0.06935036707381295,
          -0.25451987086720806,
          -0.11964048484101651,
          -0.1990782812912494,
          -0.25507897554826214,
          -0.25508782122951,
          -0.19908736014995337,
          -0.12304107235312875,
          -0.21718345225766045,
          0.14335498766267388,
          0.09544147443843148,
          -0.254652712571707,
          -0.19544096346076512,
          0.09647035567059396,
          0.047944605980514525,
          -0.22476324552056975,
          0.09466701829835451,
          -0.11145260929384428,
          7.653141699884838,
          -0.19883463897409673,
          -0.25511454827234664,
          1.1882808074147588,
          -0.19903425540612496,
          0.09511036930361198,
          -0.1263611768136189,
          -0.25487910913967404,
          -0.25511454676489903,
          -0.25508079951322904,
          0.0946970700652757,
          -0.1990037243311607,
          -0.11947762941823162,
          -0.2548356517603543,
          -0.13981979201195965,
          -0.2549618912826314,
          -0.2549641835719729,
          -0.19907611788461896,
          -0.2549991276925986,
          0.34045398339014593,
          -0.25506670036503387,
          -0.25506886595243106,
          0.13701624692453118,
          -0.23238657622493522,
          -0.19908734177793644,
          -0.0818268126003997,
          0.0944215370512877,
          -0.2547843849518988,
          -0.11961388697212463,
          -0.19900937796508417,
          -0.19908734149529017,
          -0.254951682697507,
          -0.2551103007572533,
          -0.1253373082605111,
          -0.27977219615297794,
          0.048110266337507895,
          -0.24133790511016676,
          -0.12488091901695897,
          -0.19890600299810157,
          -0.11733019427302356,
          -0.19756322613782368,
          -0.1253775721776029,
          0.09595261579924787,
          -0.19879084992158086,
          0.09995177588523424,
          -0.19741120073655066,
          -0.2550405805401282,
          -0.2550987263919458,
          -0.25510765995076545,
          0.01147332813430255,
          -0.19885077737981605,
          -0.12131159973060804,
          0.09457845626197334,
          -0.2548202945158764,
          -0.19908734525166086,
          0.4038638808564201,
          0.010230779607136097,
          0.03268376558212351,
          0.42134213591637293,
          -0.14687686732918234,
          -0.14606720467060144,
          -0.20297556478926762,
          -0.08153380889476541,
          -0.1990873413217557,
          -0.13050585457189873,
          -0.08152486885122665,
          0.14605855805743223,
          -0.20241723270353348,
          -0.19891417908000436,
          -0.12512045441155184,
          8.154724584684205,
          0.09447664369629379,
          -0.25484535654754686,
          -0.25505668449467006,
          -0.3753059322994072,
          0.6327339041878683,
          -0.1989872898362936,
          -0.2188490428595946,
          -0.2550988309197922,
          -0.07533316693121181,
          0.4124942663304714,
          -0.11838053697834515,
          -0.13921165776103517,
          -0.150439752752116,
          -0.2550849309431216,
          0.007557474625169579,
          0.01763883003535747,
          -0.254889125472323,
          -0.26652122614642143,
          -0.19908734131380618,
          0.13687134720958438,
          0.1340780579702373,
          -0.12537757567865002,
          4.522065597072926,
          0.008033567845981254,
          -0.19856109316787204,
          7.655619958624305,
          0.24431056704383383,
          -0.07929832937914007,
          -0.25511454827234664,
          -0.2535856565683539,
          -0.017014858926049717,
          0.1371049408358189,
          -0.18745065400089694,
          -0.25499855556926837,
          -0.1984649923731785,
          -0.19908734135961975,
          -0.11964885740215625,
          -0.2550377567407178,
          -0.2551145463967052,
          -0.25442663439704183,
          0.13724744507459205,
          -0.24697223858398865,
          -0.2550800429825106,
          -0.06928964978682256,
          0.2190384599802012,
          -0.25511455015665585,
          -0.42891141496569635,
          0.03158777674573181,
          -0.24111068647105813,
          -0.2518791536235455,
          -0.018648231583255237,
          -0.11960147522263849,
          0.05108290727192732,
          0.5123347238756171,
          -0.20290864493382338,
          -0.1990388251141075,
          -0.20302816934111542,
          -0.2288725258851345,
          -0.3981681053406004,
          -0.19905747597357273,
          -0.11860497320790599,
          -0.06990878998055639,
          -0.12502530325360442,
          0.022436135583948576,
          -0.15053543872323213,
          -0.1467443846926829,
          -0.25510289634328925,
          -0.25509826029052624,
          -0.12169510820407792,
          -0.17390798318591993,
          0.02160796084337276,
          0.09472292300457982,
          -0.2549784262891272,
          -0.2551145465764681,
          8.243286609792428,
          -0.2551145473301919,
          0.009059515109268548,
          0.09457411691254355,
          -0.06032755182518534,
          -0.23576997881251605,
          0.06674524173033046,
          -0.12484432211358537,
          -0.1253254512623134,
          -0.2550030271709068,
          -0.06919386926776443,
          -0.12635209055446486,
          -0.2547655807290063,
          -0.1145928053537586,
          -0.06925039568897136,
          -0.1252724562619304,
          -0.1259032532153788,
          -0.2548169801511083,
          -0.026126570600947176,
          1.532859167489063,
          0.1369087671390983,
          -0.25423816080519285,
          0.010884727949882107,
          -0.12636116685152884,
          3.266707453910031,
          -0.12526404193790466,
          -0.1896165192413454,
          0.13696891890206472,
          0.007215923617962344,
          -0.12536324833997772,
          -0.22449659559355925,
          -0.20521710212248814,
          0.13778134786400292,
          0.059822408310880426,
          -0.25504010201364147,
          -0.2551145465764681,
          -0.0690848978266656,
          -0.19866341857880357,
          -0.12389294810240256,
          0.09455003340775313,
          -0.12537757354938023,
          -0.12537757209846181,
          -0.19897229458316718,
          -0.06928830826973544,
          -0.25636191092419713,
          0.007134372458353287,
          -0.24051197117116574,
          -0.22133237753408713,
          -1.2355010793207986,
          -0.22136518664522842,
          0.05991591591163095,
          -0.3728950199506826,
          0.13706839618627656,
          0.18077918993736083,
          0.16774461116810616,
          0.1889487886481774,
          0.007620856209945693,
          -0.254910961402794,
          0.0073860034358859145,
          0.13689800102031946,
          0.16956011955686573,
          -0.06934050753773967,
          -0.25483148435900344,
          -0.06717386719070854,
          -0.11401232508902921,
          -0.19887490302954905,
          -0.19875978844221118,
          7.665427679897575,
          -0.0693503669324897,
          -0.044071771382001516,
          -0.1957454844188051,
          -0.23280301300173084,
          -0.25506581671153794,
          -0.25483107095139323,
          0.01014879714213686,
          -0.2549818607825087,
          -0.19307585407188693,
          -0.24160336408398997,
          0.12750050220486187,
          -0.1922783658990546,
          -0.25428794782657094,
          -0.11964868786141518,
          -0.24954442333358082,
          -0.19631321721423445,
          -0.2536869850777777,
          0.09447418116177514,
          -0.03852779234341615,
          -0.11861990251260367,
          7.653304402746277,
          0.012392211632860578,
          -0.2516427562205651,
          -0.2213497511393394,
          -0.2551145469533298,
          -0.08182487230781339,
          -0.202512006756967,
          7.665710716345189,
          7.667113698829248,
          0.02386492788503988,
          -0.05958426788195465,
          0.38737014382927787,
          0.09454942769698167,
          -0.12503419102319047,
          0.3433440822801258,
          4.422835818914471,
          -0.25490884716420376,
          -0.1253758040532079,
          -0.25481846979744616
         ]
        },
        {
         "customdata": [
          [
           "SHA-256"
          ],
          [
           "Ethash"
          ],
          [
           "Scrypt"
          ],
          [
           "CryptoNight-V7"
          ],
          [
           "Ethash"
          ],
          [
           "Equihash"
          ],
          [
           "Multiple"
          ],
          [
           "Scrypt"
          ],
          [
           "X11"
          ],
          [
           "SHA-256"
          ],
          [
           "Scrypt"
          ],
          [
           "SHA-256"
          ],
          [
           "Multiple"
          ],
          [
           "Scrypt"
          ],
          [
           "SHA-256"
          ],
          [
           "Scrypt"
          ],
          [
           "Scrypt"
          ],
          [
           "Quark"
          ],
          [
           "Groestl"
          ],
          [
           "Scrypt"
          ],
          [
           "X11"
          ],
          [
           "Scrypt"
          ],
          [
           "Scrypt"
          ],
          [
           "Scrypt"
          ],
          [
           "X11"
          ],
          [
           "Multiple"
          ],
          [
           "Scrypt"
          ],
          [
           "SHA-256"
          ],
          [
           "Scrypt"
          ],
          [
           "Scrypt"
          ],
          [
           "Scrypt"
          ],
          [
           "Scrypt"
          ],
          [
           "Scrypt"
          ],
          [
           "Scrypt"
          ],
          [
           "SHA-256"
          ],
          [
           "Scrypt"
          ],
          [
           "NeoScrypt"
          ],
          [
           "Scrypt"
          ],
          [
           "Scrypt"
          ],
          [
           "Scrypt"
          ],
          [
           "Multiple"
          ],
          [
           "Scrypt"
          ],
          [
           "SHA-256"
          ],
          [
           "Scrypt"
          ],
          [
           "Scrypt"
          ],
          [
           "Scrypt"
          ],
          [
           "Scrypt"
          ],
          [
           "Scrypt"
          ],
          [
           "HybridScryptHash256"
          ],
          [
           "Scrypt"
          ],
          [
           "SHA-256"
          ],
          [
           "Scrypt"
          ],
          [
           "SHA-256"
          ],
          [
           "Scrypt"
          ],
          [
           "Scrypt"
          ],
          [
           "Scrypt"
          ],
          [
           "Scrypt"
          ],
          [
           "Scrypt"
          ],
          [
           "Scrypt-n"
          ],
          [
           "Scrypt"
          ],
          [
           "SHA-256"
          ],
          [
           "SHA-256"
          ],
          [
           "SHA-256"
          ],
          [
           "SHA-256"
          ],
          [
           "SHA-256"
          ],
          [
           "SHA-256"
          ],
          [
           "X11"
          ],
          [
           "Scrypt"
          ],
          [
           "X11"
          ],
          [
           "Lyra2REv2"
          ],
          [
           "Scrypt"
          ],
          [
           "SHA-256"
          ],
          [
           "CryptoNight"
          ],
          [
           "CryptoNight"
          ],
          [
           "Scrypt"
          ],
          [
           "SHA-256"
          ],
          [
           "Scrypt"
          ],
          [
           "Scrypt"
          ],
          [
           "Scrypt"
          ],
          [
           "Scrypt"
          ],
          [
           "Scrypt"
          ],
          [
           "Momentum"
          ],
          [
           "Stanford Folding"
          ],
          [
           "Multiple"
          ],
          [
           "QuBit"
          ],
          [
           "Scrypt"
          ],
          [
           "Scrypt"
          ],
          [
           "SHA-256"
          ],
          [
           "M7 POW"
          ],
          [
           "Scrypt"
          ],
          [
           "X11"
          ],
          [
           "Scrypt"
          ],
          [
           "SHA-256"
          ],
          [
           "Scrypt"
          ],
          [
           "X11"
          ],
          [
           "X11"
          ],
          [
           "Lyra2RE"
          ],
          [
           "SHA-256"
          ],
          [
           "X11"
          ],
          [
           "Scrypt"
          ],
          [
           "Scrypt"
          ],
          [
           "Ethash"
          ],
          [
           "Blake2b"
          ],
          [
           "X11"
          ],
          [
           "SHA-256"
          ],
          [
           "Scrypt"
          ],
          [
           "Scrypt"
          ],
          [
           "1GB AES Pattern Search"
          ],
          [
           "Scrypt"
          ],
          [
           "CryptoNight"
          ],
          [
           "SHA-256"
          ],
          [
           "Blake"
          ],
          [
           "SHA-256"
          ],
          [
           "X11"
          ],
          [
           "Scrypt-n"
          ],
          [
           "X11"
          ],
          [
           "Scrypt"
          ],
          [
           "Dagger"
          ],
          [
           "Scrypt"
          ],
          [
           "CryptoNight-Lite"
          ],
          [
           "X11GOST"
          ],
          [
           "SHA-256"
          ],
          [
           "Scrypt"
          ],
          [
           "ScryptOG"
          ],
          [
           "X11"
          ],
          [
           "SHA-256"
          ],
          [
           "Scrypt"
          ],
          [
           "X11"
          ],
          [
           "Equihash"
          ],
          [
           "CryptoNight"
          ],
          [
           "SHA-256"
          ],
          [
           "Multiple"
          ],
          [
           "Scrypt"
          ],
          [
           "SHA-256"
          ],
          [
           "Scrypt"
          ],
          [
           "Scrypt"
          ],
          [
           "Scrypt-n"
          ],
          [
           "Lyra2Z"
          ],
          [
           "SHA-256"
          ],
          [
           "Quark"
          ],
          [
           "Ethash"
          ],
          [
           "SHA-256"
          ],
          [
           "Equihash"
          ],
          [
           "Scrypt"
          ],
          [
           "Equihash"
          ],
          [
           "X11"
          ],
          [
           "X11"
          ],
          [
           "CryptoNight"
          ],
          [
           "Scrypt"
          ],
          [
           "CryptoNight"
          ],
          [
           "Lyra2RE"
          ],
          [
           "X11"
          ],
          [
           "X11"
          ],
          [
           "Scrypt"
          ],
          [
           "CryptoNight-V7"
          ],
          [
           "Keccak"
          ],
          [
           "Scrypt"
          ],
          [
           "X11"
          ],
          [
           "Equihash"
          ],
          [
           "Scrypt"
          ],
          [
           "Lyra2RE"
          ],
          [
           "Ethash"
          ],
          [
           "X11"
          ],
          [
           "Dagger-Hashimoto"
          ],
          [
           "Scrypt"
          ],
          [
           "NIST5"
          ],
          [
           "Scrypt"
          ],
          [
           "Scrypt"
          ],
          [
           "Scrypt"
          ],
          [
           "SHA-256"
          ],
          [
           "Scrypt"
          ],
          [
           "CryptoNight-V7"
          ],
          [
           "Argon2d"
          ],
          [
           "Blake2b"
          ],
          [
           "Cloverhash"
          ],
          [
           "CryptoNight"
          ],
          [
           "X11"
          ],
          [
           "Scrypt"
          ],
          [
           "Scrypt"
          ],
          [
           "X11"
          ],
          [
           "X11"
          ],
          [
           "CryptoNight"
          ],
          [
           "Time Travel"
          ],
          [
           "Scrypt"
          ],
          [
           "Keccak"
          ],
          [
           "X11"
          ],
          [
           "SHA-256"
          ],
          [
           "Scrypt"
          ],
          [
           "Scrypt"
          ],
          [
           "Scrypt"
          ],
          [
           "Scrypt"
          ],
          [
           "Scrypt"
          ],
          [
           "Scrypt"
          ],
          [
           "Scrypt"
          ],
          [
           "Scrypt"
          ],
          [
           "CryptoNight"
          ],
          [
           "Equihash"
          ],
          [
           "X11"
          ],
          [
           "NeoScrypt"
          ],
          [
           "Equihash"
          ],
          [
           "Dagger"
          ],
          [
           "Scrypt"
          ],
          [
           "X11"
          ],
          [
           "NeoScrypt"
          ],
          [
           "Scrypt"
          ],
          [
           "Ethash"
          ],
          [
           "Scrypt"
          ],
          [
           "NeoScrypt"
          ],
          [
           "SHA-256"
          ],
          [
           "Multiple"
          ],
          [
           "Scrypt"
          ],
          [
           "CryptoNight"
          ],
          [
           "CryptoNight"
          ],
          [
           "Ethash"
          ],
          [
           "Scrypt"
          ],
          [
           "X11"
          ],
          [
           "SHA-256"
          ],
          [
           "CryptoNight-V7"
          ],
          [
           "Scrypt"
          ],
          [
           "BLAKE256"
          ],
          [
           "X11"
          ],
          [
           "NeoScrypt"
          ],
          [
           "NeoScrypt"
          ],
          [
           "NeoScrypt"
          ],
          [
           "Scrypt"
          ],
          [
           "X11"
          ],
          [
           "SHA-256"
          ],
          [
           "C11"
          ],
          [
           "NeoScrypt"
          ],
          [
           "Ethash"
          ],
          [
           "Scrypt"
          ],
          [
           "CryptoNight"
          ],
          [
           "SkunkHash"
          ],
          [
           "CryptoNight"
          ],
          [
           "Equihash"
          ],
          [
           "Skein"
          ],
          [
           "Scrypt"
          ],
          [
           "Dagger"
          ],
          [
           "Lyra2REv2"
          ],
          [
           "Scrypt"
          ],
          [
           "Scrypt"
          ],
          [
           "Scrypt"
          ],
          [
           "NeoScrypt"
          ],
          [
           "Equihash"
          ],
          [
           "X11"
          ],
          [
           "Ethash"
          ],
          [
           "X11"
          ],
          [
           "CryptoNight"
          ],
          [
           "NeoScrypt"
          ],
          [
           "Scrypt"
          ],
          [
           "SHA-256"
          ],
          [
           "IMesh"
          ],
          [
           "Quark"
          ],
          [
           "X16S"
          ],
          [
           "Equihash"
          ],
          [
           "Equihash"
          ],
          [
           "Equihash"
          ],
          [
           "PHI1612"
          ],
          [
           "Lyra2Z"
          ],
          [
           "NeoScrypt"
          ],
          [
           "Scrypt"
          ],
          [
           "X11"
          ],
          [
           "CryptoNight"
          ],
          [
           "NIST5"
          ],
          [
           "Lyra2RE"
          ],
          [
           "Tribus"
          ],
          [
           "Lyra2Z"
          ],
          [
           "CryptoNight"
          ],
          [
           "CryptoNight Heavy"
          ],
          [
           "CryptoNight"
          ],
          [
           "Equihash"
          ],
          [
           "Jump Consistent Hash"
          ],
          [
           "CryptoNight"
          ],
          [
           "SHA-512"
          ],
          [
           "X16R"
          ],
          [
           "HMQ1725"
          ],
          [
           "X11"
          ],
          [
           "CryptoNight"
          ],
          [
           "Scrypt"
          ],
          [
           "Scrypt"
          ],
          [
           "CryptoNight-V7"
          ],
          [
           "Cryptonight-GPU"
          ],
          [
           "XEVAN"
          ],
          [
           "CryptoNight Heavy"
          ],
          [
           "CryptoNight"
          ],
          [
           "X11"
          ],
          [
           "Lyra2REv2"
          ],
          [
           "SHA-256"
          ],
          [
           "X11"
          ],
          [
           "X16R"
          ],
          [
           "Equihash"
          ],
          [
           "Quark"
          ],
          [
           "CryptoNight Heavy X"
          ],
          [
           "HMQ1725"
          ],
          [
           "Lyra2Z"
          ],
          [
           "Ethash"
          ],
          [
           "SHA-256"
          ],
          [
           "PHI1612"
          ],
          [
           "Ethash"
          ],
          [
           "CryptoNight"
          ],
          [
           "SkunkHash"
          ],
          [
           "Argon2"
          ],
          [
           "Blake"
          ],
          [
           "Blake"
          ],
          [
           "Blake"
          ],
          [
           "Blake"
          ],
          [
           "SHA-256"
          ],
          [
           "Equihash"
          ],
          [
           "Exosis"
          ],
          [
           "Scrypt"
          ],
          [
           "Equihash"
          ],
          [
           "Equihash"
          ],
          [
           "Lyra2REv2"
          ],
          [
           "QuBit"
          ],
          [
           "Equihash1927"
          ],
          [
           "SHA-256"
          ],
          [
           "SHA-256"
          ],
          [
           "X13"
          ],
          [
           "SHA-256"
          ],
          [
           "Ethash"
          ],
          [
           "X11"
          ],
          [
           "Scrypt"
          ],
          [
           "NeoScrypt"
          ],
          [
           "Blake"
          ],
          [
           "CryptoNight"
          ],
          [
           "Scrypt"
          ],
          [
           "SHA-256"
          ],
          [
           "CryptoNight"
          ],
          [
           "Scrypt"
          ],
          [
           "Groestl"
          ],
          [
           "Scrypt"
          ],
          [
           "Scrypt"
          ],
          [
           "Scrypt"
          ],
          [
           "Multiple"
          ],
          [
           "Equihash+Scrypt"
          ],
          [
           "Lyra2Z"
          ],
          [
           "Ethash"
          ],
          [
           "Ethash"
          ],
          [
           "Equihash"
          ],
          [
           "CryptoNight"
          ],
          [
           "Equihash"
          ]
         ],
         "hovertemplate": "<b>%{hovertext}</b><br><br>Class=%{marker.color}<br>PC 3=%{x}<br>PC 2=%{y}<br>PC 1=%{z}<br>Algorithm=%{customdata[0]}<extra></extra>",
         "hovertext": [
          "Bitcoin",
          "Ethereum",
          "Litecoin",
          "Monero",
          "Ethereum Classic",
          "ZCash",
          "DigiByte",
          "ProsperCoin",
          "Spreadcoin",
          "ACoin",
          "Argentum",
          "BetaCoin",
          "MyriadCoin",
          "MoonCoin",
          "ZetaCoin",
          "SexCoin",
          "Quatloo",
          "QuarkCoin",
          "Riecoin",
          "Digitalcoin ",
          "LimeCoinX",
          "BitMark",
          "Catcoin",
          "CannaCoin",
          "CryptCoin",
          "Verge",
          "DarkShibe",
          "DevCoin",
          "EarthCoin",
          "E-Gulden",
          "Elacoin",
          "Einsteinium",
          "Emerald",
          "Flappy Coin",
          "FireRoosterCoin",
          "Franko",
          "FeatherCoin",
          "GrandCoin",
          "GlobalCoin",
          "GoldCoin",
          "HunterCoin",
          "Infinite Coin",
          "IXcoin",
          "KrugerCoin",
          "LuckyCoin",
          "Litebar ",
          "LitecoinDark",
          "MegaCoin",
          "MediterraneanCoin",
          "MinCoin",
          "NoirBits",
          "NobleCoin",
          "Namecoin",
          "NyanCoin",
          "RipOffCoin",
          "RonPaulCoin",
          "StableCoin",
          "SmartCoin",
          "SpainCoin",
          "SecureCoin",
          "SysCoin",
          "TigerCoin",
          "TerraCoin",
          "Umbrella",
          "UnbreakableCoin",
          "Unobtanium",
          "UroCoin",
          "ViaCoin",
          "VootCoin",
          "Vertcoin",
          "WorldCoin",
          "JouleCoin",
          "ByteCoin",
          "DigitalNote ",
          "MonaCoin",
          "Sling Coin",
          "Gulden",
          "PesetaCoin",
          "Wild Beast Coin",
          "Flo",
          "ArtByte",
          "BitCredit",
          "Folding Coin",
          "Unitus",
          "CypherPunkCoin",
          "OmniCron",
          "GreenCoin",
          "Unattanium",
          "Cryptonite",
          "Gridmaster",
          "ConSpiracy Coin ",
          "MasterCoin",
          "SoonCoin",
          "1Credit",
          "Quicksilver coin",
          "MarsCoin ",
          "Crypto",
          "Anarchists Prime",
          "BowsCoin",
          "Song Coin",
          "BitZeny",
          "Expanse",
          "Siacoin",
          "MindCoin",
          "I0coin",
          "DogeCoinDark",
          "Revolution VR",
          "HOdlcoin",
          "Gamecredits",
          "Dashcoin",
          "CarpeDiemCoin",
          "TrumpCoin",
          "Phalanx",
          "SunShotCoin",
          "HempCoin",
          "Adzcoin",
          "VirtaCoin",
          "SoilCoin",
          "YoCoin",
          "AEON",
          "SibCoin",
          "Anti Bitcoin",
          "Francs",
          "Aiden",
          "BolivarCoin",
          "Clinton",
          "Omni",
          "PizzaCoin",
          "Komodo",
          "Karbo",
          "ZayedCoin",
          "Circuits of Value",
          "DopeCoin",
          "DollarCoin",
          "Shilling",
          "GBR Coin",
          "FujiCoin",
          "ZCoin",
          "LeaCoin",
          "Zurcoin",
          "Elementrem",
          "CashOut",
          "ZClassic",
          "KiloCoin",
          "Hush",
          "ArtexCoin",
          "Kurrent",
          "Cannabis Industry Coin",
          "OsmiumCoin",
          "Bikercoins",
          "HexxCoin",
          "MarxCoin",
          "PacCoin",
          "Solarflarecoin",
          "Citadel",
          "CreativeChain",
          "BeaverCoin",
          "VaultCoin",
          "Zero",
          "Canada eCoin",
          "Zoin",
          "Musicoin",
          "BnrtxCoin",
          "DubaiCoin",
          "EB3coin",
          "Coinonat",
          "Bitcoin Scrypt",
          "BenjiRolls",
          "ParallelCoin",
          "ILCoin",
          "EquiTrader",
          "Quantum Resistant Ledger",
          "Dynamic",
          "Nano",
          "ChanCoin",
          "Dinastycoin",
          "DigitalPrice",
          "Unify",
          "SocialCoin",
          "ArcticCoin",
          "DAS",
          "LeviarCoin",
          "Bitcore",
          "gCn Coin",
          "SmartCash",
          "Onix",
          "Bitcoin Cash",
          "CampusCoin",
          "Sojourn Coin",
          "NewYorkCoin",
          "LiteBitcoin",
          "FrazCoin",
          "Kronecoin",
          "AdCoin",
          "Linx",
          "Sumokoin",
          "BitcoinZ",
          "Elements",
          "VIVO Coin",
          "Bitcoin Gold",
          "Pirl",
          "eBoost",
          "Pura",
          "Innova",
          "Bitdeal",
          "Ellaism",
          "Sakuracoin",
          "GoByte",
          "Insta Cash Coin",
          "SHIELD",
          "BridgeCoin",
          "UltraNote",
          "BitCoal",
          "DaxxCoin",
          "BoxyCoin",
          "AC3",
          "CHIPS",
          "Lethean",
          "PopularCoin",
          "Photon",
          "Sucre",
          "SparksPay",
          "GoaCoin",
          "GunCoin",
          "IrishCoin",
          "Pioneer Coin",
          "UnitedBitcoin",
          "Interzone",
          "Sigil",
          "1717 Masonic Commemorative Token",
          "Crypto Wisdom Coin",
          "TurtleCoin",
          "MUNcoin",
          "Niobio Cash",
          "Bitcoin Private",
          "Skeincoin",
          "ShareChain",
          "Travelflex",
          "KREDS",
          "BitFlip",
          "LottoCoin",
          "LeafCoin",
          "Cerberus",
          "Bitcoin Hush",
          "Crypto Improvement Fund",
          "Callisto Network",
          "Curium",
          "BitTube",
          "Dinero",
          "Poseidon",
          "Manna",
          "Aidos Kuneen",
          "Cosmo",
          "Reden",
          "Snowgem",
          "Bitrolium",
          "Bitcoin Interest",
          "FOLM coin",
          "Alpenschillling",
          "Rapture",
          "Uwezocoin",
          "FuturoCoin",
          "Monero Classic",
          "Jumpcoin",
          "Infinex",
          "KEYCO",
          "GINcoin",
          "PlatinCoin",
          "Loki",
          "Newton Coin",
          "ExchangeCoin",
          "MassGrid",
          "PluraCoin",
          "Arionum",
          "Motion",
          "PlusOneCoin",
          "Axe",
          "BitminerCoin",
          "HexCoin",
          "Deimos",
          "Webchain",
          "Ryo",
          "Urals Coin",
          "Qwertycoin",
          "Bitcoin Nova",
          "DACash",
          "NIX",
          "Project Pai",
          "Azart",
          "Xchange",
          "CrypticCoin",
          "ZestCoin",
          "X-CASH",
          "Brazio",
          "Actinium",
          "ETHER-1",
          "Bitcoin SV",
          "Argoneum",
          "Bitcoiin2Gen",
          "FREDEnergy",
          "C25 Coin",
          "Aquachain",
          "BlakeBitcoin",
          "Universal Molecule",
          "Lithium",
          "Electron",
          "Smart Bitcoin",
          "PirateCash",
          "Exosis",
          "Block-Logic",
          "Beam",
          "Bithereum",
          "Scribe Network",
          "SLICE",
          "Vidulum",
          "BlockStamp",
          "BLAST",
          "Bitcoin Rhodium",
          "GlobalToken",
          "Media Protocol Token",
          "Boolberry",
          "SolarCoin",
          "UFO Coin",
          "BlakeCoin",
          "FantomCoin ",
          "Crypto Escudo",
          "Crown Coin",
          "Quazar Coin",
          "SmileyCoin",
          "Groestlcoin",
          "Bata",
          "Pakcoin",
          "Dotcoin",
          "JoinCoin",
          "Vollar",
          "TecraCoin",
          "Reality Clash",
          "iOlite",
          "ChainZilla",
          "Beldex",
          "Horizen"
         ],
         "legendgroup": "0",
         "marker": {
          "color": [
           0,
           0,
           0,
           0,
           0,
           0,
           0,
           0,
           0,
           0,
           0,
           0,
           0,
           0,
           0,
           0,
           0,
           0,
           0,
           0,
           0,
           0,
           0,
           0,
           0,
           0,
           0,
           0,
           0,
           0,
           0,
           0,
           0,
           0,
           0,
           0,
           0,
           0,
           0,
           0,
           0,
           0,
           0,
           0,
           0,
           0,
           0,
           0,
           0,
           0,
           0,
           0,
           0,
           0,
           0,
           0,
           0,
           0,
           0,
           0,
           0,
           0,
           0,
           0,
           0,
           0,
           0,
           0,
           0,
           0,
           0,
           0,
           0,
           0,
           0,
           0,
           0,
           0,
           0,
           0,
           0,
           0,
           0,
           0,
           0,
           0,
           0,
           0,
           0,
           0,
           0,
           0,
           0,
           0,
           0,
           0,
           0,
           0,
           0,
           0,
           0,
           0,
           0,
           0,
           0,
           0,
           0,
           0,
           0,
           0,
           0,
           0,
           0,
           0,
           0,
           0,
           0,
           0,
           0,
           0,
           0,
           0,
           0,
           0,
           0,
           0,
           0,
           0,
           0,
           0,
           0,
           0,
           0,
           0,
           0,
           0,
           0,
           0,
           0,
           0,
           0,
           0,
           0,
           0,
           0,
           0,
           0,
           0,
           0,
           0,
           0,
           0,
           0,
           0,
           0,
           0,
           0,
           0,
           0,
           0,
           0,
           0,
           0,
           0,
           0,
           0,
           0,
           0,
           0,
           0,
           0,
           0,
           0,
           0,
           0,
           0,
           0,
           0,
           0,
           0,
           0,
           0,
           0,
           0,
           0,
           0,
           0,
           0,
           0,
           0,
           0,
           0,
           0,
           0,
           0,
           0,
           0,
           0,
           0,
           0,
           0,
           0,
           0,
           0,
           0,
           0,
           0,
           0,
           0,
           0,
           0,
           0,
           0,
           0,
           0,
           0,
           0,
           0,
           0,
           0,
           0,
           0,
           0,
           0,
           0,
           0,
           0,
           0,
           0,
           0,
           0,
           0,
           0,
           0,
           0,
           0,
           0,
           0,
           0,
           0,
           0,
           0,
           0,
           0,
           0,
           0,
           0,
           0,
           0,
           0,
           0,
           0,
           0,
           0,
           0,
           0,
           0,
           0,
           0,
           0,
           0,
           0,
           0,
           0,
           0,
           0,
           0,
           0,
           0,
           0,
           0,
           0,
           0,
           0,
           0,
           0,
           0,
           0,
           0,
           0,
           0,
           0,
           0,
           0,
           0,
           0,
           0,
           0,
           0,
           0,
           0,
           0,
           0,
           0,
           0,
           0,
           0,
           0,
           0,
           0,
           0,
           0,
           0,
           0,
           0,
           0,
           0,
           0,
           0,
           0,
           0,
           0,
           0,
           0,
           0,
           0,
           0,
           0,
           0,
           0,
           0,
           0,
           0,
           0,
           0,
           0,
           0,
           0,
           0,
           0,
           0,
           0,
           0,
           0,
           0,
           0,
           0,
           0,
           0,
           0,
           0
          ],
          "coloraxis": "coloraxis",
          "symbol": "diamond"
         },
         "mode": "markers",
         "name": "0",
         "scene": "scene",
         "showlegend": true,
         "type": "scatter3d",
         "x": [
          0.046927554317113214,
          0.1158787058885556,
          0.010066449308102438,
          0.1999192942135747,
          0.11587933247285571,
          0.24577574297962615,
          0.14153622634087729,
          0.010060123326362785,
          -0.00002695852336823175,
          0.046925574132696726,
          0.010060834337248586,
          0.046925574086022055,
          0.14046282078979908,
          0.010058896634807352,
          0.04694437444679606,
          0.010073728476682812,
          0.010060298777650432,
          -0.1241532742615896,
          -0.006119244998130827,
          0.010063180196363814,
          -0.00002819011112112324,
          0.010059486155670034,
          0.010060283673506814,
          0.010060005762718966,
          -0.000027638145424268183,
          0.14203587272070003,
          0.010059486194876718,
          0.048999279629614374,
          0.011444510018791055,
          0.01006179591213114,
          0.01005948608286397,
          0.010083662064373465,
          0.010061639740468175,
          0.01005933266339827,
          0.046925574131157374,
          0.010059612405583918,
          0.11811873471707186,
          0.010157143490420028,
          0.010066740220317345,
          0.010064087651284923,
          0.14027634126052232,
          0.02006644509467935,
          0.04692790360705568,
          0.010076214515886944,
          0.010061620929293965,
          0.010059608180478725,
          0.010059486072111533,
          0.010063700357597828,
          0.032839658474680684,
          0.010060127308157881,
          0.04692557405838584,
          0.010320816008381485,
          0.04692720186794436,
          0.010096457259170313,
          0.010059486179590765,
          0.010059608129674439,
          0.010062160594049572,
          0.010062313172850052,
          0.11429544971911713,
          0.010059486165772787,
          0.04698779824909089,
          0.04693038308557826,
          0.04692810748694663,
          0.04692557413112279,
          0.04692582565403658,
          0.04692559632724431,
          -0.000028056720867211244,
          0.010062043382427836,
          -0.000028190078878765088,
          0.12341932554196831,
          0.010072697429459418,
          0.04692990358032626,
          0.20711463264647284,
          0.18754599318502066,
          0.010067018738448159,
          0.04692557413361776,
          0.010105327600954006,
          0.010074675977390564,
          0.010059506288561195,
          0.010076305586998914,
          0.010147027374819938,
          0.03233344703838455,
          0.20506339746800842,
          0.14028353366209165,
          -0.012476031812228809,
          0.010060606249961404,
          0.010568723530965505,
          0.04692557413515298,
          0.08683350373661654,
          0.010059486069045899,
          -0.000028190129545227674,
          0.010059554623859211,
          0.046926950708938174,
          0.010059354690069423,
          -0.000028190129545227674,
          -0.00002463097311492927,
          0.15837774960691428,
          0.04692720301060163,
          -0.000026437810696261733,
          0.010063082999124347,
          0.01006783810097371,
          0.11586797048855968,
          0.13049551879200993,
          -0.000026437376924698546,
          0.04692789345897034,
          0.010059460864803254,
          0.010082682223210914,
          0.18967538698383865,
          0.010067200080721721,
          0.18678311514316354,
          0.049326912103161855,
          -0.000363833759502174,
          0.046925574112122885,
          -0.000028193533407662653,
          0.11429544211915346,
          -0.000023207375673149347,
          0.01005945395574544,
          0.19574244071778618,
          0.010059556242426744,
          0.2163038672920211,
          0.23458855293015338,
          0.04692557407066858,
          0.010060211970824875,
          0.12996481335787555,
          -0.000026681903719354878,
          0.04692557413143568,
          0.010059554289173612,
          -0.00002803791420673145,
          0.6037373918971952,
          0.18678397921265005,
          0.046926263807267526,
          0.1403867982807758,
          0.010072392474404196,
          0.04692658003550364,
          0.010060714365423192,
          0.010059486063672088,
          0.11429544978053095,
          0.12695977053720994,
          0.046925571064460804,
          -0.12418194444830931,
          0.11586970581083146,
          0.04692557398161865,
          0.24577554752209296,
          0.010081153682516072,
          0.24577492745610632,
          0.00006282720315186283,
          -0.000021412145443005344,
          0.18678322318396492,
          0.010059584946885072,
          0.18678414870579718,
          0.15837643892312808,
          -0.00002819023339608327,
          0.00003097078104501113,
          0.0100594861673081,
          0.1999186055696744,
          0.03830725226034521,
          0.01005983030051077,
          -0.00002483526399436904,
          0.24577569201981886,
          0.010070514627369548,
          0.15837828021144257,
          0.11586681052029597,
          -0.00002819040130148195,
          0.2964827855717518,
          0.010066560029502554,
          -0.034303790096097346,
          0.010059486165772787,
          0.010061725817022341,
          0.010059486196479579,
          0.04707112710194782,
          0.01006099643551157,
          0.19992501967021203,
          0.130350006090673,
          0.12685423865965914,
          0.1362235693240811,
          0.18698298366676305,
          -0.000024308823465486295,
          0.010061489139345382,
          0.010060056909079667,
          -0.00002531356272893406,
          -0.000027900387061550038,
          0.18678467938431656,
          0.3633667166309268,
          0.02807004923643329,
          0.03855478393752203,
          -0.000014663255936269506,
          0.046927561874115876,
          0.01005948464731538,
          0.010059523673035533,
          0.025855831070001587,
          0.010059484662668846,
          0.010060558064124949,
          0.010061413989228739,
          0.010063092163158212,
          0.010063210331421116,
          0.18678410327154882,
          0.24635055715563234,
          0.00027036134634466887,
          0.11809614602203365,
          0.2457768276082381,
          0.1957455648434572,
          0.010070530819875799,
          -0.000008836483041971761,
          0.11809639003007737,
          0.0100594857374111,
          0.11586821984179349,
          0.010059486036650061,
          0.11809633007650043,
          0.046925573674549276,
          0.14032955169110992,
          0.010059486156560677,
          0.18891283148719787,
          0.18678361221688625,
          0.11592433294526369,
          0.010060122454260996,
          -0.000019319291619315145,
          0.04692557410291071,
          0.19996613263189977,
          0.010497359426994608,
          0.02085678666399781,
          -0.000027722974547033106,
          0.11809655267976164,
          0.11809612570890056,
          0.11812880044962976,
          0.010064510102720844,
          -0.00002725363297548287,
          0.04692780161631554,
          -0.003826447738376259,
          0.11809568581894923,
          -0.04240124537175213,
          0.010061433610554553,
          0.19265134215873667,
          0.013312394170117392,
          0.18679790867503784,
          0.24577492745610632,
          -0.0658709687494585,
          0.011164058826394813,
          0.19575366578884298,
          0.12348478431668988,
          0.010060860917849539,
          0.011660117974341947,
          0.01005945395574544,
          0.11809568584735286,
          0.24577492745610632,
          -0.000004851163343851988,
          0.11589415221294615,
          -0.000028190112656496693,
          0.18679195576163307,
          0.11809568574218167,
          0.010059935756515096,
          0.04718629431245947,
          0.09196487276826631,
          -0.12418095800012631,
          0.15528907816081836,
          0.24577492735923204,
          0.24578280922110782,
          0.24577492745411053,
          -0.021154514052347147,
          0.1269619541251655,
          0.11809618059752816,
          0.010059484908324213,
          -0.00002467748123028528,
          0.18678488434678348,
          -0.03430258095609624,
          0.15837679474593017,
          -0.06821584272090574,
          0.12695970628000913,
          0.186783123561954,
          0.1456634492229106,
          0.1913441757204606,
          0.2457749274392172,
          0.17538604193813806,
          0.18684498005732195,
          0.11262219456639108,
          0.00032865898824140517,
          0.21441948142353512,
          -0.000027638586950983702,
          0.18678311509471848,
          0.0100596426469755,
          0.010089213979994781,
          0.19991911247920766,
          0.250275732386366,
          0.20732167949599575,
          0.1566575674852402,
          0.18683662586484703,
          -0.000025239885453022945,
          0.12341367281422032,
          0.047157534387112836,
          -0.00002763606903417566,
          0.00032883868321841134,
          0.24624272114662585,
          -0.12418194429984132,
          0.222473358194223,
          0.21442687462974425,
          0.1269604405469905,
          0.11586681119773982,
          0.04692756153445493,
          -0.02115297105190278,
          0.11586681106518763,
          0.18698933540333587,
          0.013311861958304545,
          -0.019077494576863283,
          0.15790667649304493,
          0.15790457574655475,
          0.1579061519439425,
          0.15790705917004047,
          0.04692557410291117,
          0.08750818054709357,
          0.12337693255371025,
          0.010063383521226843,
          0.24577886908542904,
          0.2457777055666883,
          0.12341434026831928,
          -0.012475307300218858,
          0.13890353427307606,
          0.046925573973941793,
          0.04693135035123725,
          -0.08417182627751124,
          0.046934920138551633,
          0.1169713838471022,
          -0.00002819010720589872,
          0.010065473232114756,
          0.11851814986419018,
          0.1579069707884394,
          0.18678311514323528,
          0.010145665798921321,
          0.04692811317922931,
          0.18678311514316354,
          0.013327221336809678,
          -0.006116621676028985,
          0.010060044289592802,
          0.010067183179782006,
          0.010059484831556846,
          0.1402767094713218,
          0.2598131573478707,
          0.1269634492072894,
          0.11586951608999946,
          0.11586680968337612,
          0.4667158502133053,
          0.18689138723145615,
          0.24577573342286946
         ],
         "y": [
          -1.4539607208326886,
          -2.161055114414281,
          -1.0584401287673633,
          -2.2335531916487796,
          -2.1610593169533328,
          -2.0635867102784333,
          -1.7587988433075448,
          -1.0583976981766878,
          -0.7594832061648945,
          -1.4539474390370908,
          -1.0584024671452252,
          -1.4539474386967361,
          -1.7515991411465668,
          -1.058389125593865,
          -1.454073539391718,
          -1.0584889526344754,
          -1.0583988749210014,
          -0.6894840264517613,
          -1.2120130333891979,
          -1.058418201684884,
          -0.7594749454595467,
          -1.0583934244365178,
          -1.05839877368297,
          -1.0583969096418688,
          -0.7594786476957822,
          -1.762150156260046,
          -1.058393424722416,
          -1.4678565128900025,
          -1.067683268272667,
          -1.0584089168143105,
          -1.058393423905609,
          -1.0585555807548057,
          -1.0584078693046144,
          -1.0583923051576352,
          -1.4539474390258675,
          -1.0583942712550196,
          -1.6086444675020808,
          -1.0590484462469618,
          -1.05844208003339,
          -1.0584242882915953,
          -1.7503483572629082,
          -1.1255136356531874,
          -1.4539630636466339,
          -1.058505627384626,
          -1.058407743142039,
          -1.058394242924585,
          -1.058393423827202,
          -1.0584216905999293,
          -2.2604733720323016,
          -1.0583977248939023,
          -1.4539474384952091,
          -1.0601462448246262,
          -1.4539583568286372,
          -1.0586414027201698,
          -1.0583934246109497,
          -1.0583942425661828,
          -1.0584113626622365,
          -1.0584123862419046,
          -2.2785775228272263,
          -1.0583934245101867,
          -1.4543647978927563,
          -1.4539796943824124,
          -1.4539644311239404,
          -1.4539474390256144,
          -1.4539491260112936,
          -1.4539475879051604,
          -0.7594758401750719,
          -1.0584105766852905,
          -0.7594749456946598,
          -1.5958065863322726,
          -1.058482037014036,
          -1.4539764781690865,
          -2.42356108013763,
          -2.2923072950803784,
          -1.0584439481236876,
          -1.4539474390438076,
          -1.0587008981047057,
          -1.058495307939442,
          -1.0583935594974987,
          -1.058506238326151,
          -1.0589805941788368,
          -2.2752688677844355,
          -2.3383702695679163,
          -1.7503965993390043,
          -1.1583623859422796,
          -1.0584009373357353,
          -1.061809054720845,
          -1.4539474390550038,
          -2.2331494721326712,
          -1.0583934238048465,
          -0.7594749453251959,
          -1.058393883701627,
          -1.4539566722143529,
          -1.0583924600805223,
          -0.7594749453251959,
          -0.7594988178745103,
          -2.2398815123499745,
          -1.4539583644634408,
          -0.7594866987721993,
          -1.058417549602346,
          -1.058449443754394,
          -2.160983108189053,
          -2.219979956268378,
          -0.7594867016861506,
          -1.4539629955797542,
          -1.0583932400133351,
          -1.0585490086863893,
          -2.2640105343180217,
          -1.0584451644708575,
          -2.287190405126811,
          -1.4700540618131062,
          -0.14156887511917354,
          -1.453947438887066,
          -0.7594749205039374,
          -2.2785774674076364,
          -0.7595083664115975,
          -1.05839318963189,
          -2.1734974982958684,
          -1.0583938944073636,
          -2.2056991941737434,
          -2.0520901106820153,
          -1.4539474385847766,
          -1.0583982927480502,
          -2.166916791188005,
          -0.7594850615484285,
          -1.4539474390278961,
          -1.0583938814567726,
          -0.7594759662957012,
          -1.623991149462539,
          -2.287196200760922,
          -1.453952064926548,
          -1.7510892314039115,
          -1.0584799916289274,
          -1.4539541859828773,
          -1.0584016624813308,
          -1.058393423765661,
          -2.2785775232750605,
          -1.8147331859564426,
          -1.4539474166632502,
          -0.6892917252497519,
          -2.1609947476147453,
          -1.4539474379354158,
          -2.0635853992740683,
          -1.0585387474221475,
          -2.063581240267255,
          -0.7600854310719241,
          -0.7595204075407034,
          -2.2871911297932432,
          -1.0583940870872468,
          -2.287197337599289,
          -2.2398727211699088,
          -0.759474944567907,
          -0.7598716692016827,
          -1.0583934245213822,
          -2.2335485724990387,
          -1.5007139402531418,
          -1.0583957327621651,
          -0.759497446753573,
          -2.0635863684761633,
          -1.0584673963195355,
          -2.239885071346645,
          -2.1609753274692074,
          -0.7594749433435259,
          -2.088264376368586,
          -1.0584408679002546,
          -0.449779178876738,
          -1.0583934245101867,
          -1.058408446648032,
          -1.0583934247341042,
          -1.4549237131967996,
          -1.0584035543897152,
          -2.233591594262765,
          -2.307327034131039,
          -2.1955565732797795,
          -2.0459790732552294,
          -2.288530993816254,
          -0.7595009785885618,
          -1.0584068591798421,
          -1.0583972526434726,
          -0.7594942394748768,
          -0.7594768887454755,
          -2.2872008970259996,
          -2.33569662412219,
          -1.1791966048473015,
          -1.5023742203439865,
          -0.759565674000457,
          -1.4539607715202214,
          -1.0583934134374644,
          -1.0583936666773917,
          -1.1643452224043667,
          -1.0583934135494233,
          -1.0584006141209743,
          -1.0584063550627283,
          -1.0584176111678043,
          -1.058418403765079,
          -2.287197032797998,
          -2.0674421779991596,
          -0.7614774364560499,
          -1.6084929572328721,
          -2.063593985274776,
          -2.1735184528231617,
          -1.0584675049285301,
          -0.7596047569467727,
          -1.6084945938669055,
          -1.058393421386537,
          -2.1609847804551756,
          -1.0583934235686134,
          -1.6084941917484328,
          -1.4539474356962407,
          -1.750705258309109,
          -1.0583934244430113,
          -2.3014751065459653,
          -2.2871937391853665,
          -2.16136114260676,
          -1.0583976922562637,
          -0.7595344447790834,
          -1.4539474388198905,
          -2.2338673529619024,
          -1.0613303943561136,
          -1.1934828510272735,
          -0.7594780787145609,
          -1.6084956848387038,
          -1.6084928209808529,
          -1.608711981863294,
          -1.0584271218335535,
          -0.7594812267553419,
          -1.4539623795586043,
          -1.1198834790919139,
          -1.6084898704637076,
          -0.38846262378450075,
          -1.05840648672392,
          -2.326549828172416,
          -1.59792427892932,
          -2.28728963040995,
          -2.063581240267255,
          -0.5031507268818105,
          -1.0658021838448166,
          -2.1735727888440453,
          -1.5962456410947738,
          -1.0584026454524746,
          -1.069129424397915,
          -1.05839318963189,
          -1.6084898706708308,
          -2.063581240267255,
          -0.7596314877925787,
          -2.161158712662665,
          -0.7594749454483507,
          -2.287249701470821,
          -1.6084898699039132,
          -1.058396440077886,
          -1.4556961745536126,
          -2.301473123837518,
          -0.689298341816897,
          -2.1588781777578867,
          -2.0635812395608397,
          -2.063634106071497,
          -2.063581240252701,
          -1.0768480837941923,
          -1.8147478318204204,
          -1.6084931891486034,
          -1.0583934153407635,
          -0.759498505867612,
          -2.2872022718153486,
          -0.44978728904046467,
          -2.239875107787507,
          -1.1888709282570025,
          -1.8147327549699437,
          -2.2871904610725906,
          -2.1727837262145866,
          -2.3177829227140005,
          -2.0635812401441003,
          -2.117717881067143,
          -2.2876053545977544,
          -0.7524544964499943,
          -1.289356999147817,
          -2.233161656898873,
          -0.7594786447316093,
          -2.287190404773545,
          -1.058394474085211,
          -1.0585928188320621,
          -2.2335519711196112,
          -2.1623366431006943,
          -0.7841964484791585,
          -2.246525087847517,
          -2.2875493200076065,
          -0.7594947336639886,
          -1.5957686713613148,
          -1.4555032784659023,
          -0.7594786616165969,
          -1.2893582043570557,
          -2.066718894918765,
          -0.6892917263323928,
          -2.204623647726511,
          -2.233211245639621,
          -1.8147376798981445,
          -2.160975332409187,
          -1.4539607692419934,
          -1.0768584332193802,
          -2.160975331442606,
          -2.2885735917521455,
          -1.5979207092016474,
          -2.2600820257257075,
          -1.9140980414861954,
          -1.9140839509442518,
          -1.914094523141872,
          -1.9141006019737674,
          -1.453947438819893,
          -0.291077315922805,
          -2.2113223734892666,
          -1.0584195653937813,
          -2.0636076779834993,
          -2.0635998740507326,
          -1.595773148345085,
          -1.158367245416567,
          -2.096820243186256,
          -1.4539474378794368,
          -1.4539861821677393,
          -0.2590764496011901,
          -1.4540101259288705,
          -2.16838409166171,
          -0.7594749454880959,
          -1.05843349387843,
          -1.61132348604924,
          -1.9141000091664062,
          -2.2871904051273346,
          -1.0589714615968826,
          -1.4539644693041387,
          -2.287190405126811,
          -1.0803112611797827,
          -1.2120306289403824,
          -1.058397168062853,
          -1.0584450510221612,
          -1.0583934147809695,
          -1.7503508270210908,
          -2.2104061633776584,
          -1.814757859957706,
          -2.160993475090058,
          -2.1609753213663168,
          -1.6109519667246637,
          -2.287916623938097,
          -2.063586646177806
         ],
         "z": [
          -0.16243492302622012,
          -0.2880964069800897,
          -0.29727928885138477,
          -0.270397996900238,
          -0.28801821830875013,
          -0.21683948056360408,
          -0.05962067530246305,
          -0.2980682899443106,
          -0.24196694690312834,
          -0.16268189928254387,
          -0.29797960308549903,
          -0.16268189933982694,
          -0.19350157406648316,
          -0.29814848021573626,
          -0.16033705445718724,
          -0.29637138485089537,
          -0.298046392328373,
          -0.032323012559997484,
          -0.304023297376573,
          -0.2976870258273258,
          -0.24212055281165115,
          -0.298147757905228,
          -0.2980482911264674,
          -0.298082954208418,
          -0.24205171111015525,
          0.002695381907584953,
          -0.29814775785711034,
          0.09595879670508786,
          -0.12540224545743503,
          -0.2978596816879653,
          -0.2981477579945821,
          -0.29513243840185055,
          -0.29787915764575124,
          -0.2981479462842021,
          -0.1626818992844327,
          -0.29813201486138213,
          -0.26152363863538847,
          -0.2859674748454968,
          -0.29724300834974376,
          -0.2975738416612777,
          -0.21676004674628904,
          0.9499574327749739,
          -0.16239135888341755,
          -0.29606131812434827,
          -0.2978815060884633,
          -0.2981325436994263,
          -0.29814775800777826,
          -0.2976221514425714,
          -0.3392700074832595,
          -0.29806779541252054,
          -0.1626818993737445,
          -0.2655513349253211,
          -0.1624788811948044,
          -0.2935365889532537,
          -0.2981477578758707,
          -0.29813254631003583,
          -0.2978141544066036,
          -0.297795162166033,
          -0.3099393264549914,
          -0.2981477578928293,
          -0.15492101444308948,
          -0.162082108410091,
          -0.16236592659219473,
          -0.1626818992844753,
          -0.16265051417065388,
          -0.16267913138994122,
          -0.24210392009302448,
          -0.2978288163163138,
          -0.24212055277208067,
          -0.2477289902345596,
          -0.29649997620751695,
          -0.1621419136496536,
          2.415569759832864,
          -0.025103337004447578,
          -0.2972082643500765,
          -0.1626818992814132,
          -0.2924300074678228,
          -0.29625322651342034,
          -0.29814525162170746,
          -0.29604997954089524,
          -0.28722925685158285,
          -0.3312137874198805,
          -0.18114204895351846,
          -0.21586300394038266,
          -0.2757485322068819,
          -0.2980080620856713,
          -0.2346327588307159,
          -0.162681899279529,
          -0.205584506376713,
          -0.2981477580115409,
          -0.24212055283426281,
          -0.29813922352707334,
          -0.16251020625049367,
          -0.29814671593070347,
          -0.24212055283426281,
          -0.2416766476958305,
          -0.2810301923638143,
          -0.16247873246878547,
          -0.24190200238323076,
          -0.29769911773184665,
          -0.2971060443399496,
          -0.2894353444222097,
          0.3122698865873776,
          -0.24190194923040825,
          -0.16239262457302395,
          -0.2981477889443645,
          -0.29525466318490595,
          -0.2860205974195181,
          -0.29718565098200267,
          -0.12025291117269117,
          0.13682189559150865,
          -0.03377777887463092,
          -0.16268189930779361,
          -0.24212055701177682,
          -0.3099393357823231,
          -0.2414990840936843,
          -0.298147797423757,
          -0.2729934175660745,
          -0.2981389898529118,
          -0.20892772641805843,
          -0.15746227866167412,
          -0.16268189935867,
          -0.29805723421857033,
          -0.23773740782452968,
          -0.2419324453968954,
          -0.16268189928409132,
          -0.2981392652702964,
          -0.24210156974837224,
          0.07763519275537566,
          -0.1201451442924705,
          -0.1625958801422329,
          -0.2029834057661393,
          -0.2965380232187613,
          -0.16255643935041683,
          -0.29799457265913937,
          -0.298147758018136,
          -0.309939326379619,
          -0.2552522644833431,
          -0.16268190304814786,
          -0.03589883877321396,
          -0.2892189097799504,
          -0.16268189946796002,
          -0.216863858419784,
          -0.2954434495964263,
          -0.21694119429500713,
          -0.23076859974859912,
          -0.24127515207028824,
          -0.12023943562287628,
          -0.2981354411811937,
          -0.12012400192262632,
          -0.2811936740561142,
          -0.24212055296171747,
          -0.2347229307850386,
          -0.298147757890945,
          -0.2704838508729006,
          -0.24206987713133066,
          -0.2981048400617661,
          -0.24170194391451985,
          -0.21684583713160013,
          -0.2967722510332265,
          -0.28096402279366534,
          -0.28957993494741596,
          -0.2421205531677856,
          -0.23060149666266058,
          -0.2972647369539881,
          -0.18982808279373029,
          -0.2981477578928293,
          -0.2978684213375277,
          -0.2981477578551432,
          -0.14452776690494787,
          -0.29795938434769687,
          -0.2696838865399185,
          -0.2876111843639596,
          -0.14187782038390956,
          -0.33791246754153326,
          -0.09532453176375039,
          -0.24163645584085175,
          -0.2978979433326771,
          -0.29807656340246463,
          -0.24176177652406516,
          -0.242084418243217,
          -0.12005780913322046,
          -0.18491318651820926,
          1.9482037593168073,
          -0.21119630296416267,
          -0.24043325167866533,
          -0.16243398050204103,
          -0.2981477597564114,
          -0.29814109301837266,
          1.6720041009896736,
          -0.29814775973756824,
          -0.2980140687670802,
          -0.2979073039341563,
          -0.2976979956774228,
          -0.29768325749431956,
          -0.12012965645954898,
          -0.14514352426956365,
          -0.2048842780951765,
          -0.26434100463777416,
          -0.2167042035047369,
          -0.272603746389045,
          -0.2967702314713286,
          -0.23970666706579108,
          -0.2643105680515372,
          -0.29814775841855173,
          -0.2894041947016484,
          -0.29814775805129984,
          -0.2643180480848957,
          -0.16268189984482176,
          -0.21012341779489532,
          -0.29814775790413534,
          0.1453857018263308,
          -0.12019091626725563,
          -0.28240381275416815,
          -0.29806838373562733,
          -0.241014066084472,
          -0.16268189931909943,
          -0.2645560257841953,
          -0.24353438124603902,
          0.34463122942579255,
          -0.24206229082744882,
          -0.26429028660682535,
          -0.26434353718449394,
          -0.26026818915852556,
          -0.2975211542331722,
          -0.24200375299723986,
          -0.16240407953151953,
          -0.27189657250177834,
          -0.26439839772981927,
          -0.11678745714333139,
          -0.29790486809944633,
          0.6118337519897873,
          -0.30948805709660815,
          -0.11840777195470566,
          -0.21694119429500713,
          -0.24610251736531166,
          -0.16038134507455426,
          -0.2715933908862149,
          -0.23956464773876143,
          -0.29797629245013213,
          -0.0985102578015847,
          -0.298147797423757,
          -0.26439839769495965,
          -0.21694119429500713,
          -0.23920958154760286,
          -0.286168677930765,
          -0.2421205528135354,
          -0.11915010537158913,
          -0.2643983978240348,
          -0.298091684032454,
          -0.13016245058007556,
          -0.40129093050594794,
          -0.03577582861026024,
          -0.0972595531506031,
          -0.21694119441389947,
          -0.21595815544304206,
          -0.21694119429745676,
          -0.1935873898503599,
          -0.25497987018331053,
          -0.2643366934503112,
          -0.29814775943607874,
          -0.24168243557770536,
          -0.12003225255269785,
          -0.18967728159146066,
          -0.28114929203476746,
          -0.29940978109702804,
          -0.25526028083721586,
          -0.12025175089749948,
          0.30628757671651574,
          0.4486466089768365,
          -0.21694119431573458,
          -0.23859749858610824,
          -0.1125368087158129,
          -0.5475933041830038,
          -0.2330464601070671,
          -0.2197607997539969,
          -0.24205176560943573,
          -0.12025291123214718,
          -0.29812824103337054,
          -0.29443985957037616,
          -0.27042033136259586,
          -0.20453568817650294,
          -0.11274462544649873,
          1.6775310360876412,
          -0.1135787603804219,
          -0.24175258924230913,
          -0.2484339925383336,
          -0.1337509525960011,
          -0.24205145081136653,
          -0.23302403341363098,
          -0.1585955886335371,
          -0.03589883859100123,
          -0.3156559447725958,
          -0.21883866895964896,
          -0.2551686876484073,
          -0.28957993411599814,
          -0.16243402286521846,
          -0.1933949359623211,
          -0.2895799342786776,
          -0.09453117760970955,
          -0.30955443761371565,
          -0.32109519440328366,
          -0.20626422814656126,
          -0.20652622151833191,
          -0.2063296501623284,
          -0.20621517663477487,
          -0.16268189931909893,
          -0.04398535562546862,
          -0.23438223062921085,
          -0.2976616531217921,
          -0.21644954052225002,
          -0.2165947008890001,
          -0.24835077330365704,
          -0.27565815065314087,
          -0.1989907202566129,
          -0.1626818994773815,
          -0.1619614658733223,
          -0.12484390051947136,
          -0.1615162151105472,
          -0.15181352131154213,
          -0.24212055280684613,
          -0.2973824424743602,
          -0.21170708455477996,
          -0.20622619976558115,
          -0.12025291117260298,
          -0.2873990753323536,
          -0.1623652166392657,
          -0.12025291117269117,
          0.10942021214689655,
          -0.30369610739344105,
          -0.29807815060271614,
          -0.2971877403196734,
          -0.2981477595302944,
          -0.21671413018845428,
          -0.17245472446835391,
          -0.2547934176026431,
          -0.2892425724688059,
          -0.2895799359745561,
          -0.11537791306201632,
          -0.10674873686556337,
          -0.21684067250155006
         ]
        },
        {
         "customdata": [
          [
           "SHA-256 + Hive"
          ],
          [
           "ECC 256K1"
          ],
          [
           "SHA3-256"
          ]
         ],
         "hovertemplate": "<b>%{hovertext}</b><br><br>Class=%{marker.color}<br>PC 3=%{x}<br>PC 2=%{y}<br>PC 1=%{z}<br>Algorithm=%{customdata[0]}<extra></extra>",
         "hovertext": [
          "LitecoinCash",
          "Acute Angle Cloud",
          "Fiii"
         ],
         "legendgroup": "3",
         "marker": {
          "color": [
           3,
           3,
           3
          ],
          "coloraxis": "coloraxis",
          "symbol": "square"
         },
         "mode": "markers",
         "name": "3",
         "scene": "scene",
         "showlegend": true,
         "type": "scatter3d",
         "x": [
          11.544970876926891,
          32.44431306791933,
          13.479906890402251
         ],
         "y": [
          4.292696287327601,
          2.9675890732533357,
          -0.03393771223824185
         ],
         "z": [
          0.45197195172362886,
          -0.050039173407720246,
          -0.27976112358119853
         ]
        },
        {
         "customdata": [
          [
           "TRC10"
          ]
         ],
         "hovertemplate": "<b>%{hovertext}</b><br><br>Class=%{marker.color}<br>PC 3=%{x}<br>PC 2=%{y}<br>PC 1=%{z}<br>Algorithm=%{customdata[0]}<extra></extra>",
         "hovertext": [
          "BitTorrent"
         ],
         "legendgroup": "1",
         "marker": {
          "color": [
           1
          ],
          "coloraxis": "coloraxis",
          "symbol": "x"
         },
         "mode": "markers",
         "name": "1",
         "scene": "scene",
         "showlegend": true,
         "type": "scatter3d",
         "x": [
          0.4162967526810354
         ],
         "y": [
          -1.2080121338857306
         ],
         "z": [
          32.551901828347454
         ]
        }
       ],
       "layout": {
        "coloraxis": {
         "colorbar": {
          "title": {
           "text": "Class"
          }
         },
         "colorscale": [
          [
           0,
           "#0d0887"
          ],
          [
           0.1111111111111111,
           "#46039f"
          ],
          [
           0.2222222222222222,
           "#7201a8"
          ],
          [
           0.3333333333333333,
           "#9c179e"
          ],
          [
           0.4444444444444444,
           "#bd3786"
          ],
          [
           0.5555555555555556,
           "#d8576b"
          ],
          [
           0.6666666666666666,
           "#ed7953"
          ],
          [
           0.7777777777777778,
           "#fb9f3a"
          ],
          [
           0.8888888888888888,
           "#fdca26"
          ],
          [
           1,
           "#f0f921"
          ]
         ]
        },
        "legend": {
         "title": {
          "text": "Class"
         },
         "tracegroupgap": 0,
         "x": 0,
         "y": 1
        },
        "margin": {
         "t": 60
        },
        "scene": {
         "domain": {
          "x": [
           0,
           1
          ],
          "y": [
           0,
           1
          ]
         },
         "xaxis": {
          "title": {
           "text": "PC 3"
          }
         },
         "yaxis": {
          "title": {
           "text": "PC 2"
          }
         },
         "zaxis": {
          "title": {
           "text": "PC 1"
          }
         }
        },
        "template": {
         "data": {
          "bar": [
           {
            "error_x": {
             "color": "#2a3f5f"
            },
            "error_y": {
             "color": "#2a3f5f"
            },
            "marker": {
             "line": {
              "color": "#E5ECF6",
              "width": 0.5
             },
             "pattern": {
              "fillmode": "overlay",
              "size": 10,
              "solidity": 0.2
             }
            },
            "type": "bar"
           }
          ],
          "barpolar": [
           {
            "marker": {
             "line": {
              "color": "#E5ECF6",
              "width": 0.5
             },
             "pattern": {
              "fillmode": "overlay",
              "size": 10,
              "solidity": 0.2
             }
            },
            "type": "barpolar"
           }
          ],
          "carpet": [
           {
            "aaxis": {
             "endlinecolor": "#2a3f5f",
             "gridcolor": "white",
             "linecolor": "white",
             "minorgridcolor": "white",
             "startlinecolor": "#2a3f5f"
            },
            "baxis": {
             "endlinecolor": "#2a3f5f",
             "gridcolor": "white",
             "linecolor": "white",
             "minorgridcolor": "white",
             "startlinecolor": "#2a3f5f"
            },
            "type": "carpet"
           }
          ],
          "choropleth": [
           {
            "colorbar": {
             "outlinewidth": 0,
             "ticks": ""
            },
            "type": "choropleth"
           }
          ],
          "contour": [
           {
            "colorbar": {
             "outlinewidth": 0,
             "ticks": ""
            },
            "colorscale": [
             [
              0,
              "#0d0887"
             ],
             [
              0.1111111111111111,
              "#46039f"
             ],
             [
              0.2222222222222222,
              "#7201a8"
             ],
             [
              0.3333333333333333,
              "#9c179e"
             ],
             [
              0.4444444444444444,
              "#bd3786"
             ],
             [
              0.5555555555555556,
              "#d8576b"
             ],
             [
              0.6666666666666666,
              "#ed7953"
             ],
             [
              0.7777777777777778,
              "#fb9f3a"
             ],
             [
              0.8888888888888888,
              "#fdca26"
             ],
             [
              1,
              "#f0f921"
             ]
            ],
            "type": "contour"
           }
          ],
          "contourcarpet": [
           {
            "colorbar": {
             "outlinewidth": 0,
             "ticks": ""
            },
            "type": "contourcarpet"
           }
          ],
          "heatmap": [
           {
            "colorbar": {
             "outlinewidth": 0,
             "ticks": ""
            },
            "colorscale": [
             [
              0,
              "#0d0887"
             ],
             [
              0.1111111111111111,
              "#46039f"
             ],
             [
              0.2222222222222222,
              "#7201a8"
             ],
             [
              0.3333333333333333,
              "#9c179e"
             ],
             [
              0.4444444444444444,
              "#bd3786"
             ],
             [
              0.5555555555555556,
              "#d8576b"
             ],
             [
              0.6666666666666666,
              "#ed7953"
             ],
             [
              0.7777777777777778,
              "#fb9f3a"
             ],
             [
              0.8888888888888888,
              "#fdca26"
             ],
             [
              1,
              "#f0f921"
             ]
            ],
            "type": "heatmap"
           }
          ],
          "heatmapgl": [
           {
            "colorbar": {
             "outlinewidth": 0,
             "ticks": ""
            },
            "colorscale": [
             [
              0,
              "#0d0887"
             ],
             [
              0.1111111111111111,
              "#46039f"
             ],
             [
              0.2222222222222222,
              "#7201a8"
             ],
             [
              0.3333333333333333,
              "#9c179e"
             ],
             [
              0.4444444444444444,
              "#bd3786"
             ],
             [
              0.5555555555555556,
              "#d8576b"
             ],
             [
              0.6666666666666666,
              "#ed7953"
             ],
             [
              0.7777777777777778,
              "#fb9f3a"
             ],
             [
              0.8888888888888888,
              "#fdca26"
             ],
             [
              1,
              "#f0f921"
             ]
            ],
            "type": "heatmapgl"
           }
          ],
          "histogram": [
           {
            "marker": {
             "pattern": {
              "fillmode": "overlay",
              "size": 10,
              "solidity": 0.2
             }
            },
            "type": "histogram"
           }
          ],
          "histogram2d": [
           {
            "colorbar": {
             "outlinewidth": 0,
             "ticks": ""
            },
            "colorscale": [
             [
              0,
              "#0d0887"
             ],
             [
              0.1111111111111111,
              "#46039f"
             ],
             [
              0.2222222222222222,
              "#7201a8"
             ],
             [
              0.3333333333333333,
              "#9c179e"
             ],
             [
              0.4444444444444444,
              "#bd3786"
             ],
             [
              0.5555555555555556,
              "#d8576b"
             ],
             [
              0.6666666666666666,
              "#ed7953"
             ],
             [
              0.7777777777777778,
              "#fb9f3a"
             ],
             [
              0.8888888888888888,
              "#fdca26"
             ],
             [
              1,
              "#f0f921"
             ]
            ],
            "type": "histogram2d"
           }
          ],
          "histogram2dcontour": [
           {
            "colorbar": {
             "outlinewidth": 0,
             "ticks": ""
            },
            "colorscale": [
             [
              0,
              "#0d0887"
             ],
             [
              0.1111111111111111,
              "#46039f"
             ],
             [
              0.2222222222222222,
              "#7201a8"
             ],
             [
              0.3333333333333333,
              "#9c179e"
             ],
             [
              0.4444444444444444,
              "#bd3786"
             ],
             [
              0.5555555555555556,
              "#d8576b"
             ],
             [
              0.6666666666666666,
              "#ed7953"
             ],
             [
              0.7777777777777778,
              "#fb9f3a"
             ],
             [
              0.8888888888888888,
              "#fdca26"
             ],
             [
              1,
              "#f0f921"
             ]
            ],
            "type": "histogram2dcontour"
           }
          ],
          "mesh3d": [
           {
            "colorbar": {
             "outlinewidth": 0,
             "ticks": ""
            },
            "type": "mesh3d"
           }
          ],
          "parcoords": [
           {
            "line": {
             "colorbar": {
              "outlinewidth": 0,
              "ticks": ""
             }
            },
            "type": "parcoords"
           }
          ],
          "pie": [
           {
            "automargin": true,
            "type": "pie"
           }
          ],
          "scatter": [
           {
            "marker": {
             "colorbar": {
              "outlinewidth": 0,
              "ticks": ""
             }
            },
            "type": "scatter"
           }
          ],
          "scatter3d": [
           {
            "line": {
             "colorbar": {
              "outlinewidth": 0,
              "ticks": ""
             }
            },
            "marker": {
             "colorbar": {
              "outlinewidth": 0,
              "ticks": ""
             }
            },
            "type": "scatter3d"
           }
          ],
          "scattercarpet": [
           {
            "marker": {
             "colorbar": {
              "outlinewidth": 0,
              "ticks": ""
             }
            },
            "type": "scattercarpet"
           }
          ],
          "scattergeo": [
           {
            "marker": {
             "colorbar": {
              "outlinewidth": 0,
              "ticks": ""
             }
            },
            "type": "scattergeo"
           }
          ],
          "scattergl": [
           {
            "marker": {
             "colorbar": {
              "outlinewidth": 0,
              "ticks": ""
             }
            },
            "type": "scattergl"
           }
          ],
          "scattermapbox": [
           {
            "marker": {
             "colorbar": {
              "outlinewidth": 0,
              "ticks": ""
             }
            },
            "type": "scattermapbox"
           }
          ],
          "scatterpolar": [
           {
            "marker": {
             "colorbar": {
              "outlinewidth": 0,
              "ticks": ""
             }
            },
            "type": "scatterpolar"
           }
          ],
          "scatterpolargl": [
           {
            "marker": {
             "colorbar": {
              "outlinewidth": 0,
              "ticks": ""
             }
            },
            "type": "scatterpolargl"
           }
          ],
          "scatterternary": [
           {
            "marker": {
             "colorbar": {
              "outlinewidth": 0,
              "ticks": ""
             }
            },
            "type": "scatterternary"
           }
          ],
          "surface": [
           {
            "colorbar": {
             "outlinewidth": 0,
             "ticks": ""
            },
            "colorscale": [
             [
              0,
              "#0d0887"
             ],
             [
              0.1111111111111111,
              "#46039f"
             ],
             [
              0.2222222222222222,
              "#7201a8"
             ],
             [
              0.3333333333333333,
              "#9c179e"
             ],
             [
              0.4444444444444444,
              "#bd3786"
             ],
             [
              0.5555555555555556,
              "#d8576b"
             ],
             [
              0.6666666666666666,
              "#ed7953"
             ],
             [
              0.7777777777777778,
              "#fb9f3a"
             ],
             [
              0.8888888888888888,
              "#fdca26"
             ],
             [
              1,
              "#f0f921"
             ]
            ],
            "type": "surface"
           }
          ],
          "table": [
           {
            "cells": {
             "fill": {
              "color": "#EBF0F8"
             },
             "line": {
              "color": "white"
             }
            },
            "header": {
             "fill": {
              "color": "#C8D4E3"
             },
             "line": {
              "color": "white"
             }
            },
            "type": "table"
           }
          ]
         },
         "layout": {
          "annotationdefaults": {
           "arrowcolor": "#2a3f5f",
           "arrowhead": 0,
           "arrowwidth": 1
          },
          "autotypenumbers": "strict",
          "coloraxis": {
           "colorbar": {
            "outlinewidth": 0,
            "ticks": ""
           }
          },
          "colorscale": {
           "diverging": [
            [
             0,
             "#8e0152"
            ],
            [
             0.1,
             "#c51b7d"
            ],
            [
             0.2,
             "#de77ae"
            ],
            [
             0.3,
             "#f1b6da"
            ],
            [
             0.4,
             "#fde0ef"
            ],
            [
             0.5,
             "#f7f7f7"
            ],
            [
             0.6,
             "#e6f5d0"
            ],
            [
             0.7,
             "#b8e186"
            ],
            [
             0.8,
             "#7fbc41"
            ],
            [
             0.9,
             "#4d9221"
            ],
            [
             1,
             "#276419"
            ]
           ],
           "sequential": [
            [
             0,
             "#0d0887"
            ],
            [
             0.1111111111111111,
             "#46039f"
            ],
            [
             0.2222222222222222,
             "#7201a8"
            ],
            [
             0.3333333333333333,
             "#9c179e"
            ],
            [
             0.4444444444444444,
             "#bd3786"
            ],
            [
             0.5555555555555556,
             "#d8576b"
            ],
            [
             0.6666666666666666,
             "#ed7953"
            ],
            [
             0.7777777777777778,
             "#fb9f3a"
            ],
            [
             0.8888888888888888,
             "#fdca26"
            ],
            [
             1,
             "#f0f921"
            ]
           ],
           "sequentialminus": [
            [
             0,
             "#0d0887"
            ],
            [
             0.1111111111111111,
             "#46039f"
            ],
            [
             0.2222222222222222,
             "#7201a8"
            ],
            [
             0.3333333333333333,
             "#9c179e"
            ],
            [
             0.4444444444444444,
             "#bd3786"
            ],
            [
             0.5555555555555556,
             "#d8576b"
            ],
            [
             0.6666666666666666,
             "#ed7953"
            ],
            [
             0.7777777777777778,
             "#fb9f3a"
            ],
            [
             0.8888888888888888,
             "#fdca26"
            ],
            [
             1,
             "#f0f921"
            ]
           ]
          },
          "colorway": [
           "#636efa",
           "#EF553B",
           "#00cc96",
           "#ab63fa",
           "#FFA15A",
           "#19d3f3",
           "#FF6692",
           "#B6E880",
           "#FF97FF",
           "#FECB52"
          ],
          "font": {
           "color": "#2a3f5f"
          },
          "geo": {
           "bgcolor": "white",
           "lakecolor": "white",
           "landcolor": "#E5ECF6",
           "showlakes": true,
           "showland": true,
           "subunitcolor": "white"
          },
          "hoverlabel": {
           "align": "left"
          },
          "hovermode": "closest",
          "mapbox": {
           "style": "light"
          },
          "paper_bgcolor": "white",
          "plot_bgcolor": "#E5ECF6",
          "polar": {
           "angularaxis": {
            "gridcolor": "white",
            "linecolor": "white",
            "ticks": ""
           },
           "bgcolor": "#E5ECF6",
           "radialaxis": {
            "gridcolor": "white",
            "linecolor": "white",
            "ticks": ""
           }
          },
          "scene": {
           "xaxis": {
            "backgroundcolor": "#E5ECF6",
            "gridcolor": "white",
            "gridwidth": 2,
            "linecolor": "white",
            "showbackground": true,
            "ticks": "",
            "zerolinecolor": "white"
           },
           "yaxis": {
            "backgroundcolor": "#E5ECF6",
            "gridcolor": "white",
            "gridwidth": 2,
            "linecolor": "white",
            "showbackground": true,
            "ticks": "",
            "zerolinecolor": "white"
           },
           "zaxis": {
            "backgroundcolor": "#E5ECF6",
            "gridcolor": "white",
            "gridwidth": 2,
            "linecolor": "white",
            "showbackground": true,
            "ticks": "",
            "zerolinecolor": "white"
           }
          },
          "shapedefaults": {
           "line": {
            "color": "#2a3f5f"
           }
          },
          "ternary": {
           "aaxis": {
            "gridcolor": "white",
            "linecolor": "white",
            "ticks": ""
           },
           "baxis": {
            "gridcolor": "white",
            "linecolor": "white",
            "ticks": ""
           },
           "bgcolor": "#E5ECF6",
           "caxis": {
            "gridcolor": "white",
            "linecolor": "white",
            "ticks": ""
           }
          },
          "title": {
           "x": 0.05
          },
          "xaxis": {
           "automargin": true,
           "gridcolor": "white",
           "linecolor": "white",
           "ticks": "",
           "title": {
            "standoff": 15
           },
           "zerolinecolor": "white",
           "zerolinewidth": 2
          },
          "yaxis": {
           "automargin": true,
           "gridcolor": "white",
           "linecolor": "white",
           "ticks": "",
           "title": {
            "standoff": 15
           },
           "zerolinecolor": "white",
           "zerolinewidth": 2
          }
         }
        },
        "width": 800
       }
      }
     },
     "metadata": {}
    }
   ],
   "metadata": {}
  },
  {
   "cell_type": "code",
   "execution_count": 29,
   "source": [
    "# Create a table with tradable cryptocurrencies.\n",
    "columns = ['CoinName', 'Algorithm', 'ProofType', 'TotalCoinSupply', 'TotalCoinsMined', 'Class']\n",
    "table = clustered_df.hvplot.table(columns)\n",
    "table"
   ],
   "outputs": [
    {
     "output_type": "display_data",
     "data": {},
     "metadata": {}
    },
    {
     "output_type": "execute_result",
     "data": {
      "application/vnd.holoviews_exec.v0+json": "",
      "text/plain": [
       ":Table   [CoinName,Algorithm,ProofType,TotalCoinSupply,TotalCoinsMined,Class]"
      ],
      "text/html": [
       "<div id='1120'>\n",
       "\n",
       "\n",
       "\n",
       "\n",
       "\n",
       "  <div class=\"bk-root\" id=\"ecff1b28-685f-49b2-98a6-05b2c95135ca\" data-root-id=\"1120\"></div>\n",
       "</div>\n",
       "<script type=\"application/javascript\">(function(root) {\n",
       "  function embed_document(root) {\n",
       "    var docs_json = {\"cf0a2649-f66f-4999-839a-45e9a84ae015\":{\"defs\":[{\"extends\":null,\"module\":null,\"name\":\"ReactiveHTML1\",\"overrides\":[],\"properties\":[]},{\"extends\":null,\"module\":null,\"name\":\"FlexBox1\",\"overrides\":[],\"properties\":[{\"default\":\"flex-start\",\"kind\":null,\"name\":\"align_content\"},{\"default\":\"flex-start\",\"kind\":null,\"name\":\"align_items\"},{\"default\":\"row\",\"kind\":null,\"name\":\"flex_direction\"},{\"default\":\"wrap\",\"kind\":null,\"name\":\"flex_wrap\"},{\"default\":\"flex-start\",\"kind\":null,\"name\":\"justify_content\"}]},{\"extends\":null,\"module\":null,\"name\":\"TemplateActions1\",\"overrides\":[],\"properties\":[{\"default\":0,\"kind\":null,\"name\":\"open_modal\"},{\"default\":0,\"kind\":null,\"name\":\"close_modal\"}]},{\"extends\":null,\"module\":null,\"name\":\"MaterialTemplateActions1\",\"overrides\":[],\"properties\":[{\"default\":0,\"kind\":null,\"name\":\"open_modal\"},{\"default\":0,\"kind\":null,\"name\":\"close_modal\"}]}],\"roots\":{\"references\":[{\"attributes\":{},\"id\":\"1135\",\"type\":\"StringEditor\"},{\"attributes\":{},\"id\":\"1123\",\"type\":\"Selection\"},{\"attributes\":{\"editor\":{\"id\":\"1135\"},\"field\":\"ProofType\",\"formatter\":{\"id\":\"1134\"},\"title\":\"ProofType\"},\"id\":\"1136\",\"type\":\"TableColumn\"},{\"attributes\":{},\"id\":\"1157\",\"type\":\"UnionRenderers\"},{\"attributes\":{\"children\":[{\"id\":\"1121\"},{\"id\":\"1154\"},{\"id\":\"1161\"}],\"margin\":[0,0,0,0],\"name\":\"Row01796\",\"tags\":[\"embedded\"]},\"id\":\"1120\",\"type\":\"Row\"},{\"attributes\":{},\"id\":\"1149\",\"type\":\"NumberFormatter\"},{\"attributes\":{},\"id\":\"1139\",\"type\":\"StringFormatter\"},{\"attributes\":{},\"id\":\"1150\",\"type\":\"IntEditor\"},{\"attributes\":{\"editor\":{\"id\":\"1150\"},\"field\":\"Class\",\"formatter\":{\"id\":\"1149\"},\"title\":\"Class\"},\"id\":\"1151\",\"type\":\"TableColumn\"},{\"attributes\":{},\"id\":\"1124\",\"type\":\"StringFormatter\"},{\"attributes\":{\"source\":{\"id\":\"1122\"}},\"id\":\"1156\",\"type\":\"CDSView\"},{\"attributes\":{},\"id\":\"1125\",\"type\":\"StringEditor\"},{\"attributes\":{\"data\":{\"Algorithm\":[\"Scrypt\",\"Scrypt\",\"SHA-256\",\"X13\",\"SHA-256\",\"Ethash\",\"Scrypt\",\"X11\",\"CryptoNight-V7\",\"Ethash\",\"Equihash\",\"SHA-512\",\"Multiple\",\"SHA-256\",\"X11\",\"SHA-256\",\"Scrypt\",\"X15\",\"X11\",\"SHA-256\",\"X13\",\"X13\",\"Scrypt\",\"Scrypt\",\"Scrypt\",\"SHA-256\",\"Scrypt\",\"Multiple\",\"Scrypt\",\"SHA-256\",\"Scrypt\",\"Scrypt\",\"Scrypt\",\"Quark\",\"Groestl\",\"Scrypt\",\"X11\",\"Scrypt\",\"Scrypt\",\"Scrypt\",\"Scrypt\",\"Scrypt\",\"Scrypt\",\"Multiple\",\"Scrypt\",\"X11\",\"Scrypt\",\"SHA-256\",\"Groestl\",\"Multiple\",\"X11\",\"Scrypt\",\"SHA-256\",\"Scrypt\",\"Scrypt\",\"Scrypt\",\"Scrypt\",\"Scrypt\",\"PoS\",\"Scrypt\",\"X11\",\"NIST5\",\"SHA-256\",\"Scrypt\",\"Scrypt\",\"NeoScrypt\",\"Scrypt\",\"Scrypt\",\"Scrypt\",\"X11\",\"X15\",\"Scrypt\",\"Multiple\",\"X11\",\"Scrypt\",\"X11\",\"SHA-256\",\"X11\",\"X13\",\"Scrypt\",\"Scrypt\",\"Scrypt\",\"Scrypt\",\"X11\",\"SHA3\",\"Scrypt\",\"HybridScryptHash256\",\"Scrypt\",\"Scrypt\",\"SHA-256\",\"Scrypt\",\"X13\",\"SHA-256\",\"Scrypt\",\"SHA-256\",\"Scrypt\",\"X13\",\"NeoScrypt\",\"Scrypt\",\"Scrypt\",\"Scrypt\",\"Scrypt\",\"Scrypt\",\"Scrypt\",\"X15\",\"Scrypt\",\"Scrypt\",\"Scrypt-n\",\"Scrypt\",\"X11\",\"X11\",\"SHA-256\",\"Multiple\",\"SHA-256\",\"PHI1612\",\"X11\",\"SHA-256\",\"SHA-256\",\"SHA-256\",\"SHA-256\",\"X11\",\"Scrypt\",\"Scrypt\",\"X13\",\"Scrypt\",\"X11\",\"Scrypt\",\"Lyra2REv2\",\"Scrypt\",\"Scrypt\",\"X11\",\"Multiple\",\"SHA-256\",\"X13\",\"Scrypt\",\"Scrypt\",\"CryptoNight\",\"CryptoNight\",\"Shabal256\",\"Counterparty\",\"Scrypt\",\"SHA-256\",\"SHA-256\",\"Scrypt\",\"Groestl\",\"Scrypt\",\"Scrypt\",\"Scrypt\",\"X13\",\"Scrypt\",\"Scrypt\",\"Scrypt\",\"SHA-256\",\"Scrypt\",\"X13\",\"X13\",\"Scrypt\",\"X11\",\"Momentum\",\"Stanford Folding\",\"X11\",\"Multiple\",\"QuBit\",\"X15\",\"Scrypt\",\"Scrypt\",\"Scrypt\",\"Scrypt\",\"SHA-256\",\"M7 POW\",\"Scrypt\",\"X11\",\"Scrypt\",\"SHA-256\",\"Scrypt\",\"Scrypt\",\"X11\",\"X11\",\"SHA3\",\"X11\",\"Scrypt\",\"Lyra2RE\",\"SHA-256\",\"QUAIT\",\"X11\",\"vDPOS\",\"X11\",\"X11\",\"Scrypt\",\"Scrypt\",\"Scrypt\",\"Ethash\",\"X11\",\"X13\",\"Blake2b\",\"SHA-256\",\"X13\",\"X15\",\"X11\",\"SHA-256\",\"BLAKE256\",\"Scrypt\",\"Scrypt\",\"1GB AES Pattern Search\",\"SHA-256\",\"X11\",\"Scrypt\",\"CryptoNight\",\"SHA-256\",\"Quark\",\"SHA-256\",\"NIST5\",\"Blake\",\"Scrypt\",\"Scrypt\",\"SHA-256\",\"X11\",\"Scrypt\",\"Scrypt-n\",\"X11\",\"Scrypt\",\"Dagger\",\"Scrypt\",\"SHA-256\",\"CryptoNight-Lite\",\"X11GOST\",\"X11\",\"SHA-256\",\"Scrypt\",\"SHA-256\",\"Scrypt\",\"PoS\",\"Scrypt\",\"ScryptOG\",\"X11\",\"X11\",\"X11\",\"X11\",\"PoS\",\"SHA-256\",\"SHA-256\",\"SHA-256\",\"NIST5\",\"X15\",\"X11\",\"NIST5\",\"Scrypt\",\"Scrypt\",\"Scrypt\",\"POS 3.0\",\"Scrypt\",\"Scrypt\",\"Scrypt\",\"X13\",\"X11\",\"X11\",\"Equihash\",\"X11\",\"X11\",\"Scrypt\",\"CryptoNight\",\"SHA-256\",\"SHA-256\",\"X11\",\"Scrypt\",\"Multiple\",\"Scrypt\",\"Scrypt\",\"X11\",\"Scrypt\",\"SHA-256\",\"Scrypt\",\"Scrypt\",\"SHA-256D\",\"PoS\",\"Scrypt\",\"Scrypt\",\"X11\",\"Scrypt-n\",\"Lyra2Z\",\"SHA-256\",\"PoS\",\"X13\",\"Quark\",\"X14\",\"PoS\",\"SHA-256D\",\"Ethash\",\"SHA-256\",\"Equihash\",\"DPoS\",\"X11\",\"Scrypt\",\"Scrypt\",\"Equihash\",\"X11\",\"X13\",\"X11\",\"PoS\",\"SHA-256D\",\"Scrypt\",\"Scrypt\",\"Scrypt\",\"X11\",\"PoS\",\"X11\",\"SHA-256\",\"Scrypt\",\"X11\",\"Scrypt\",\"Scrypt\",\"X11\",\"CryptoNight\",\"Scrypt\",\"Scrypt\",\"Scrypt\",\"Scrypt\",\"Quark\",\"QuBit\",\"Scrypt\",\"CryptoNight\",\"X11\",\"Lyra2RE\",\"X13\",\"PoS\",\"Scrypt\",\"SHA-256\",\"X11\",\"X11\",\"X11\",\"Scrypt\",\"X11\",\"Scrypt\",\"Scrypt\",\"CryptoNight-V7\",\"Scrypt\",\"Scrypt\",\"Keccak\",\"Scrypt\",\"X13\",\"X11\",\"Equihash\",\"Scrypt\",\"Scrypt\",\"Lyra2RE\",\"Ethash\",\"X11\",\"Scrypt\",\"Dagger-Hashimoto\",\"X11\",\"Blake2S\",\"X11\",\"Scrypt\",\"Scrypt\",\"PoS\",\"X11\",\"NIST5\",\"PoS\",\"X11\",\"Scrypt\",\"Scrypt\",\"Scrypt\",\"Scrypt\",\"SHA-256\",\"X11\",\"Scrypt\",\"Scrypt\",\"Scrypt\",\"SHA-256\",\"PoS\",\"Scrypt\",\"X11\",\"X15\",\"SHA-256\",\"Scrypt\",\"POS 3.0\",\"CryptoNight-V7\",\"536\",\"Argon2d\",\"Blake2b\",\"Cloverhash\",\"CryptoNight\",\"NIST5\",\"X11\",\"NIST5\",\"Skein\",\"Scrypt\",\"X13\",\"Scrypt\",\"X11\",\"X11\",\"X11\",\"Scrypt\",\"CryptoNight\",\"X13\",\"Time Travel\",\"Scrypt\",\"Keccak\",\"SkunkHash v2 Raptor\",\"X11\",\"Skein\",\"SHA-256\",\"X11\",\"Scrypt\",\"Scrypt\",\"VeChainThor Authority\",\"Scrypt\",\"PoS\",\"Scrypt\",\"Scrypt\",\"Scrypt\",\"Scrypt\",\"Scrypt\",\"Scrypt\",\"Scrypt\",\"Scrypt\",\"CryptoNight\",\"SHA-512\",\"Ouroboros\",\"X11\",\"Equihash\",\"NeoScrypt\",\"X11\",\"Scrypt\",\"NeoScrypt\",\"Lyra2REv2\",\"Equihash\",\"Scrypt\",\"SHA-256\",\"NIST5\",\"PHI1612\",\"Dagger\",\"Scrypt\",\"Quark\",\"Scrypt\",\"POS 2.0\",\"Scrypt\",\"SkunkHash\",\"X11\",\"Quark\",\"SHA-256\",\"X11\",\"NeoScrypt\",\"Scrypt\",\"Ethash\",\"Scrypt\",\"Scrypt\",\"NeoScrypt\",\"Quark\",\"SHA-256\",\"Quark\",\"X11\",\"DPoS\",\"NIST5\",\"X13\",\"Multiple\",\"Scrypt\",\"Scrypt\",\"Scrypt\",\"CryptoNight\",\"CryptoNight\",\"Ethash\",\"NIST5\",\"Scrypt\",\"Quark\",\"X11\",\"SHA-256\",\"CryptoNight-V7\",\"Scrypt\",\"Scrypt\",\"Scrypt\",\"X11\",\"X11\",\"SHA-256\",\"BLAKE256\",\"X11\",\"Scrypt\",\"Scrypt\",\"Scrypt\",\"NeoScrypt\",\"NeoScrypt\",\"Quark\",\"NeoScrypt\",\"Scrypt\",\"Scrypt\",\"Scrypt\",\"X11\",\"Scrypt\",\"X11\",\"SHA-256\",\"C11\",\"NeoScrypt\",\"Scrypt\",\"Scrypt\",\"POS 3.0\",\"Ethash\",\"Scrypt\",\"Scrypt\",\"CryptoNight\",\"SkunkHash\",\"Scrypt\",\"CryptoNight\",\"X11\",\"Equihash\",\"Skein\",\"Scrypt\",\"SHA-256\",\"Dagger\",\"Lyra2REv2\",\"X13\",\"Proof-of-BibleHash\",\"SHA-256 + Hive\",\"Scrypt\",\"Scrypt\",\"Scrypt\",\"Skein\",\"X11\",\"NeoScrypt\",\"Equihash\",\"Skein\",\"X11\",\"C11\",\"Proof-of-Authority\",\"X11\",\"Scrypt\",\"XEVAN\",\"Scrypt\",\"VBFT\",\"Ethash\",\"X11\",\"CryptoNight\",\"NeoScrypt\",\"Scrypt\",\"SHA-256\",\"IMesh\",\"PHI1612\",\"Quark\",\"X16S\",\"NIST5\",\"Equihash\",\"Scrypt\",\"Scrypt\",\"Equihash\",\"Equihash\",\"Scrypt\",\"PHI1612\",\"Lyra2Z\",\"Equihash\",\"Green Protocol\",\"PoS\",\"Scrypt\",\"NeoScrypt\",\"Scrypt\",\"Semux BFT consensus\",\"Scrypt\",\"Scrypt\",\"X11\",\"Quark\",\"PoS\",\"CryptoNight\",\"X16R\",\"Scrypt\",\"NIST5\",\"Lyra2RE\",\"XEVAN\",\"Tribus\",\"Scrypt\",\"Lyra2Z\",\"Scrypt\",\"Scrypt\",\"CryptoNight\",\"X11\",\"SHA-256D\",\"CryptoNight Heavy\",\"CryptoNight\",\"Scrypt\",\"Scrypt\",\"Equihash\",\"X11\",\"Scrypt\",\"Jump Consistent Hash\",\"SHA-256D\",\"CryptoNight\",\"Scrypt\",\"X15\",\"Scrypt\",\"Quark\",\"Scrypt\",\"SHA-512\",\"SHA-256\",\"SHA-256D\",\"DPoS\",\"X16R\",\"HMQ1725\",\"X11\",\"Scrypt\",\"X16R\",\"Quark\",\"Quark\",\"Scrypt\",\"Zhash\",\"Lyra2REv2\",\"Quark\",\"XEVAN\",\"CryptoNight\",\"Scrypt\",\"Scrypt\",\"Scrypt\",\"CryptoNight-V7\",\"Cryptonight-GPU\",\"Scrypt\",\"XEVAN\",\"CryptoNight Heavy\",\"CryptoNight\",\"X11\",\"X11\",\"X11\",\"Scrypt\",\"PoS\",\"Lyra2REv2\",\"Scrypt\",\"SHA-256\",\"Scrypt\",\"Keccak\",\"X11\",\"X11\",\"Tribus\",\"Quark\",\"Scrypt\",\"NeoScrypt\",\"SHA-512\",\"X16R\",\"ECC 256K1\",\"NeoScrypt\",\"Equihash\",\"XEVAN\",\"Quark\",\"CryptoNight Heavy X\",\"HMQ1725\",\"Lyra2Z\",\"Ethash\",\"SHA-512\",\"SHA-256\",\"Quark\",\"PHI1612\",\"XEVAN\",\"Ethash\",\"X11\",\"CryptoNight\",\"Quark\",\"SkunkHash\",\"Quark\",\"Argon2\",\"Blake\",\"Blake\",\"Blake\",\"Blake\",\"SHA-256\",\"Equihash\",\"Exosis\",\"Scrypt\",\"Scrypt\",\"Equihash\",\"Quark\",\"Equihash\",\"Quark\",\"Scrypt\",\"Lyra2REv2\",\"QuBit\",\"X11\",\"Scrypt\",\"Equihash1927\",\"XEVAN\",\"SHA-256D\",\"X11\",\"SHA-256\",\"SHA-256\",\"X13\",\"SHA-256\",\"X11\",\"DPoS\",\"X11\",\"Ethash\",\"Scrypt\",\"X11\",\"Scrypt\",\"X11\",\"NeoScrypt\",\"QuBit\",\"Scrypt\",\"Blake\",\"Scrypt\",\"SHA-256\",\"Scrypt\",\"X11\",\"CryptoNight\",\"Scrypt\",\"Scrypt\",\"SHA-256\",\"X11\",\"SHA-256\",\"Scrypt\",\"CryptoNight\",\"Scrypt\",\"SHA-256\",\"Scrypt\",\"Groestl\",\"X11\",\"Scrypt\",\"PoS\",\"Scrypt\",\"Scrypt\",\"X11\",\"SHA-256\",\"DPoS\",\"Scrypt\",\"Scrypt\",\"Scrypt\",\"NeoScrypt\",\"Scrypt\",\"SHA3-256\",\"Multiple\",\"X13\",\"Equihash+Scrypt\",\"Lyra2Z\",\"PHI2\",\"DPoS\",\"Ethash\",\"DPoS\",\"Ethash\",\"SHA-256\",\"Lyra2Z\",\"Leased POS\",\"PoS\",\"Scrypt\",\"TRC10\",\"Equihash\",\"PoS\",\"SHA-256\",\"Scrypt\",\"CryptoNight\",\"Equihash\",\"Scrypt\",\"Scrypt\"],\"Class\":{\"__ndarray__\":\"AgAAAAIAAAACAAAAAgAAAAAAAAAAAAAAAAAAAAIAAAAAAAAAAAAAAAAAAAACAAAAAAAAAAIAAAACAAAAAgAAAAAAAAACAAAAAAAAAAAAAAACAAAAAgAAAAIAAAAAAAAAAgAAAAAAAAACAAAAAAAAAAAAAAAAAAAAAAAAAAAAAAACAAAAAAAAAAAAAAAAAAAAAAAAAAIAAAAAAAAAAgAAAAAAAAACAAAAAAAAAAIAAAACAAAAAAAAAAIAAAACAAAAAgAAAAAAAAACAAAAAAAAAAAAAAAAAAAAAAAAAAAAAAAAAAAAAAAAAAIAAAAAAAAAAgAAAAIAAAAAAAAAAgAAAAAAAAAAAAAAAAAAAAAAAAAAAAAAAgAAAAIAAAACAAAAAAAAAAIAAAAAAAAAAgAAAAAAAAACAAAAAgAAAAAAAAAAAAAAAAAAAAAAAAACAAAAAgAAAAAAAAAAAAAAAgAAAAAAAAACAAAAAgAAAAIAAAAAAAAAAAAAAAAAAAAAAAAAAgAAAAIAAAACAAAAAgAAAAIAAAAAAAAAAAAAAAAAAAACAAAAAgAAAAAAAAAAAAAAAAAAAAIAAAACAAAAAAAAAAIAAAAAAAAAAgAAAAIAAAAAAAAAAAAAAAAAAAAAAAAAAAAAAAIAAAACAAAAAgAAAAAAAAAAAAAAAgAAAAAAAAAAAAAAAgAAAAIAAAACAAAAAAAAAAIAAAACAAAAAgAAAAAAAAAAAAAAAgAAAAIAAAAAAAAAAgAAAAAAAAACAAAAAgAAAAAAAAACAAAAAAAAAAIAAAAAAAAAAgAAAAAAAAACAAAAAgAAAAIAAAACAAAAAAAAAAIAAAAAAAAAAAAAAAIAAAAAAAAAAAAAAAIAAAAAAAAAAgAAAAIAAAAAAAAAAAAAAAAAAAAAAAAAAAAAAAAAAAAAAAAAAAAAAAIAAAACAAAAAAAAAAIAAAAAAAAAAgAAAAAAAAAAAAAAAgAAAAAAAAACAAAAAgAAAAIAAAAAAAAAAAAAAAIAAAAAAAAAAgAAAAIAAAAAAAAAAgAAAAIAAAACAAAAAAAAAAAAAAACAAAAAAAAAAAAAAAAAAAAAgAAAAIAAAAAAAAAAAAAAAIAAAACAAAAAAAAAAIAAAAAAAAAAgAAAAIAAAAAAAAAAAAAAAIAAAAAAAAAAAAAAAAAAAAAAAAAAAAAAAIAAAAAAAAAAAAAAAIAAAAAAAAAAgAAAAIAAAACAAAAAgAAAAAAAAAAAAAAAAAAAAIAAAACAAAAAgAAAAIAAAACAAAAAAAAAAIAAAACAAAAAgAAAAIAAAACAAAAAgAAAAIAAAAAAAAAAgAAAAIAAAACAAAAAgAAAAIAAAAAAAAAAgAAAAAAAAACAAAAAgAAAAIAAAAAAAAAAgAAAAAAAAACAAAAAgAAAAAAAAACAAAAAAAAAAIAAAACAAAAAAAAAAIAAAAAAAAAAgAAAAIAAAACAAAAAAAAAAIAAAAAAAAAAAAAAAAAAAACAAAAAgAAAAAAAAACAAAAAgAAAAIAAAAAAAAAAAAAAAAAAAACAAAAAgAAAAIAAAAAAAAAAAAAAAAAAAACAAAAAgAAAAIAAAACAAAAAgAAAAIAAAACAAAAAAAAAAIAAAACAAAAAgAAAAIAAAACAAAAAgAAAAIAAAACAAAAAAAAAAIAAAACAAAAAgAAAAIAAAACAAAAAgAAAAAAAAAAAAAAAgAAAAAAAAACAAAAAgAAAAIAAAACAAAAAgAAAAIAAAAAAAAAAgAAAAAAAAACAAAAAAAAAAAAAAACAAAAAgAAAAAAAAAAAAAAAgAAAAAAAAAAAAAAAgAAAAAAAAAAAAAAAAAAAAAAAAACAAAAAAAAAAIAAAACAAAAAgAAAAAAAAACAAAAAgAAAAIAAAAAAAAAAgAAAAIAAAACAAAAAgAAAAIAAAAAAAAAAgAAAAIAAAAAAAAAAAAAAAIAAAAAAAAAAgAAAAIAAAACAAAAAgAAAAIAAAAAAAAAAgAAAAAAAAACAAAAAAAAAAAAAAAAAAAAAAAAAAIAAAAAAAAAAgAAAAIAAAAAAAAAAgAAAAAAAAACAAAAAAAAAAAAAAACAAAAAAAAAAIAAAAAAAAAAAAAAAAAAAACAAAAAAAAAAIAAAAAAAAAAgAAAAAAAAACAAAAAgAAAAAAAAACAAAAAAAAAAAAAAAAAAAAAAAAAAAAAAAAAAAAAgAAAAIAAAAAAAAAAgAAAAIAAAACAAAAAAAAAAIAAAAAAAAAAgAAAAAAAAACAAAAAAAAAAIAAAACAAAAAgAAAAIAAAAAAAAAAgAAAAIAAAAAAAAAAgAAAAIAAAACAAAAAgAAAAIAAAACAAAAAAAAAAAAAAAAAAAAAAAAAAAAAAACAAAAAAAAAAIAAAAAAAAAAgAAAAIAAAACAAAAAgAAAAIAAAAAAAAAAAAAAAIAAAACAAAAAAAAAAAAAAAAAAAAAgAAAAAAAAACAAAAAAAAAAAAAAAAAAAAAgAAAAIAAAAAAAAAAgAAAAIAAAACAAAAAAAAAAAAAAACAAAAAgAAAAIAAAAAAAAAAAAAAAIAAAAAAAAAAAAAAAIAAAACAAAAAgAAAAIAAAAAAAAAAAAAAAAAAAAAAAAAAgAAAAIAAAACAAAAAAAAAAAAAAACAAAAAAAAAAAAAAACAAAAAAAAAAIAAAAAAAAAAAAAAAAAAAACAAAAAAAAAAAAAAACAAAAAgAAAAMAAAAAAAAAAAAAAAAAAAACAAAAAgAAAAAAAAAAAAAAAgAAAAAAAAACAAAAAgAAAAIAAAACAAAAAgAAAAIAAAACAAAAAAAAAAAAAAAAAAAAAAAAAAAAAAAAAAAAAAAAAAIAAAAAAAAAAAAAAAIAAAAAAAAAAgAAAAIAAAAAAAAAAAAAAAIAAAAAAAAAAAAAAAIAAAACAAAAAgAAAAIAAAAAAAAAAgAAAAIAAAACAAAAAAAAAAAAAAACAAAAAgAAAAAAAAACAAAAAgAAAAAAAAAAAAAAAgAAAAAAAAACAAAAAAAAAAIAAAACAAAAAAAAAAIAAAACAAAAAAAAAAAAAAACAAAAAgAAAAAAAAACAAAAAgAAAAAAAAACAAAAAAAAAAIAAAACAAAAAgAAAAIAAAACAAAAAAAAAAIAAAACAAAAAgAAAAAAAAAAAAAAAAAAAAIAAAACAAAAAgAAAAIAAAACAAAAAgAAAAIAAAACAAAAAgAAAAAAAAAAAAAAAAAAAAIAAAAAAAAAAAAAAAIAAAAAAAAAAAAAAAAAAAACAAAAAAAAAAIAAAACAAAAAgAAAAAAAAACAAAAAAAAAAIAAAACAAAAAgAAAAAAAAACAAAAAgAAAAIAAAACAAAAAgAAAAAAAAADAAAAAgAAAAAAAAACAAAAAAAAAAAAAAAAAAAAAAAAAAAAAAACAAAAAAAAAAIAAAAAAAAAAgAAAAAAAAACAAAAAAAAAAIAAAAAAAAAAgAAAAAAAAAAAAAAAAAAAAAAAAAAAAAAAAAAAAAAAAAAAAAAAAAAAAIAAAAAAAAAAgAAAAAAAAACAAAAAgAAAAAAAAAAAAAAAgAAAAIAAAAAAAAAAgAAAAIAAAACAAAAAAAAAAAAAAAAAAAAAAAAAAIAAAACAAAAAgAAAAAAAAACAAAAAAAAAAAAAAACAAAAAAAAAAIAAAACAAAAAAAAAAIAAAACAAAAAgAAAAIAAAAAAAAAAAAAAAIAAAACAAAAAgAAAAAAAAACAAAAAAAAAAAAAAACAAAAAgAAAAAAAAACAAAAAgAAAAIAAAAAAAAAAAAAAAIAAAACAAAAAgAAAAIAAAACAAAAAAAAAAIAAAACAAAAAwAAAAAAAAACAAAAAAAAAAAAAAACAAAAAgAAAAAAAAACAAAAAAAAAAIAAAACAAAAAgAAAAIAAAACAAAAAQAAAAAAAAACAAAAAgAAAAIAAAAAAAAAAAAAAAIAAAACAAAA\",\"dtype\":\"int32\",\"order\":\"little\",\"shape\":[744]},\"CoinName\":[\"42 Coin\",\"404Coin\",\"808\",\"EliteCoin\",\"Bitcoin\",\"Ethereum\",\"Litecoin\",\"Dash\",\"Monero\",\"Ethereum Classic\",\"ZCash\",\"Bitshares\",\"DigiByte\",\"BitcoinDark\",\"Bitstake\",\"PayCoin\",\"ProsperCoin\",\"KoboCoin\",\"Spreadcoin\",\"ACoin\",\"Aero Coin\",\"ApexCoin\",\"ArchCoin\",\"Argentum\",\"Aurora Coin\",\"BetaCoin\",\"BlueCoin\",\"MyriadCoin\",\"MoonCoin\",\"ZetaCoin\",\"SexCoin\",\"Quatloo\",\"EnergyCoin\",\"QuarkCoin\",\"Riecoin\",\"Digitalcoin \",\"LimeCoinX\",\"BitBar\",\"BitMark\",\"CashCoin\",\"Catcoin\",\"CryptoBullion\",\"CannaCoin\",\"CinderCoin\",\"CoolCoin\",\"CryptCoin\",\"CasinoCoin\",\"eMark\",\"Diamond\",\"Verge\",\"DarkCash\",\"DarkShibe\",\"DevCoin\",\"EarthCoin\",\"E-Gulden\",\"Elacoin\",\"Einsteinium\",\"Emerald\",\"Exclusive Coin\",\"Flappy Coin\",\"Fuel2Coin\",\"FIBRE\",\"FireRoosterCoin\",\"FlutterCoin\",\"Franko\",\"FeatherCoin\",\"GrandCoin\",\"GlobalCoin\",\"GoldCoin\",\"GlyphCoin\",\"Halcyon\",\"HoboNickels\",\"HunterCoin\",\"HyperStake\",\"Infinite Coin\",\"IOCoin\",\"IXcoin\",\"JumBucks Coin\",\"JudgeCoin\",\"KrugerCoin\",\"LuckyCoin\",\"Litebar \",\"LitecoinDark\",\"LibrexCoin\",\"MaxCoin\",\"MegaCoin\",\"MediterraneanCoin\",\"MintCoin\",\"MinCoin\",\"MazaCoin\",\"Nautilus Coin\",\"NavCoin\",\"NoirBits\",\"NobleCoin\",\"Namecoin\",\"NyanCoin\",\"OpalCoin\",\"Orbitcoin\",\"PotCoin\",\"PhoenixCoin\",\"Reddcoin\",\"RipOffCoin\",\"RonPaulCoin\",\"StableCoin\",\"ShieldCoin\",\"SilkCoin\",\"SmartCoin\",\"SpainCoin\",\"SecureCoin\",\"SuperCoin\",\"SyncCoin\",\"SysCoin\",\"TeslaCoin\",\"TigerCoin\",\"TittieCoin\",\"TorCoin\",\"TerraCoin\",\"Umbrella\",\"UnbreakableCoin\",\"Unobtanium\",\"UroCoin\",\"UnitaryStatus Dollar\",\"UltraCoin\",\"Utility Coin\",\"ViaCoin\",\"VootCoin\",\"VeriCoin\",\"Vertcoin\",\"WorldCoin\",\"SocialXbotCoin\",\"X11 Coin\",\"Crypti\",\"JouleCoin\",\"StealthCoin\",\"XXXCoin\",\"ZCC Coin\",\"ByteCoin\",\"DigitalNote \",\"BurstCoin\",\"StorjCoin\",\"MonaCoin\",\"Neutron\",\"Sling Coin\",\"KryptCoin\",\"FairCoin\",\"Gulden\",\"RubyCoin\",\"PesetaCoin\",\"Kore\",\"Wild Beast Coin\",\"Dnotes\",\"Flo\",\"MaieutiCoin\",\"8BIT Coin\",\"Sativa Coin\",\"AeroMe\",\"ArtByte\",\"MasterTraderCoin\",\"BitCredit\",\"Folding Coin\",\"Ucoin\",\"Unitus\",\"CypherPunkCoin\",\"MaryJane Coin\",\"OmniCron\",\"CyberCoin\",\"Vtorrent\",\"GreenCoin\",\"Unattanium\",\"Cryptonite\",\"Gridmaster\",\"ConSpiracy Coin \",\"MasterCoin\",\"SoonCoin\",\"1Credit\",\"ViorCoin\",\"IslaCoin\",\"Quicksilver coin\",\"Nexus\",\"MarsCoin \",\"Singular\",\"Crypto\",\"Anarchists Prime\",\"Droidz\",\"BowsCoin\",\"CryptoCircuits\",\"Squall Coin\",\"Milllionaire Coin\",\"Song Coin\",\"BitZeny\",\"Diggits\",\"Expanse\",\"MapCoin\",\"Paycon\",\"Siacoin\",\"Emercoin\",\"BlitzCoin\",\"EverGreenCoin\",\"MindCoin\",\"I0coin\",\"Decred\",\"DogeCoinDark\",\"Revolution VR\",\"HOdlcoin\",\"EDRCoin\",\"Hitcoin\",\"Gamecredits\",\"Dashcoin\",\"DubaiCoin\",\"BiosCrypto\",\"CarpeDiemCoin\",\"PWR Coin\",\"TrumpCoin\",\"BillaryCoin\",\"EthereumScrypt\",\"Phalanx\",\"SunShotCoin\",\"GPU Coin\",\"HempCoin\",\"Adzcoin\",\"VirtaCoin\",\"SoilCoin\",\"YoCoin\",\"Universal Currency\",\"AEON\",\"SibCoin\",\"EuropeCoin\",\"Anti Bitcoin\",\"ZeitCoin\",\"SwingCoin\",\"SafeExchangeCoin\",\"Nebuchadnezzar\",\"Francs\",\"Aiden\",\"BolivarCoin\",\"GIZMOcoin\",\"SecretCoin\",\"Ratecoin\",\"Digital Bullion Gold\",\"Revenu\",\"Clinton\",\"Clockcoin\",\"VIP Tokens\",\"OrlyCoin\",\"BitSend\",\"16BitCoin\",\"ChessCoin\",\"ReeCoin\",\"Omni\",\"Let it Ride\",\"PutinCoin\",\"iBankCoin\",\"Frankywillcoin\",\"MudraCoin\",\"PizzaCoin\",\"Lutetium Coin\",\"Komodo\",\"GoldBlocks\",\"WayCoin\",\"CarterCoin\",\"Karbo\",\"BitTokens\",\"ZayedCoin\",\"MustangCoin\",\"ZoneCoin\",\"Circuits of Value\",\"RootCoin\",\"DopeCoin\",\"PROUD Money\",\"BitCurrency\",\"DollarCoin\",\"Swiscoin\",\"Shilling\",\"BuzzCoin\",\"Opair\",\"PesoBit\",\"GBR Coin\",\"Halloween Coin\",\"FujiCoin\",\"ZCoin\",\"LeaCoin\",\"CoffeeCoin\",\"RoyalCoin\",\"Zurcoin\",\"GanjaCoin V2\",\"TeamUP\",\"LanaCoin\",\"Elementrem\",\"CashOut\",\"ZClassic\",\"ARK\",\"InsaneCoin\",\"LuckChain\",\"KiloCoin\",\"Hush\",\"ArtexCoin\",\"EmberCoin\",\"XenixCoin\",\"FreeCoin\",\"NPCcoin\",\"PLNCoin\",\"Icobid\",\"AquariusCoin\",\"Kurrent\",\"Creatio\",\"Eternity\",\"Eurocoin\",\"BitcoinFast\",\"Stakenet\",\"BitConnect Coin\",\"MoneyCoin\",\"Enigma\",\"Cannabis Industry Coin\",\"Russiacoin\",\"PandaCoin\",\"GameUnits\",\"GAKHcoin\",\"Allsafe\",\"LiteCreed\",\"OsmiumCoin\",\"Bikercoins\",\"NeptuneClassic\",\"HexxCoin\",\"GoldenBird\",\"Ride My Car\",\"Klingon Empire Darsek\",\"Internet of People\",\"KushCoin\",\"Eryllium\",\"MarxCoin\",\"Printerium\",\"PacCoin\",\"Impeach\",\"Solarflarecoin\",\"Citadel\",\"Zilbercoin\",\"FirstCoin\",\"CreativeChain\",\"BeaverCoin\",\"FindCoin\",\"VaultCoin\",\"Zero\",\"OpenChat\",\"Canada eCoin\",\"Zoin\",\"Musicoin\",\"BnrtxCoin\",\"RenosCoin\",\"DubaiCoin\",\"VirtacoinPlus\",\"TajCoin\",\"Impact\",\"EB3coin\",\"Universe\",\"Atmos\",\"HappyCoin\",\"Coinonat\",\"MacronCoin\",\"Condensate\",\"Independent Money System\",\"ArgusCoin\",\"LomoCoin\",\"Bitcoin Scrypt\",\"ProCurrency\",\"GoldReserve\",\"BenjiRolls\",\"ParallelCoin\",\"GrowthCoin\",\"ILCoin\",\"Phreak\",\"Degas Coin\",\"ZSEcoin\",\"HTML5 Coin\",\"Ultimate Secure Cash\",\"EquiTrader\",\"QTUM\",\"Quantum Resistant Ledger\",\"Espers\",\"Dynamic\",\"Nano\",\"ChanCoin\",\"Dinastycoin\",\"Denarius\",\"DigitalPrice\",\"Virta Unique Coin\",\"Bitcoin Planet\",\"Unify\",\"BritCoin\",\"SocialCoin\",\"Octanox\",\"ArcticCoin\",\"DAS\",\"Linda\",\"LeviarCoin\",\"DeepOnion\",\"Bitcore\",\"gCn Coin\",\"SmartCash\",\"Signatum\",\"Onix\",\"Cream\",\"Bitcoin Cash\",\"Monoeci\",\"CampusCoin\",\"Draftcoin\",\"Vechain\",\"Sojourn Coin\",\"Stakecoin\",\"NewYorkCoin\",\"LiteBitcoin\",\"FrazCoin\",\"Kronecoin\",\"AdCoin\",\"Linx\",\"CoinonatX\",\"Ethereum Dark\",\"Sumokoin\",\"Obsidian\",\"Cardano\",\"Regalcoin\",\"BitcoinZ\",\"TrezarCoin\",\"Elements\",\"TerraNovaCoin\",\"VIVO Coin\",\"Rupee\",\"Bitcoin Gold\",\"WomenCoin\",\"Theresa May Coin\",\"NamoCoin\",\"LUXCoin\",\"Pirl\",\"Xios\",\"Bitcloud 2.0\",\"eBoost\",\"KekCoin\",\"BlackholeCoin\",\"AltCommunity Coin\",\"Pure\",\"Rupaya\",\"Infinity Economics\",\"Pura\",\"Innova\",\"Bitdeal\",\"Ellaism\",\"Sakuracoin\",\"Interstellar Holdings\",\"GoByte\",\"Castle\",\"Insta Cash Coin\",\"Alqo\",\"Magnet\",\"Lamden Tau\",\"Electra\",\"Bitcoin Diamond\",\"SHIELD\",\"BridgeCoin\",\"Mutual Coin\",\"Cash & Back Coin\",\"UltraNote\",\"BitCoal\",\"DaxxCoin\",\"Bulwark\",\"BoxyCoin\",\"Kalkulus\",\"AC3\",\"CHIPS\",\"Lethean\",\"GermanCoin\",\"LiteCoin Ultra\",\"PopularCoin\",\"PhantomX\",\"HomeBlockCoin\",\"HTML Coin\",\"Photon\",\"Sucre\",\"Accolade\",\"Fantasy Cash\",\"OmiseGO Classic\",\"SparksPay\",\"GoaCoin\",\"Digiwage\",\"GunCoin\",\"IrishCoin\",\"Trollcoin\",\"Litecoin Plus\",\"Monkey Project\",\"ECC\",\"Pioneer Coin\",\"UnitedBitcoin\",\"Interzone\",\"Sigil\",\"OP Coin\",\"Valorbit\",\"TokenPay\",\"1717 Masonic Commemorative Token\",\"Crypto Wisdom Coin\",\"My Big Coin\",\"TurtleCoin\",\"MUNcoin\",\"Unified Society USDEX\",\"Niobio Cash\",\"BitSoar Coin\",\"Bitcoin Private\",\"Skeincoin\",\"ShareChain\",\"Credence Coin\",\"Travelflex\",\"KREDS\",\"Tokyo Coin\",\"BiblePay\",\"LitecoinCash\",\"BitFlip\",\"LottoCoin\",\"LeafCoin\",\"BashCoin\",\"DigiMoney\",\"Cerberus\",\"Bitcoin Hush\",\"Lizus Payment\",\"Crypto Improvement Fund\",\"Stipend\",\"Poa Network\",\"Pushi\",\"PokerCoin\",\"Ellerium\",\"Velox\",\"Ontology\",\"Callisto Network\",\"Curium\",\"BitTube\",\"Dinero\",\"Poseidon\",\"Manna\",\"Aidos Kuneen\",\"Seraph\",\"Cosmo\",\"Reden\",\"Bitspace\",\"Snowgem\",\"Briacoin\",\"Ignition\",\"Bitrolium\",\"Bitcoin Interest\",\"MedicCoin\",\"FOLM coin\",\"Alpenschillling\",\"Zelcash\",\"Bitcoin Green\",\"Deviant Coin\",\"Abjcoin\",\"Rapture\",\"Profit Hunters Coin\",\"Semux\",\"BitBlocks\",\"Uwezocoin\",\"FuturoCoin\",\"Carebit\",\"Zealium\",\"Monero Classic\",\"Proton\",\"iDealCash\",\"Jumpcoin\",\"Infinex\",\"Bitcoin Incognito\",\"KEYCO\",\"HollyWoodCoin\",\"GINcoin\",\"Parlay\",\"Listerclassic Coin\",\"PlatinCoin\",\"BetKings\",\"Cognitio\",\"Loki\",\"Newton Coin\",\"Mercoin\",\"Swisscoin\",\"ExchangeCoin\",\"Reliance\",\"Xt3ch\",\"MassGrid\",\"TheVig\",\"PluraCoin\",\"EmaratCoin\",\"Dekado\",\"Lynx\",\"Poseidon Quark\",\"MYCE\",\"Arionum\",\"BitcoinWSpectrum\",\"GolfCoin\",\"Muse\",\"Motion\",\"PlusOneCoin\",\"Axe\",\"GambleCoin\",\"Trivechain\",\"Dystem\",\"Giant\",\"Peony Coin\",\"SafeCoin\",\"Absolute Coin\",\"Vitae\",\"GenesisX\",\"BitminerCoin\",\"HexCoin\",\"Deimos\",\"TPCash\",\"Webchain\",\"Ryo\",\"MUSDcoin\",\"Urals Coin\",\"Qwertycoin\",\"Bitcoin Nova\",\"ARENON\",\"DACash\",\"EUNO\",\"MMOCoin\",\"Ketan\",\"NIX\",\"Safe Trade Coin\",\"Project Pai\",\"Mont Blanc\",\"XDNA\",\"PAXEX\",\"Azart\",\"Averopay\",\"Apollon\",\"ThunderStake\",\"SimpleBank\",\"Kcash\",\"Xchange\",\"Acute Angle Cloud\",\"Traid\",\"CrypticCoin\",\"Bettex coin\",\"ZestCoin\",\"X-CASH\",\"Brazio\",\"Actinium\",\"ETHER-1\",\"TWIST\",\"Bitcoin SV\",\"DACH Coin\",\"Argoneum\",\"BitMoney\",\"Bitcoiin2Gen\",\"Junson Ming Chan Coin\",\"FREDEnergy\",\"Zenad\",\"C25 Coin\",\"HerbCoin\",\"Aquachain\",\"BlakeBitcoin\",\"Universal Molecule\",\"Lithium\",\"Electron\",\"Smart Bitcoin\",\"PirateCash\",\"Exosis\",\"Block-Logic\",\"Oduwa\",\"Beam\",\"Galilel\",\"Bithereum\",\"Crypto Sports\",\"Credit\",\"Scribe Network\",\"SLICE\",\"Dash Platinum\",\"Nasdacoin\",\"Vidulum\",\"Beetle Coin\",\"Titan Coin\",\"Award\",\"BlockStamp\",\"BLAST\",\"Bitcoin Rhodium\",\"GlobalToken\",\"Insane Coin\",\"ALAX\",\"The Freedom Coin\",\"Media Protocol Token\",\"LiteDoge\",\"Boolberry\",\"SolarCoin\",\"TruckCoin\",\"UFO Coin\",\"Ascension Coin\",\"OrangeCoin\",\"BlakeCoin\",\"BitstarCoin\",\"NeosCoin\",\"HyperCoin\",\"PinkCoin\",\"FantomCoin \",\"Crypto Escudo\",\"AudioCoin\",\"IncaKoin\",\"Piggy Coin\",\"Crown Coin\",\"Genstake\",\"Quazar Coin\",\"SmileyCoin\",\"ParkByte\",\"XiaoMiCoin\",\"Groestlcoin\",\"CapriCoin\",\" ClubCoin\",\"Radium\",\"Bata\",\"Pakcoin\",\"Creditbit \",\"OKCash\",\"Lisk\",\"HiCoin\",\"WhiteCoin\",\"Dotcoin\",\"FriendshipCoin\",\"The Hempcoin\",\"Fiii\",\"JoinCoin\",\"Triangles Coin\",\"Vollar\",\"TecraCoin\",\"Gexan\",\"EOS\",\"Reality Clash\",\"Oxycoin\",\"iOlite\",\"TigerCash\",\"LAPO\",\"Waves\",\"Particl\",\"ShardCoin\",\"BitTorrent\",\"ChainZilla\",\"Nxt\",\"ZEPHYR\",\"Gapcoin\",\"Beldex\",\"Horizen\",\"BitcoinPlus\",\"DivotyCoin\"],\"ProofType\":[\"PoW/PoS\",\"PoW/PoS\",\"PoW/PoS\",\"PoW/PoS\",\"PoW\",\"PoW\",\"PoW\",\"PoW/PoS\",\"PoW\",\"PoW\",\"PoW\",\"PoS\",\"PoW\",\"PoW/PoS\",\"PoW/PoS\",\"PoS\",\"PoW\",\"PoW/PoS\",\"PoW\",\"PoW\",\"PoS\",\"PoW/PoS\",\"PoS\",\"PoW\",\"PoW/PoS\",\"PoW\",\"PoW/PoS\",\"PoW\",\"PoW\",\"PoW\",\"PoW\",\"PoW\",\"PoW/PoS\",\"PoW\",\"PoW\",\"PoW\",\"PoW\",\"PoW/PoS\",\"PoW\",\"PoW/PoS\",\"PoW\",\"PoW/PoS\",\"PoW\",\"PoW/PoS\",\"PoS\",\"PoW\",\"PoC\",\"PoW/PoS\",\"PoW/PoS\",\"PoW\",\"PoW/PoS\",\"PoW\",\"PoW\",\"PoW\",\"PoW\",\"PoW\",\"PoW\",\"PoW\",\"PoS\",\"PoW\",\"PoS\",\"PoW/PoS\",\"PoW\",\"PoS/PoW/PoT\",\"PoW\",\"PoW\",\"PoW\",\"PoW\",\"PoW\",\"PoW/PoS\",\"PoW/PoS\",\"PoW/PoS\",\"PoW\",\"PoS\",\"PoW\",\"PoW/PoS\",\"PoW\",\"PoW/PoS\",\"PoW/PoS\",\"PoW\",\"PoW\",\"PoW\",\"PoW\",\"PoW/PoS\",\"PoW/PoS\",\"PoW\",\"PoW\",\"PoS\",\"PoW\",\"PoW/PoS\",\"PoS\",\"PoW/PoS\",\"PoW\",\"PoW\",\"PoW\",\"PoW\",\"PoW/PoS\",\"PoW/PoS\",\"PoW/PoS\",\"PoW/PoS\",\"PoW/PoS\",\"PoW\",\"PoW\",\"PoW\",\"PoW/PoS\",\"PoW/PoS\",\"PoW\",\"PoW\",\"PoW\",\"PoS\",\"PoW/PoS\",\"PoW\",\"PoS\",\"PoW\",\"PoS\",\"PoW/PoS\",\"PoW\",\"PoW\",\"PoW\",\"PoW\",\"PoW\",\"PoW/PoS\",\"PoW/PoS\",\"PoW/PoS\",\"PoW\",\"PoW\",\"PoST\",\"PoW\",\"PoW\",\"PoW/PoS\",\"PoW/PoS\",\"PoS\",\"PoW\",\"PoW/PoS\",\"PoW/PoS\",\"PoW/PoS\",\"PoW\",\"PoW\",\"PoC\",\"PoS\",\"PoW\",\"PoW/PoS\",\"PoW\",\"PoS\",\"PoW/PoS\",\"PoW\",\"PoS\",\"PoW\",\"PoW/PoS\",\"PoW\",\"PoS\",\"PoW\",\"PoS\",\"PoW/PoS\",\"PoW/PoS\",\"PoW/PoS\",\"PoW\",\"PoW/PoS\",\"PoW\",\"PoW\",\"PoS\",\"PoW\",\"PoW\",\"PoW/PoS\",\"PoW\",\"PoW/PoS\",\"PoW/PoS\",\"PoW\",\"PoW\",\"PoW\",\"PoW\",\"PoW\",\"PoW\",\"PoW\",\"PoW\",\"PoW/PoS\",\"PoW/PoS\",\"PoW\",\"PoW/nPoS\",\"PoW\",\"PoW/PoS\",\"PoW\",\"PoW\",\"PoW/PoS\",\"PoW\",\"PoS\",\"PoS/PoW\",\"PoW/PoS\",\"PoW\",\"PoW\",\"PoS\",\"PoW\",\"PoS\",\"PoW/PoS\",\"PoW\",\"PoW/PoS\",\"PoS\",\"PoW/PoS\",\"PoW\",\"PoW\",\"PoW/PoS\",\"PoW\",\"PoW\",\"PoW\",\"PoW/PoS\",\"PoW/PoS\",\"PoW\",\"PoW\",\"PoW/PoS\",\"PoW/PoS\",\"PoW\",\"PoW/PoS\",\"PoS\",\"PoW/PoS\",\"PoW/PoS\",\"PoW\",\"PoW\",\"PoS\",\"PoW\",\"PoW\",\"PoW\",\"PoW\",\"PoW\",\"PoW/PoS\",\"PoW\",\"PoW\",\"PoW/PoS\",\"PoW\",\"PoS\",\"PoW/PoS\",\"PoC\",\"PoS\",\"PoW\",\"PoW\",\"PoW\",\"PoW/PoS\",\"PoW/PoS\",\"PoW/PoS\",\"PoS\",\"PoW/PoS\",\"PoW\",\"PoW/PoS\",\"PoW/PoS\",\"PoW/PoS\",\"PoW/PoS\",\"PoW/PoS\",\"PoW/PoS\",\"PoW/PoS\",\"PoW\",\"PoS\",\"PoW/PoS\",\"PoW/PoS\",\"PoW/PoS\",\"PoS\",\"PoW\",\"PoS\",\"dPoW/PoW\",\"PoW/PoS\",\"PoS\",\"PoW/PoS\",\"PoW\",\"PoW/PoS\",\"PoW\",\"PoW/PoS\",\"PoW/PoS\",\"PoW\",\"PoW/PoS\",\"PoW\",\"PoW/PoS\",\"PoS\",\"PoW\",\"PoW/PoW\",\"PoW\",\"PoW/PoS\",\"PoS\",\"PoW/PoS\",\"PoW\",\"PoW/PoS\",\"PoW\",\"PoW\",\"PoW\",\"PoS\",\"PoS\",\"PoW\",\"PoW/PoS\",\"PoS\",\"PoW/PoS\",\"PoW\",\"PoW\",\"PoW\",\"DPoS\",\"PoW/PoS\",\"PoW/PoS\",\"PoW\",\"PoW\",\"PoW\",\"PoW/PoS\",\"PoW/PoS\",\"PoS\",\"PoW/PoS\",\"PoW/PoS\",\"PoW/PoS\",\"PoW/PoS\",\"PoW\",\"PoS\",\"PoW/PoS\",\"PoW/PoS\",\"PoW/PoS\",\"TPoS\",\"PoW/PoS\",\"PoW/PoS\",\"PoW/PoS\",\"PoW\",\"PoW/PoS\",\"PoS\",\"PoW/PoS\",\"PoW/PoS\",\"PoS\",\"PoW/PoS\",\"PoW\",\"PoW\",\"PoW/PoS\",\"PoW\",\"PoW/PoS\",\"PoS\",\"PoW/PoS\",\"PoW/PoS\",\"PoW/PoS\",\"PoW/PoS\",\"PoW\",\"PoW/PoS\",\"PoW\",\"PoW/PoS\",\"PoW\",\"PoW\",\"PoS\",\"PoW/PoS \",\"PoW\",\"PoW\",\"PoS\",\"PoW\",\"PoW\",\"PoW/PoS\",\"PoW\",\"PoW\",\"PoW\",\"PoW\",\"PoS\",\"PoW\",\"PoW/PoS\",\"PoW/PoS\",\"PoW/PoS\",\"PoW\",\"PoS\",\"PoS\",\"PoW/PoS\",\"PoW\",\"PoS\",\"PoW/PoS\",\"PoW/PoS\",\"PoW/PoS\",\"PoW/PoS\",\"PoW\",\"PoS\",\"PoW/PoS\",\"PoW\",\"PoW\",\"PoS\",\"PoW\",\"PoS\",\"PoW/PoS\",\"PoW/PoS\",\"PoW/PoS\",\"PoS\",\"PoW\",\"PoS\",\"PoW\",\"PoW/PoS\",\"PoW\",\"PoW\",\"PoW\",\"PoW\",\"PoW/PoS\",\"PoW\",\"PoW/PoS\",\"PoW/PoS\",\"PoW\",\"PoW/PoS\",\"PoW\",\"PoW/PoS\",\"PoW\",\"PoW\",\"PoW/PoS\",\"PoW\",\"PoW/PoS\",\"PoW\",\"PoW\",\"PoW\",\"PoS\",\"PoW\",\"PoW/PoS\",\"PoW\",\"PoW/PoS\",\"PoW\",\"PoS\",\"Proof of Authority\",\"PoW\",\"PoS\",\"PoW\",\"PoW\",\"PoW\",\"PoW\",\"PoW\",\"PoW\",\"PoW/PoS\",\"PoW/PoS\",\"PoW\",\"PoS\",\"PoS\",\"PoW/PoS\",\"PoW\",\"PoW/PoS\",\"PoW\",\"PoW/PoS\",\"PoW\",\"PoS\",\"PoW\",\"PoW/PoS\",\"PoW/PoS\",\"PoW/PoS\",\"PoW/PoS\",\"PoW\",\"PoW/PoS\",\"PoW/PoS\",\"PoW\",\"PoS\",\"PoW/PoS\",\"PoW/PoS\",\"PoW/PoS\",\"PoS\",\"PoS\",\"PoW\",\"PoW\",\"PoW\",\"PoW\",\"PoW\",\"PoS\",\"PoW\",\"DPoS\",\"PoW\",\"PoW/PoS\",\"PoW/PoS\",\"DPoS\",\"PoW/PoS\",\"PoW/PoS\",\"PoW\",\"PoW\",\"PoW/PoS\",\"PoW/PoS\",\"PoW\",\"PoW\",\"PoW\",\"PoS\",\"PoW\",\"PoS\",\"PoW\",\"PoW\",\"PoW\",\"PoW/PoS\",\"PoW/PoS\",\"PoW\",\"PoW/PoS\",\"PoW/PoS\",\"PoW/PoS\",\"PoW\",\"PoW\",\"PoW/PoS\",\"PoW/PoS\",\"PoW/PoS\",\"PoW\",\"PoW\",\"PoS\",\"PoW\",\"PoW\",\"PoW/PoS\",\"PoW/PoS\",\"PoS\",\"PoS\",\"PoW\",\"PoW\",\"PoW\",\"PoW\",\"PoW/PoS\",\"PoW/PoS\",\"PoS\",\"PoS\",\"PoW\",\"PoW and PoS\",\"PoW\",\"PoW\",\"PoW/PoS\",\"PoW\",\"PoS\",\"PoW\",\"PoW\",\"PoW\",\"PoW/PoS\",\"PoW\",\"PoW\",\"PoS\",\"POBh\",\"PoW + Hive\",\"PoW\",\"PoW\",\"PoW\",\"PoW/PoS\",\"PoW/PoS\",\"PoW\",\"PoW\",\"PoW/PoS\",\"PoW\",\"PoW/PoS\",\"PoA\",\"PoW/PoS\",\"PoS/PoW\",\"PoW/PoS\",\"PoS\",\"PoS\",\"PoW\",\"PoW\",\"PoW\",\"PoW\",\"PoW\",\"PoW\",\"PoW\",\"PoW/PoS\",\"PoW\",\"PoW\",\"PoW/PoS\",\"PoW\",\"PoW/PoS\",\"PoW/PoS\",\"PoW\",\"PoW\",\"PoS\",\"PoW\",\"PoW\",\"PoW/PoS\",\"PoS\",\"PoS\",\"PoW/PoS\",\"PoW\",\"PoW/PoS\",\"DPoS\",\"PoW/PoS\",\"PoW\",\"PoW\",\"PoW/PoS\",\"PoS\",\"PoW\",\"PoS\",\"PoW/PoS\",\"PoW\",\"PoW\",\"PoS/PoW\",\"PoW\",\"PoS\",\"PoW\",\"PoS\",\"PoW/PoS\",\"PoW\",\"PoS\",\"PoW/PoS\",\"PoW\",\"PoW\",\"PoW/PoS\",\"PoW/PoS\",\"PoW\",\"PoS\",\"PoS\",\"PoW\",\"PoW/PoS\",\"PoW\",\"PoW/PoS\",\"PoS\",\"HPoW\",\"PoS\",\"PoW/PoS\",\"PoW\",\"PoS\",\"PoW/PoS\",\"PoS\",\"PoW\",\"PoW\",\"PoW\",\"PoS\",\"PoW/PoS\",\"PoS\",\"PoW/PoS\",\"PoS\",\"PoW/PoS\",\"PoW/PoS\",\"PoS\",\"PoS\",\"PoW\",\"PoW\",\"PoW\",\"PoW/PoS\",\"PoW\",\"PoW\",\"PoW/PoS\",\"PoW\",\"PoW\",\"PoW\",\"PoS\",\"PoW\",\"PoW/PoS\",\"PoS\",\"PoS\",\"PoW\",\"PoS\",\"PoW\",\"PoS\",\"PoW/PoS\",\"PoS\",\"PoW\",\"PoW/PoS\",\"PoW/PoS\",\"PoW/PoS\",\"PoW/PoS\",\"Zero-Knowledge Proof\",\"PoW\",\"DPOS\",\"PoW/PoS\",\"PoW\",\"PoS\",\"PoW\",\"PoW\",\"PoW\",\"PoW\",\"PoW\",\"PoS\",\"PoW\",\"PoS\",\"PoW\",\"Pos\",\"PoW\",\"PoS\",\"PoW\",\"POS / MN\",\"PoW\",\"PoW/PoS\",\"PoW\",\"PoW\",\"PoW\",\"PoW\",\"PoW\",\"PoW\",\"PoS\",\"PoW\",\"PoW\",\"PoW/PoS\",\"PoW\",\"PoW/PoS\",\"PoW\",\"PoS\",\"PoW/PoS\",\"PoW\",\"PoW\",\"PoS\",\"PoW/PoS\",\"PoW\",\"PoW/PoS\",\"PoW/PoS\",\"PoW/PoS\",\"PoW\",\"PoW\",\"PoW\",\"PoW\",\"PoW/PoS\",\"DPoS\",\"PoS\",\"PoW\",\"PoW/PoS\",\"PoW\",\"PoW\",\"PoW/PoS\",\"PoW\",\"PoW/PoS\",\"PoW/PoS\",\"PoW\",\"PoW/PoS\",\"PoS\",\"PoW/PoS\",\"PoW/PoS\",\"PoW\",\"PoW\",\"PoW/PoS\",\"PoW/PoS\",\"PoW/PoS\",\"PoW\",\"PoW/PoS\",\"PoW\",\"PoW\",\"PoW/PoS\",\"PoW/PoS\",\"PoW\",\"PoW/PoS\",\"PoW/PoS\",\"PoS\",\"PoW\",\"PoW\",\"Proof of Trust\",\"PoW/PoS\",\"DPoS\",\"PoS\",\"PoW/PoS\",\"PoW\",\"PoW/PoS\",\"PoW/PoS\",\"DPoC\",\"PoW\",\"PoW/PoS\",\"PoW\",\"PoW\",\"PoW/PoS\",\"DPoS\",\"PoW\",\"DPoS\",\"PoW\",\"PoS\",\"PoW/PoS\",\"LPoS\",\"PoS\",\"PoS\",\"DPoS\",\"DPoW\",\"PoS/LPoS\",\"DPoS\",\"PoW/PoS\",\"PoW\",\"PoW\",\"PoS\",\"PoW/PoS\"],\"TotalCoinSupply\":[\"42\",\"532000000\",\"0\",\"314159265359\",\"21000000\",\"0\",\"84000000\",\"22000000\",\"0\",\"210000000\",\"21000000\",\"3600570502\",\"21000000000\",\"22000000\",\"1300000\",\"12500000\",\"21000000\",\"350000000\",\"20000000\",\"1600000\",\"7000000\",\"6000000\",\"16403135\",\"64000000\",\"16768584\",\"32000000\",\"0\",\"2000000000\",\"384000000000\",\"169795588\",\"250000000\",\"100000000\",\"0\",\"247000000\",\"84000000\",\"48166000\",\"21000000 \",\"500000\",\"27580000\",\"47433600\",\"21000000 \",\"1000000\",\"13140000\",\"114000000\",\"100000000\",\"18000000\",\"40000000000\",\"0\",\"4380000\",\"16555000000\",\"3720000\",\"2043962\",\"21000000000\",\"13500000000\",\"21000000 \",\"75000000\",\"299792458\",\"32000000\",\"0\",\"100000000000\",\"100000000\",\"624000\",\"2602410\",\"0\",\"11235813\",\"336000000\",\"1420609614\",\"70000000\",\"72245700\",\"7000000\",\"0\",\"120000000\",\"42000000\",\"0\",\"90600000000\",\"22000000\",\"21000000\",\"3293010\",\"21600000\",\"265420800\",\"20000000\",\"1350000\",\"82003200\",\"1000000\",\"100000000\",\"42000000\",\"200000000\",\"0\",\"10000000\",\"2419200000\",\"16180000\",\"0\",\"50000000\",\"15000000000\",\"21000000\",\"337000000\",\"0\",\"3770000\",\"420000000\",\"98000000\",\"0\",\"12000000\",\"21000000\",\"250000000\",\"1000000\",\"1000000\",\"51200000\",\"50000000\",\"21000000\",\"0\",\"1000\",\"888000000\",\"100000000\",\"47011968\",\"2300000000\",\"10000000\",\"42000000\",\"2625000\",\"80000000\",\"250000\",\"0\",\"1600000000\",\"100000000\",\"0\",\"23000000\",\"0\",\"0\",\"84000000\",\"265420800\",\"2000000\",\"5500000\",\"0\",\"45000000\",\"0\",\"50000000\",\"1000000000\",\"184467440735\",\"10000000000\",\"2158812800\",\"500000000\",\"105120000\",\"68000000\",\"1000000\",\"17000000\",\"0\",\"1680000000\",\"0\",\"166386000\",\"12000000\",\"2628000\",\"500000000\",\"160000000\",\"2014\",\"0\",\"10000000\",\"12000000\",\"1000000000\",\"10110000\",\"210000000\",\"1000000000\",\"20000000\",\"0\",\"0\",\"0\",\"3371337\",\"0\",\"20000000\",\"10000000000\",\"0\",\"1840000000\",\"84000000\",\"33000000\",\"619478\",\"21000000\",\"92000000000\",\"0\",\"0\",\"33000000\",\"78000000\",\"33000000\",\"0\",\"65789100\",\"53760000\",\"5060000\",\"21000000\",\"0\",\"0\",\"0\",\"210240000\",\"250000000\",\"100000000\",\"16906397\",\"2228921.184\",\"50000000\",\"0\",\"1000000000\",\"3852156\",\"26298000\",\"16000000\",\"21000000\",\"21000000\",\"16500000000\",\"210000000\",\"81962100\",\"22000000\",\"26550000000\",\"84000000\",\"18446744\",\"10500000\",\"20190463.54969237\",\"21626280000 \",\"0\",\"12000000\",\"42000000\",\"4200000\",\"15000000\",\"2250000000\",\"221052632\",\"5000000000\",\"84000000\",\"21000000000\",\"30000000\",\"168351300\",\"210000000\",\"18400000\",\"24000000\",\"384000000\",\"42000000\",\" 99000000000\",\"40000000\",\"2147483647\",\"20000000\",\"20000000\",\"84000000\",\"25000000\",\"100000\",\"21000000\",\"75000000\",\"15000000\",\"222725000\",\"2421227\",\"525000000\",\"90000000\",\"36000000\",\"139000000\",\"16000000\",\"74666667\",\"350000000\",\"616448\",\"33500000\",\"2000000000\",\"44333333\",\"100000000\",\"200000000\",\"25000000\",\"657000000\",\"200000000\",\"50000000\",\"100000000\",\"90000000\",\"10000000\",\"21000000\",\"9736000\",\"3000000\",\"21000000\",\"1200000000\",\"0\",\"200000000\",\"10000000000\",\"0\",\"10638298\",\"3100000000\",\"30000000\",\"20000000000\",\"74000000\",\"0\",\"87500000\",\"1500000000\",\"10000000\",\"21400000\",\"2000000000\",\"39999898\",\"2500124\",\"126000000\",\"100000000\",\"301000000\",\"7506000000\",\"26205539\",\"100000000\",\"21000000\",\"125000000\",\"30000000\",\"1000000000\",\"10000000000\",\"21000000\",\"500000000\",\"850000000\",\"3853326.77707314\",\"50000000\",\"7000000000\",\"38540000 \",\"200000000 \",\"42000000\",\"228000000\",\"20000000\",\"60000000\",\"20000000\",\"33000000\",\"76500000\",\"28000000\",\"650659833\",\"5000000\",\"21000000\",\"144000000\",\"32514916898\",\"13000000\",\"3315789\",\"15000000\",\"78835200\",\"2714286\",\"25000000\",\"250000000\",\"9999999\",\"450000000\",\"100000000\",\"500000000\",\"21000000\",\"9354000\",\"100000000\",\"100640000\",\"20000000\",\"100000000000\",\"21933333\",\"20000000\",\"185000000\",\"55000000\",\"110000000\",\"115000000\",\"3360000\",\"14524851.4827\",\"1000000000\",\"17000000\",\"1000000000\",\"100000000 \",\"21000000\",\"454898394\",\"210000000\",\"34426423\",\"2232901\",\"100000000\",\"36900000\",\"110000000\",\"4000000000\",\"112000000\",\"110290030\",\"100000000\",\"48252000\",\"400000000\",\"500000000\",\"21212121\",\"28600000\",\"1000000000\",\"21000000\",\"75000000000\",\"40000000\",\"35520400\",\"1000000\",\"2000000000\",\"2500000000\",\"30000000\",\"105000000\",\"2093500000\",\"90000000000\",\"200084200\",\"72000000\",\"100000000\",\"105000000\",\"50000000000\",\"0\",\"340282367\",\"30000000\",\"2000000000\",\"10000000\",\"100000000\",\"120000000\",\"100000000\",\"19276800\",\"30000000\",\" 75000000\",\"7905634\",\"60000000\",\"18900000\",\"50000000000\",\"54000000\",\"18898187.6216583\",\"21000000\",\"200000000000\",\"5000000000\",\"137500000\",\"1100000000\",\"100000000\",\"21000000\",\"9507271\",\"1010000000\",\"17405891.19707116\",\"86712634466\",\"10500000000\",\"61599965\",\"0\",\"1000000000\",\"20000000\",\"84000000\",\"100000000\",\"100000000\",\"48252000\",\"4200000\",\"88888888\",\"91388946\",\"45000000000\",\"27000000\",\"21000000000\",\"400000000\",\"1800000000\",\"15733333\",\"27000000\",\"24000000\",\"21000000\",\"25000000000\",\"100000000\",\"1200000000\",\"60000000\",\"156306732.71\",\"21000000\",\"200000000\",\"100000000\",\"21000000\",\"14788275.991\",\"5000000\",\"3686860\",\"75000000\",\"9000000000\",\"350000000\",\"45000000\",\"300000000\",\"280000000\",\"105100000\",\"1970000000\",\"31800000\",\"50000000 \",\"300000000\",\"57879300\",\"144000000\",\"500000000\",\"30000000000\",\"210000000\",\"660000000\",\"27000000\",\"1000000000\",\"210000000\",\"85000000000\",\"12500000\",\"10000000000\",\"27716121\",\"100000000\",\"20000000\",\"550000000\",\"21000000\",\"999481516\",\"50000000000\",\"150000000\",\"4999999999\",\"50000000\",\"28000000\",\"90000000000\",\" 90000000000\",\"19800000\",\"50000000\",\"4600000\",\"70000000\",\"21000000\",\"32000000\",\"120000000\",\"500000000\",\"64000000\",\"900000000\",\"4000000\",\"21000000\",\"25000000000\",\"23000000\",\"20166000\",\"23000000\",\"50000000\",\"2000000000\",\"92233720000000000\",\"25000000\",\"1618033\",\"24000000\",\"30000000\",\"1000000000000\",\"16600000\",\"232000000\",\"336000000\",\"3980000000\",\"21000000\",\"17000000\",\"10000000000\",\"25000000\",\"100000000\",\"1100000000\",\"800000000\",\"5200000000\",\"840000000\",\"40000000\",\"18406979840\",\"21000000000\",\"72000000\",\"25000000\",\"31500000\",\"21000000\",\"69000000\",\"500000000\",\"19340594\",\"252460800\",\"25000000\",\"466666667\",\"60000000\",\"124000000\",\"1000000000\",\"6500000000\",\"22000000\",\"1000000000\",\"100000000\",\"21000000\",\"10044655075.56243680\",\"25000000\",\"32000000\",\"11892000\",\"14000000\",\"50000000\",\"84096000\",\"3000000\",\"5000000\",\"70000000\",\"22300000\",\"500000000\",\"23001916\",\"300000000\",\"210000000\",\"21000000\",\"88000000\",\"30000000\",\"21000000\",\"100000000\",\"100000000\",\"500000000\",\"840000000\",\"100000000\",\"200000000\",\"80000000\",\"18400000\",\"45000000\",\"5121951220\",\"21000000\",\"26280000\",\"21000000\",\"18000000\",\"26000000\",\"10500000\",\"30000000\",\"110000000\",\"600000518\",\"8148139\",\"7500000\",\"150000000\",\"184000000000\",\"100000000\",\"10200000000\",\"32000000\",\"62000000\",\"44000000\",\"168000000\",\"100000000\",\"1000000000\",\"84000000\",\"90000000\",\"92000000000\",\"650000000 \",\"250000000\",\"545399000\",\"100262205\",\"1713134800\",\"18081806 \",\"22075700\",\"21000000\",\"21000000\",\"15600000\",\"82546564\",\"21000000\",\"5151000\",\"16880000000\",\"36000000\",\"52500000\",\"100000000\",\"19000000\",\"50000000\",\"22105263\",\"1000000000\",\"1000000000\",\"1750000000\",\"88188888\",\"100000000\",\"210000000\",\"184470000000\",\"1000000000\",\"55000000\",\"50000000\",\"50000000\",\"260000000\",\"210000000\",\"175000000\",\"840000000\",\"2100000000\",\"70000000\",\"366000000\",\"100000000\",\"25000000\",\"36500000\",\"250000000\",\"18000000000\",\"21000000\",\"1000000000\",\"100000000\",\"1000000000\",\"252000000\",\"7600000000\",\"50000000\",\"29300000\",\"100000000000\",\"207000000\",\"84000000\",\"13666237\",\"200000000\",\"21000000\",\"38000000\",\"64000000\",\"70000000000\",\"100000000\",\"0\",\"8080000000\",\"46000000\",\"6100000\",\"54000000\",\"42000000\",\"21000000\",\"105120001.44\",\"25228800\",\"7000000000\",\"20999764\",\"105000000\",\"21000000\",\"120000000\",\"21000000\",\"262800000\",\"19035999\",\"30886000\",\"13370000\",\"74800000000\",\"32700000\",\"100000000\",\"19700000\",\"84000000\",\"100000000\",\"500000000\",\"5000000000\",\"420000000\",\"105000000\",\"64000000\",\"2100000\",\"168000000\",\"30000000\",\"1000000000\",\"25000000\",\"10000000000\",\"35000000000\",\"18450000\",\"98100000000\",\"0\",\"4000000000\",\"0\",\"200000000\",\"7000000000\",\"54256119\",\"21000000\",\"0\",\"500000000\",\"18400000\",\"1000000000\",\"10500000000\",\"190000000\",\"1000000000\",\"42000000\",\"15000000\",\"18446744\",\"50000000000\",\"25000000\",\"400000000\",\"105000000\",\"208000000\",\"160000000\",\"9000000\",\"5000000\",\"182000000\",\"16504333\",\"105000000\",\"159918400\",\"10008835635\",\"300000000\",\"890000000\",\"60168145\",\"300000000\",\"5000000000\",\"2800000\",\"120000\",\"2100000000\",\"210000000\",\"21000000\",\"0\",\"24487944\",\"0\",\"1000000000\",\"1000000000\",\"100000000000\",\"100000000\",\"8634140\",\"900000000\",\"990000000000\",\"11000000\",\"1000000000\",\"2000000000\",\"250000000\",\"1400222610\",\"21000000\",\"1000000\",\"100000000\"],\"TotalCoinsMined\":{\"__ndarray__\":\"E66yfP7/REC4HgUDbHLPQQAAAAAAAAAAxAK6QcJEG0IAAABwwBhxQdv5vvqFrJlB+GhmWjgPjkFzMQXMzzlhQWaQUXJ/Z3BBAAAAXO0Gm0EAAAAQBCpcQQAAADohbeRBAAAovOg+BUIAAAAAnqozQQAAAAAAAAAAKbtP3BjhZkEAAACAHQFWQbszaXn4W3hBaIHsvzREZUEAAAAAAAAAAAAAAAAAAAAAAAAAAAAAAAAAAAAAAAAAAA8SPW7cR2dB+ijjv4NLcUEAAAAAAAAAAAAAAE7m78JBAACAyi0o2UEAAAAAAABWQJF7gss5SqRBaXC7XO69nkHsUbiyWBFcQRLdg0QoV51BvFzUWQ7xrkGLXSFJaaCHQVAsgcXK5H9BAAAAAAAAAADO4sVCb8rkQAAAAAAAAAAAAAAAAAAAAABmWFwpvYpbQcJHik0Zti9B0Ooq4aHxUUEAAAAAAAAAAAAAAAAAAAAAQQ4rjd4PU0GutucKX6AiQgAAAAAAAAAAoF+p3xM2SUH99mjJyqsNQgAAAAAAAAAAAAAAAAAAAAAAAHBTCXwRQnWTloARWwdCTGbm7Bjxc0EAAAAAAAAAAN7//7BwF6pBtMj2JPWXckEAAABAlqpVQQAAAAAAAAAAAAAAAAAAAAAAAAAAAAAAAAAAAAAAAAAAwjRUEfeGu0GkPC0mzG8xQTD1A0oT4KhBAAAANVhZykECWsSDsFCPQQ/x/79I3YNBAAAAAAAAAAAAAAAAAAAAAAwjvdZrSJVBAAAAAAAAAAD7XLHGCwPZQaOhOnztFzVCaeuWH07VcEFt5/tPxBx0QQAAAAAAAAAAAAAAAAAAAACamZnD0A2iQc3MTPJWbnJB67a4OtjZMEEAAAAAAAAAAAAAAAAAAAAAAAAAaLVMjUFB3vH/OTGCQTMzM4eHR4NB0/wVEd7UE0K3KNQ4KyRWQdb//9BLDNhBAAAAAGTcbkFIZKnBRYOPQQAAAAAAAAAAaHk40Omg4UEAAAAAghtsQe+ue+dB87NBYLmUipHobEESpb0jRJJIQQJGB9SRi6pBAACAqh2ikUHuWgQ5YE0bQgAAAAAAAAAAs3X0ax3ZMEGamZnb6Bd3QQAAAAAAAAAAAAAAAAAAAACpBiuSeGh4QQAAAAAAAAAAAAAAAAAAAAAorP5t5i2IQQAAAAAAZJJASWWmrurJwEEmvO6+tSKTQQAAAACNwoRBsaedNq8s2EHonwEAK9k1QQAAAEB233VBAAAAAAAAAAAAAAAAg2FBQXvkB1V+hghBAAAAAA5sMkFmZibkK2DQQeqwIlk69IdBAAAAAAAAAADz/6/CEhR2QQAAAAAAAAAABGSeRqeJfkHGd4jeymaIQQAAAHQ6hJxBAAAAAAAAAACqPTbG64NaQQAAAACE15dBZY7l2qKwgkGG/JjWhY9/QQAAAAAAAAAAzef0u02koUEAAAd1nm1FQnEgpp2iuvlBAAAA8CwE20EAAADAuGaIQXATfMtFQpBBAAAA8JingkEAAAAAAAAAAAAAAAAAAAAAAAAAOGNdiUEAAABk5Ly4QYXzRKbW7HlB4PPTrLRkoEGbqRDjQNw+QZMx4/L5NAZBGovew8bRpEHbpriR7iaiQQAAAAAAAAAAAAAAAMFlNkEAAACAgBJbQQAAAAAAAAAAAAAAUZSex0EAAAAAAAAAAAAAAAAAAAAAAAAAT7dwxUEAAAAAioVEQQAAALBmDI9BAAAAQBlIWEEAAAAAAAAAAMhLLY4xV2NBAAAAAAAAAAAAAABAXiJmQXE9DnLDLPFBAAAAAAAAAAAAAADMeR3FQQAAAAAAAAAAAAAAAAAAAAAAAAAArOciQQAAAIBDxWdBAAAAAFCJ9UAAAAAAAAAAAAAAAADoGDdBAAAAAAAAAAAAAAAgqFqOQbTMIm2Yun5BAAAAAAAAAAAAAABAUjZqQW6jAQDIIGxBv8x/y5xXYEEAAACwA0JuQQAAAAAAAAAASIrIEMAXFEEAAAAAAAAAAAAAAECDDn9BAAAAkCQHkkEAAAAAhNeXQQAAAMClBGRBAAAAAAAAAAAAAADAovl1QQAASLM/0x5Ccy9wllKIhEEAAAAAAAAAAHTfYI23zmlBAAAA4OVDbkF2ItdNVgZ0QWWJs90OxWNBAAAAAAAAAAAAAAAAsQipQQAAAKBO1mVB0TYn7F3/S0EAAJj8c3sEQgAAABB1ppBBAAAAAAAAAAAAAACAzZBTQQAAAAAAAAAAAABklTY/FELPZj/KfMECQgAAAAAAAAAAZta35+opYUEAAAAAAAAAAAAAAAAAAAAAAAAAAAAAAAAAAACQC02DQQAAAAAAAAAAAAAAoKGChUEAAAAAAAAAAAAAAABowFVBFXuiHl1sI0EAAAAAAAAAAAAAAAAAAAAAAAAAsK92cEGG0zi5rNljQQAAAAAAAAAAVp2dlVA3IULEswJnfrJQQQAAwP///99BAAAAANASc0H1ngjqzRBZQQAAAAD0BpRBACv2TwgLakEAAAAAAAAAAAAAAAAAAAAAx2hNekoKoEEAAAAAAAAAAAAAAAAFPjJBAAAAAAAAAAAAAACAJMhvQQAAAIxo5ZNBAAAAAAAAAABmbwTICEJ3QQAAAAAAAAAAAAAAAAAAAAAAAAAAAAAAAAAAAAAA0CJB/JNThatmgkGfr0n5ZjvIQQAAAAA9RFFBAAAAAITXl0EAAAAA0BJTQQAAAAB9BjVBAAAAIIOUw0EAAABM3KGbQQAAACCMr21BAAAAAAAAAAAAAADgOZWEQSqHXC4Y111BAAAAAMorIkEAAAAAgNFXQXUZ5bDIESRBAAAAAOmyQ0EAAAAAZc3NQQAAAACxmT1BAAAAsKrbm0EAAAAAAAAAAAAAADC9N6RBAAAAQKNeYUEAAIDcEtPDQQAAAABMNWVBAADsTbU7EkIsDC47qqaRQQAAANBQ+H9BAAAAAAAAAADfxZN0WI2vQQAAAAAAAAAAUc34T+beXEEAAAAAAAAAAAAAACB6uqFBAAAAAA4TQ0EAAAAAAAAAAAAAAACE15dBeHqlokP+cEFsW+JyHyDQQQAAADDW/XhBAAAAAAAAAAAAAACA+2lVQQAAAJAhzJlBAAAA0Dl+cUEAAAAAAAAAAAAAAOaJZqdBAAAAAAAAAAAAAAAAn47IQQAAw9UedzVC9SF3YwdmTUEAAAAAhNeHQQAAAAAAAAAAAAAAAERMcEEAAAAAAAAAAKeWKbVUsEJBAAAAaNJCjUEAAAAA0BJzQfoQ8YQ6J1dBAAAAQMWuZ0EBbEB6Y05zQQAAAISrBZJBbwoQTIIiZUEAAABATtFkQQAAAACe3ChBAAAAAMLZLUEAAABAhPVfQbVVN4SufR9CAAAAgCt/SkEAAACAJkxJQbdAp5ehD2RBAAAAYNLTfEEAAAAAlEgrQQAAAADk2GFBAAAAAAAAAADpgY9xsqA8QQAAAAAAAAAAAAAAAAAAAAAAAADA69p2QYgj1Ty/RUNBrDNEPXaWVUEAAAAAAAAAAAAAAAAAAAAAAAAAAFSMZkEAAAAd2QDAQQAAAABMzxJBAAAAAAAAAAAHCrzQHOxkQYyDbPs6TEZBAAAAAN45mkEAAAAAAAAAAAAAAAB9xEdBRUdybza0a0EAAABAWPp8QRx4lnltZ1pBAAAAAGXNzUGibUNB9c2XQQAAANjFr3FBAAAAAAAAAAAAAAAAAAAAAAAAAOitMIFBAAAAgCIJQUFO5b6iHxtpQSGPoH1QPWdB3+Fmz1dgmkEAAACgOZCOQQAAAAAAAAAABFaOczF/mkHLmyigOoZ0QQAAAAD4TmNBAAAAWTTtt0E7VJOu3gGdQQAAAIAZe1RBAAAAAKSFMUEAAAAAgIQeQQAAAAAAAAAAAAAARNP4l0EAAABgO2BwQY0pWDI4VnNBAAAAAAAAAAAJpFzqaJexQQAAAMvOotNBYUctP6K5ZUEAAADAil50QQAAAAAAAAAAAADA0e7uIkIAAAAgWbpjQXJC1813FGpBAAAAAITXl0FlCFbDn3WQQQAA3HtkPBVCqJ1rCiLeckEAAACk1MSfQZHbarH1jXFBAADAwZH22kEAAAAAO9NPQQAAAPhswYBBAAAA2FsDjkEAAACA4vRZQQAAALAMS3FBAAAAwGdIdEEAAADAp7ZTQQAAAAAAAAAAHxX6xf/VeEEAAAAA0wJEQX/w+Yv12ABCAAAAYPECa0Ga3cmg1eZ0QZKakZIo+nBBAABOq2v7QkJLH6e/YrLgQQAAAHgivplByhiP2VEznUGSw9HTzpGGQWq8WVp0KXFBJFgm0VX5Z0EAAAAAAAAAAPNrlRV4zHFBAACgM7jSKUIAAAAAeJ0dQQAAAACAhE5B8NfWTe6lQEIAAAAAAAAAAAAAAEBNgmJBcNl3ViulcEEJMgKxZCJ/QQAAAHDJE4BBAAAAQGiickEAAAAAkAVQQQAAAKB7EGFBAAAAAITXd0EAACjNfiUYQs6+uoIwtFtBAz6g3h9q80EAAACArsWlQctKm75JI+RBi6az6v5nMUFRe5nJp8hPQQAAAABg43ZB+YRskctncEEAAIy80ZAmQgAAAMBV8pVBAAAACsK0wEHZb1bUG69fQQAAACDNNIBBAAAAAJxmQEGKcHjo70l9QSdP+cXn1pdB4PPDyeaEZ0HJdr4fhjVvQQAAAAAAAAAAAAAAAAAAAAAAAAAAAAAAAAAAsM+IwwBCAAAA5injpEEpXI/C1lFYQQAAAAAAAAAAAAAA4LFUaEEAAAAAAAAAAAAAAAAAAAAAAAAAuJw/VkEAAAAAAAAAAAAAAAAAAAAADw7W0Hgfj0GOdqwW6jaCQWFvfsfpK7FBAAAAkuJyGkLIlMeRA+GlQenwkAagtrxBAAAAAAAAAAAAAAAAAAAAAM9rLEV/dZpBOPiV+yT1EUIAAAAAiCpRQQAAAIQtDL9Bv+0uXFlEaUF5wtwzevpVQanabk6XK3BBAAAAvBwmk0EAAAAAAAAAABKDYLnxTLpBXI/WvvhL8kHLoUVKCQ9gQUjhGyQdie1BBOfcMG6KhUEAAAAAAAAAAAAAAAAAAAAAWReqze8FHEL+dkAg7CFQQQAAAABFQ1VBAAAAAAAAAABaWwIOXc+HQakEWVV+711BRK5tn51hTkEAAAAA9gh6QQAAAMGN3rFBm/K3SiGwhUEAAABOJZ3BQQndJR2TG0NBAAAAAPXPUEEAAADodkgXQmzR3gqzK2BBAAAAAFc7c0FE3QeDpbpmQQAAAAAAAAAAAAAAAAAAAAAAAAAAAAAAAFUBjViqf3NBAAAAAHGwOEHCAWhjVdBwQeij6NCF7WFBPYqbEsO+KEIj91O/aGFSQeJ2kHPw/qtBxK8Yz5bun0HXLwgsnGvrQQAAAAAAAAAAAAAAAAAAAAAAAAAgX6ACQgAAAABfJUpBJnMcSJ2WmUHVIcXjxS/DQQAAAFoqdKtB8dd4J/5n2kGWsBp+eAbDQRXGFoAyvWdBAACoqNr9CkIAAAAAAAAAAA6vGo9CPmZBAAAAAC/eSkEAAAAAAAAAAAAAAAAAAAAAeE3+f/nHRkFPPwDNSjCpQURLA8bRdWVBAAAAfjRgqEHNzMyMCYpAQQAAAAAAAAAAUrgehS2XGUFaJijSrWJ4QQAAgLiUZcNBAAAASoiErUEAAAAAAAAAAHV1n+vOFZNBAAAAAAAAAACZUBwTog1PQYm1Fk9BluFBAAAAAITXd0EAAAAAesE0QfDY8ZXNB2FBAAAAAAAAAAAZwhbUWUxqQQAAAAAAAAAAGbZ/oIvOKUEAAACAyQkyQQAAAFQxA5FBAAAAAAAAAAAAAKAYR92vQQAAAAAAAAAAg3RsWu0SekEAAAAAAAAAAH0GlGv1smJBTQWmrfbcdEHrseXLdthiQZCptVLtFVFBAAAAAAAAAAAAAAAAK8kyQQAAAAAAAAAAAAAAAAAAAACJEf1SB1R+QXJuA5mDqKBBTNr5wtYfZUEAAAAAvIxuQQAAAACWzFBB5nRdlm/s1EGSQQkk4hd0QURRfW02clNBjX70YrDMZEEAAAAAbkYoQbR2u8vzdIJBBFMT7aemWkEAAAAAM91MQYg34ZgY4V5BAAAAAMCU9ECLUKxUsqplQdiYW+wwGSRBAAAAAC5EckEAAKK9sDojQgwCK8UkKHhBAAAAML3/AkIAAAAAAAAAAAAAAACBrltBSFD8ACwbXUGDbRQgMTKgQZyzj3vKsn9BJcsz4B2xwEHvycO6Rpl0Qc/z50Wa4XxBWeaLVYkhMkLo1Px5NLlEQa5IDH9eVY5BAAAAYNKhjEEY0gHIAZGLQQAAAAAAAAAAAAAAgB9acUGmrVdBav9eQThQXsVjfWBBoqWhrAEMU0HMn6nfnm9fQaz59oQ3m4FBTSPWD2YEW0GrIClxwJRWQZblkOe4zC9BAAAAAAAAAACotR8+EW5pQSFAAa03f49BAAAAAAAAAAAAAAAAAAAAAEhk5RDXnTVBRDOjjs8KsEEZ8ryfJp1UQddG4emEt21BAAAAQESoUkEAAAAAAAAAAGnLFCNFIGxBXc0A6tMtN0IAAAA4L+C8QXE9Cl94YHJBiAIsTM94eUEWDZ5fe1h9Qf+yq29isZlBB1Ybc0PKYUEAAAAAAAAAAAAAAAAAAAAAAAAAQN1K30EAAAAAAAAAAHtmCXYA01FBAAAAwA8vUUHawOFXUiJTQWsOEJyTXzxBAAAAAAAAAAAXmjfQzpbPQVfDMH1PK0JBAAAAAGXNzUFRV68zk5piQQAAAABlzc1BAAAAAAAAAAAAAACK1Y3vQXJgh0tT5FlBAAAAAAAAAAAAAAAAAAAAAI8l0j4GBZJBAAAAQKQBakEAAAAAAAAAAAAAAACE16dBP8xZKrQocUFrLpJV8UdrQdwKBuwVpWpBYhS8MGbbqEEAAAAAAAAAAHBOQWIqBxBCkSxSxj/S20EAAAAAAAAAAAAAAAAAAAAAhCXzzZHWgEEAAAAAAAAAABKUkb0xpHNBk7g7UCkVOEHJ3fEnqDluQTXxyZ+vCXdBAAAAAAAAAAAAAAAACrRpQTMzM7MvyRhBzT1kaTfTgEEcRpysmS9sQQAAAABjBIFBn0T6MztrcUEAAAA4VPx3QfT+3KxthT1BTx7ABmy1HEKC2rfuAQtXQY25hs1rp2hB1Y1/4hbXJUEmwksDPphzQQAAAAAAAAAAbw+6QBy3p0EAAABosbbKQa3xPlFpaW1BAAAAAAAAAADOuQVlhu+IQQAAAIB02zFB0v7/r18slEE4zCGFrax2QQAAAABlzc1BAAAAAAAAAAAAAAAgX6ACQucdSFWdiAxCAAAAAAAAAAD7Pxej2H6KQSibcjLG6qxBAACA+gF/7EEAAAAAAAAAAAAAAAB//EpBSAVkYldGdkEAAABAkZ9zQV5Lxo9QwVBBb3jH/7teYkEWhX1YOgK6QQAAAAAAAAAAAAAABolAx0EfaH04ZTrNQQRW1esptRBCblAHmoN1vUFK5l0RC+x1QQAAAAA4nIxBAAAAAAAAAABprytpX40bQgAAAAAAAAAAmKOLO2EZuEG6qYxvxHmRQazh2s4mAahBrg+r0JO0mEEGieneXidNQZ9B3voiRlNBmTrBnTOdkEEMW5OKOR5wQSqiy4PdzZFBAAAAsPWcnEECmi3+fKACQomYYniZCq5BAAAAAAAAAACg/UgBgRgxQQAAAAAAAAAA0nu/vNIL9sEAAABAnW1JQag65AZOLwFBAAAAAITXl0HML86jjn2DQWx0lBDyCkFB2T2JBSNqzkH5eoiBgFp3QRSu13KMudBBAAAAAAAAAAAAAAAAZc3NQeQDm0GcpgRCAAAAAITXl0HZqskxyLRhQeGug6EzxXdBxfR7nv3PbEI8xrCIIPtkQQAAAABlzc1B847T/mTN3UGU+vLEjHpsQQAAgEGBNs1BAAAAYIbVW0FH2AHxb1T/QLRibtfgfnRB\",\"dtype\":\"float64\",\"order\":\"little\",\"shape\":[744]}},\"selected\":{\"id\":\"1123\"},\"selection_policy\":{\"id\":\"1157\"}},\"id\":\"1122\",\"type\":\"ColumnDataSource\"},{\"attributes\":{\"editor\":{\"id\":\"1125\"},\"field\":\"CoinName\",\"formatter\":{\"id\":\"1124\"},\"title\":\"CoinName\"},\"id\":\"1126\",\"type\":\"TableColumn\"},{\"attributes\":{},\"id\":\"1140\",\"type\":\"StringEditor\"},{\"attributes\":{\"margin\":[5,5,5,5],\"name\":\"HSpacer01800\",\"sizing_mode\":\"stretch_width\"},\"id\":\"1121\",\"type\":\"Spacer\"},{\"attributes\":{\"margin\":[5,5,5,5],\"name\":\"HSpacer01801\",\"sizing_mode\":\"stretch_width\"},\"id\":\"1161\",\"type\":\"Spacer\"},{\"attributes\":{},\"id\":\"1129\",\"type\":\"StringFormatter\"},{\"attributes\":{\"format\":\"0,0.0[00000]\"},\"id\":\"1144\",\"type\":\"NumberFormatter\"},{\"attributes\":{\"columns\":[{\"id\":\"1126\"},{\"id\":\"1131\"},{\"id\":\"1136\"},{\"id\":\"1141\"},{\"id\":\"1146\"},{\"id\":\"1151\"}],\"height\":300,\"reorderable\":false,\"source\":{\"id\":\"1122\"},\"view\":{\"id\":\"1156\"},\"width\":700},\"id\":\"1154\",\"type\":\"DataTable\"},{\"attributes\":{\"editor\":{\"id\":\"1140\"},\"field\":\"TotalCoinSupply\",\"formatter\":{\"id\":\"1139\"},\"title\":\"TotalCoinSupply\"},\"id\":\"1141\",\"type\":\"TableColumn\"},{\"attributes\":{},\"id\":\"1130\",\"type\":\"StringEditor\"},{\"attributes\":{},\"id\":\"1145\",\"type\":\"NumberEditor\"},{\"attributes\":{\"editor\":{\"id\":\"1130\"},\"field\":\"Algorithm\",\"formatter\":{\"id\":\"1129\"},\"title\":\"Algorithm\"},\"id\":\"1131\",\"type\":\"TableColumn\"},{\"attributes\":{},\"id\":\"1134\",\"type\":\"StringFormatter\"},{\"attributes\":{\"editor\":{\"id\":\"1145\"},\"field\":\"TotalCoinsMined\",\"formatter\":{\"id\":\"1144\"},\"title\":\"TotalCoinsMined\"},\"id\":\"1146\",\"type\":\"TableColumn\"}],\"root_ids\":[\"1120\"]},\"title\":\"Bokeh Application\",\"version\":\"2.3.2\"}};\n",
       "    var render_items = [{\"docid\":\"cf0a2649-f66f-4999-839a-45e9a84ae015\",\"root_ids\":[\"1120\"],\"roots\":{\"1120\":\"ecff1b28-685f-49b2-98a6-05b2c95135ca\"}}];\n",
       "    root.Bokeh.embed.embed_items_notebook(docs_json, render_items);\n",
       "  }\n",
       "  if (root.Bokeh !== undefined && root.Bokeh.Panel !== undefined) {\n",
       "    embed_document(root);\n",
       "  } else {\n",
       "    var attempts = 0;\n",
       "    var timer = setInterval(function(root) {\n",
       "      if (root.Bokeh !== undefined && root.Bokeh.Panel !== undefined) {\n",
       "        clearInterval(timer);\n",
       "        embed_document(root);\n",
       "      } else if (document.readyState == \"complete\") {\n",
       "        attempts++;\n",
       "        if (attempts > 200) {\n",
       "          clearInterval(timer);\n",
       "          console.log(\"Bokeh: ERROR: Unable to run BokehJS code because BokehJS library is missing\");\n",
       "        }\n",
       "      }\n",
       "    }, 25, root)\n",
       "  }\n",
       "})(window);</script>"
      ]
     },
     "metadata": {
      "application/vnd.holoviews_exec.v0+json": {
       "id": "1120"
      }
     },
     "execution_count": 29
    }
   ],
   "metadata": {
    "scrolled": true
   }
  },
  {
   "cell_type": "code",
   "execution_count": 30,
   "source": [
    "# Print the total number of tradable cryptocurrencies.\n",
    "# YOUR CODE HERE"
   ],
   "outputs": [],
   "metadata": {}
  },
  {
   "cell_type": "code",
   "execution_count": null,
   "source": [
    "# Scaling data to create the scatter plot with tradable cryptocurrencies.\n",
    "# YOUR CODE HERE"
   ],
   "outputs": [],
   "metadata": {}
  },
  {
   "cell_type": "code",
   "execution_count": null,
   "source": [
    "# Create a new DataFrame that has the scaled data with the clustered_df DataFrame index.\n",
    "# YOUR CODE HERE\n",
    "\n",
    "# Add the \"CoinName\" column from the clustered_df DataFrame to the new DataFrame.\n",
    "# YOUR CODE HERE\n",
    "\n",
    "# Add the \"Class\" column from the clustered_df DataFrame to the new DataFrame. \n",
    "# YOUR CODE HERE\n",
    "\n",
    "plot_df.head(10)"
   ],
   "outputs": [],
   "metadata": {}
  },
  {
   "cell_type": "code",
   "execution_count": null,
   "source": [
    "# Create a hvplot.scatter plot using x=\"TotalCoinsMined\" and y=\"TotalCoinSupply\".\n",
    "# YOUR CODE HERE\n"
   ],
   "outputs": [],
   "metadata": {}
  },
  {
   "cell_type": "code",
   "execution_count": null,
   "source": [],
   "outputs": [],
   "metadata": {}
  }
 ],
 "metadata": {
  "file_extension": ".py",
  "interpreter": {
   "hash": "2db23df55287076e5e06dbc2a25be1c28f6887b7e114e01f77185817184a681e"
  },
  "kernelspec": {
   "name": "python3",
   "display_name": "Python 3.7.7 64-bit ('mlenv': conda)"
  },
  "language_info": {
   "codemirror_mode": {
    "name": "ipython",
    "version": 3
   },
   "file_extension": ".py",
   "mimetype": "text/x-python",
   "name": "python",
   "nbconvert_exporter": "python",
   "pygments_lexer": "ipython3",
   "version": "3.7.7"
  },
  "latex_envs": {
   "LaTeX_envs_menu_present": true,
   "autoclose": false,
   "autocomplete": true,
   "bibliofile": "biblio.bib",
   "cite_by": "apalike",
   "current_citInitial": 1,
   "eqLabelWithNumbers": true,
   "eqNumInitial": 1,
   "hotkeys": {
    "equation": "Ctrl-E",
    "itemize": "Ctrl-I"
   },
   "labels_anchors": false,
   "latex_user_defs": false,
   "report_style_numbering": false,
   "user_envs_cfg": false
  },
  "mimetype": "text/x-python",
  "name": "python",
  "npconvert_exporter": "python",
  "pygments_lexer": "ipython3",
  "version": 3
 },
 "nbformat": 4,
 "nbformat_minor": 2
}